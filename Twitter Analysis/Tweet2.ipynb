{
  "nbformat": 4,
  "nbformat_minor": 0,
  "metadata": {
    "colab": {
      "name": "Manish_2018047_2.ipynb",
      "provenance": [],
      "collapsed_sections": []
    },
    "kernelspec": {
      "name": "python3",
      "display_name": "Python 3"
    },
    "language_info": {
      "name": "python"
    }
  },
  "cells": [
    {
      "cell_type": "code",
      "metadata": {
        "id": "JjDCQqTuUC0k"
      },
      "source": [
        "import tweepy\n",
        "import pickle"
      ],
      "execution_count": 3,
      "outputs": []
    },
    {
      "cell_type": "code",
      "metadata": {
        "id": "0Se5t200UMvJ"
      },
      "source": [
        "consumer_key=\"1hsXl8mzL52Rbf9XqyJaxJDKB\"\n",
        "consumer_secret=\"5EKzOB6W1upnN41n3f0GHUetIUG7EXlDrwLWK9rmp2gPeLANcs\"\n",
        "access_token=\"1359009092279304195-t5OKh9qfLQB64xq7ItqrNVM2621Led\"\n",
        "access_token_secret=\"7TLIDYS6pPqCldUlZZlRYbUupAJX0eWDzbgf1useIfD3C\""
      ],
      "execution_count": 4,
      "outputs": []
    },
    {
      "cell_type": "code",
      "metadata": {
        "id": "nmiqjCVjUNTS"
      },
      "source": [
        "auth = tweepy.OAuthHandler(consumer_key, consumer_secret)\n",
        "auth.set_access_token(access_token, access_token_secret)\n",
        "\n",
        "api = tweepy.API(auth)"
      ],
      "execution_count": 5,
      "outputs": []
    },
    {
      "cell_type": "code",
      "metadata": {
        "colab": {
          "base_uri": "https://localhost:8080/"
        },
        "id": "ZAHQ7dWsUNf2",
        "outputId": "3042faff-ca1d-4c71-9de3-44158866f15a"
      },
      "source": [
        "hashtweets=[]\n",
        "for status in tweepy.Cursor(api.search,q=\"#CSKvKKR\",tweet_mode='extended').items(1000):\n",
        "  hashtweets.append(status)\n",
        "\n",
        "len(hashtweets)"
      ],
      "execution_count": 8,
      "outputs": [
        {
          "output_type": "execute_result",
          "data": {
            "text/plain": [
              "1000"
            ]
          },
          "metadata": {
            "tags": []
          },
          "execution_count": 8
        }
      ]
    },
    {
      "cell_type": "code",
      "metadata": {
        "id": "mu7uUCHsUja1"
      },
      "source": [
        "len(hashtweets)\n",
        "hashtweets1=hashtweets"
      ],
      "execution_count": 9,
      "outputs": []
    },
    {
      "cell_type": "code",
      "metadata": {
        "id": "S43kD6VEUlg8"
      },
      "source": [
        "import pickle\n",
        "with open('hashtweet1k.pickle', 'wb') as f1:\n",
        "    pickle.dump(hashtweets, f1)\n"
      ],
      "execution_count": 10,
      "outputs": []
    },
    {
      "cell_type": "code",
      "metadata": {
        "id": "2cjKHw71UmVE"
      },
      "source": [
        "import pickle\n",
        "hashtweets1=[]\n",
        "with open('hashtweet1k.pickle', 'rb') as f1:\n",
        "    hashtweets1 = pickle.load(f1)\n",
        "len(hashtweets1)"
      ],
      "execution_count": null,
      "outputs": []
    },
    {
      "cell_type": "code",
      "metadata": {
        "id": "1h-6l-MTUvDo"
      },
      "source": [
        "hashtags=[]\n",
        "for i in hashtweets1:\n",
        "  curhash=i.entities['hashtags']\n",
        "  for k in curhash:\n",
        "    hashtags.append(k['text'])\n",
        "len(hashtags)"
      ],
      "execution_count": null,
      "outputs": []
    },
    {
      "cell_type": "code",
      "metadata": {
        "id": "X7RLoTWRU00-"
      },
      "source": [
        "import collections\n",
        "couhash = collections.Counter(hashtags)\n",
        "couhash=couhash.most_common(11)\n",
        "couhash"
      ],
      "execution_count": null,
      "outputs": []
    },
    {
      "cell_type": "code",
      "metadata": {
        "id": "hq_ulZw3U4xv"
      },
      "source": [
        "toptentweets=[]\n",
        "for it in range(0,q0):\n",
        "  tenhas=\"#\"+couhash[it][0]\n",
        "  temptweear=[]\n",
        "  print(tenhas)\n",
        "  for status in tweepy.Cursor(api.search,q=tenhas,tweet_mode='extended',wait_on_rate_limit=True).items(1000):\n",
        "    try:\n",
        "      temptweear.append(status)\n",
        "    except:\n",
        "      continue\n",
        "\n",
        "  toptentweets.append(temptweear)\n"
      ],
      "execution_count": 15,
      "outputs": []
    },
    {
      "cell_type": "code",
      "metadata": {
        "id": "H-w03HXDVIks"
      },
      "source": [
        "toptentweets.append(hashtweets1)\n"
      ],
      "execution_count": 16,
      "outputs": []
    },
    {
      "cell_type": "code",
      "metadata": {
        "id": "LrPLR5BUU5mF"
      },
      "source": [
        "with open('toptentweets.pickle', 'wb') as f1:\n",
        "    pickle.dump(toptentweets, f1)"
      ],
      "execution_count": null,
      "outputs": []
    },
    {
      "cell_type": "code",
      "metadata": {
        "id": "02rLKb16VcTG"
      },
      "source": [
        "toptentweets=[]\n",
        "import pickle\n",
        "\n",
        "with open('toptentweets.pickle', 'rb') as f1:\n",
        "    toptentweets = pickle.load(f1)\n"
      ],
      "execution_count": 17,
      "outputs": []
    },
    {
      "cell_type": "code",
      "metadata": {
        "id": "1bL26IEeV29z"
      },
      "source": [
        "f = open(\"section2tweets.txt\", \"x\")"
      ],
      "execution_count": 18,
      "outputs": []
    },
    {
      "cell_type": "code",
      "metadata": {
        "id": "qPURLlyuV6dC"
      },
      "source": [
        "for i in toptentweets:\n",
        "  for j in i:\n",
        "    f.write(j.id_str+\" \\n\")\n",
        "f.close()  "
      ],
      "execution_count": 19,
      "outputs": []
    },
    {
      "cell_type": "code",
      "metadata": {
        "colab": {
          "base_uri": "https://localhost:8080/"
        },
        "id": "cEdP8t-vV8w3",
        "outputId": "9e790282-2e2a-45a0-be8c-156466b14420"
      },
      "source": [
        "allht=[]\n",
        "for i in toptentweets:\n",
        "  for k in i:\n",
        "    curhash=k.entities['hashtags']\n",
        "    for j in curhash:\n",
        "      allht.append(j['text'])\n",
        "len(allht)\n"
      ],
      "execution_count": 20,
      "outputs": [
        {
          "output_type": "execute_result",
          "data": {
            "text/plain": [
              "33704"
            ]
          },
          "metadata": {
            "tags": []
          },
          "execution_count": 20
        }
      ]
    },
    {
      "cell_type": "code",
      "metadata": {
        "colab": {
          "base_uri": "https://localhost:8080/"
        },
        "id": "hgJTjmEfV_9B",
        "outputId": "842faffc-eb2e-4f19-87cd-3908736a1f2e"
      },
      "source": [
        "import collections\n",
        "couhash = collections.Counter(allht)\n",
        "cuhash1=couhash\n",
        "couhash=couhash.most_common(10)\n",
        "couhash"
      ],
      "execution_count": 21,
      "outputs": [
        {
          "output_type": "execute_result",
          "data": {
            "text/plain": [
              "[('IPL2021', 3614),\n",
              " ('WhistlePodu', 2908),\n",
              " ('Yellove', 2750),\n",
              " ('CSK', 1548),\n",
              " ('KKRvCSK', 1131),\n",
              " ('MI', 1103),\n",
              " ('KKR', 973),\n",
              " ('CSKvsKKR', 915),\n",
              " ('CSKvKKR', 876),\n",
              " ('IPL', 785)]"
            ]
          },
          "metadata": {
            "tags": []
          },
          "execution_count": 21
        }
      ]
    },
    {
      "cell_type": "code",
      "metadata": {
        "id": "jznB1L6wWCfU"
      },
      "source": [
        "cd=dict(couhash)\n",
        "hashtgpl=list(cd.keys())\n",
        "count=list(cd.values())\n",
        "catg1=hashtgpl\n",
        "cd"
      ],
      "execution_count": null,
      "outputs": []
    },
    {
      "cell_type": "code",
      "metadata": {
        "colab": {
          "base_uri": "https://localhost:8080/",
          "height": 637
        },
        "id": "mdOIV0vWWGn9",
        "outputId": "9770d916-15fe-4bd3-9dba-1c80d8f89917"
      },
      "source": [
        "import matplotlib.pyplot as plt\n",
        "import seaborn as sns\n",
        "fig,ax = plt.subplots(figsize=(10, 10))\n",
        "all_plot=sns.barplot(x=hashtgpl,y=count,ax=ax)\n",
        "ax.set_title('Most Number of Occurences')\n",
        "  #plt.rcParams['font.size'] = '10'\n",
        "\n",
        "plt.xticks(rotation=30);"
      ],
      "execution_count": 23,
      "outputs": [
        {
          "output_type": "display_data",
          "data": {
            "image/png": "[encoded data removed]",
            "text/plain": [
              "<Figure size 720x720 with 1 Axes>"
            ]
          },
          "metadata": {
            "tags": [],
            "needs_background": "light"
          }
        }
      ]
    },
    {
      "cell_type": "code",
      "metadata": {
        "id": "KHN5d-HAWHSe"
      },
      "source": [
        "import copy\n",
        "cuhash1 = dict.fromkeys(cuhash1, 0)\n",
        "cuhash2=copy.deepcopy(cuhash1)\n"
      ],
      "execution_count": 53,
      "outputs": []
    },
    {
      "cell_type": "code",
      "metadata": {
        "id": "CHHHFPJ-WKu2"
      },
      "source": [
        "allliked={}\n",
        "for i in toptentweets:\n",
        "  for k in i:\n",
        "    curhash=k.entities['hashtags']\n",
        "    likec=k.favorite_count\n",
        "    \n",
        "    if likec != 0:\n",
        "      \n",
        "      for j in curhash:\n",
        "        \n",
        "        cuhash1[j['text']] = cuhash1[j['text']]+ likec\n",
        "\n",
        "\n",
        "\n"
      ],
      "execution_count": 54,
      "outputs": []
    },
    {
      "cell_type": "code",
      "metadata": {
        "id": "HBKlzPD4WM7O"
      },
      "source": [
        "import operator\n",
        "cuhash1\n",
        "sorted_d = collections.Counter(cuhash1)\n",
        "sorted_d=sorted_d.most_common(10)\n"
      ],
      "execution_count": 55,
      "outputs": []
    },
    {
      "cell_type": "code",
      "metadata": {
        "id": "7TmuIVVxWQ-c"
      },
      "source": [
        "cd=dict(sorted_d)\n",
        "hashtgpl=list(cd.keys())\n",
        "count=list(cd.values())\n",
        "catg2=hashtgpl\n",
        "cd"
      ],
      "execution_count": null,
      "outputs": []
    },
    {
      "cell_type": "code",
      "metadata": {
        "colab": {
          "base_uri": "https://localhost:8080/",
          "height": 637
        },
        "id": "nL1073jdWTS5",
        "outputId": "88ad7b5d-2296-4630-8c55-d2c6ab230978"
      },
      "source": [
        "import matplotlib.pyplot as plt\n",
        "import seaborn as sns\n",
        "fig,ax = plt.subplots(figsize=(10, 10))\n",
        "all_plot=sns.barplot(x=hashtgpl,y=count,ax=ax)\n",
        "ax.set_title('Most Likes')\n",
        "  #plt.rcParams['font.size'] = '10'\n",
        "\n",
        "plt.xticks(rotation=30);"
      ],
      "execution_count": 57,
      "outputs": [
        {
          "output_type": "display_data",
          "data": {
            "image/png": "[encoded data removed]",
            "text/plain": [
              "<Figure size 720x720 with 1 Axes>"
            ]
          },
          "metadata": {
            "tags": [],
            "needs_background": "light"
          }
        }
      ]
    },
    {
      "cell_type": "code",
      "metadata": {
        "id": "RibqQ7C1asAi"
      },
      "source": [
        "cuhash2"
      ],
      "execution_count": null,
      "outputs": []
    },
    {
      "cell_type": "code",
      "metadata": {
        "id": "kRXvrjaRWayp"
      },
      "source": [
        "\n",
        "alletweets={}\n",
        "for i in toptentweets:\n",
        "  for k in i:\n",
        "    curhasht=k.entities['hashtags']\n",
        "    try:\n",
        "      retcou=k.retweeted_status\n",
        "      for j in curhasht:\n",
        "          cuhash2[j['text']] = cuhash2[j['text']]+ 1\n",
        "\n",
        "    except:\n",
        "      continue\n",
        "\n",
        "\n",
        "\n"
      ],
      "execution_count": 59,
      "outputs": []
    },
    {
      "cell_type": "code",
      "metadata": {
        "colab": {
          "base_uri": "https://localhost:8080/"
        },
        "id": "yVZMbAneWdGh",
        "outputId": "4b3b96c6-6e0c-42f3-ee74-7ce50b247f9e"
      },
      "source": [
        "\n",
        "\n",
        "sorted_d = collections.Counter(cuhash2)\n",
        "sorted_d=sorted_d.most_common(10)\n",
        "sorted_d"
      ],
      "execution_count": 60,
      "outputs": [
        {
          "output_type": "execute_result",
          "data": {
            "text/plain": [
              "[('WhistlePodu', 2837),\n",
              " ('Yellove', 2709),\n",
              " ('IPL2021', 2140),\n",
              " ('CSK', 1333),\n",
              " ('KKRvCSK', 1099),\n",
              " ('CSKvsKKR', 846),\n",
              " ('MI', 816),\n",
              " ('CSKvKKR', 747),\n",
              " ('KKR', 735),\n",
              " ('RCB', 571)]"
            ]
          },
          "metadata": {
            "tags": []
          },
          "execution_count": 60
        }
      ]
    },
    {
      "cell_type": "code",
      "metadata": {
        "id": "T4v7zvFtWfZf"
      },
      "source": [
        "cd=dict(sorted_d)\n",
        "hashtgpl=list(cd.keys())\n",
        "count=list(cd.values())\n",
        "catg3=hashtgpl\n",
        "cd"
      ],
      "execution_count": null,
      "outputs": []
    },
    {
      "cell_type": "code",
      "metadata": {
        "colab": {
          "base_uri": "https://localhost:8080/",
          "height": 637
        },
        "id": "ZKeRXNODWhm1",
        "outputId": "f555a3a0-8dfd-4d62-8616-53b6a3943b46"
      },
      "source": [
        "import matplotlib.pyplot as plt\n",
        "import seaborn as sns\n",
        "fig,ax = plt.subplots(figsize=(10, 10))\n",
        "all_plot=sns.barplot(x=hashtgpl,y=count,ax=ax)\n",
        "ax.set_title('Most  Retweet  Count')\n",
        "  #plt.rcParams['font.size'] = '10'\n",
        "\n",
        "plt.xticks(rotation=30);"
      ],
      "execution_count": 62,
      "outputs": [
        {
          "output_type": "display_data",
          "data": {
            "image/png": "[encoded data removed]",
            "text/plain": [
              "<Figure size 720x720 with 1 Axes>"
            ]
          },
          "metadata": {
            "tags": [],
            "needs_background": "light"
          }
        }
      ]
    },
    {
      "cell_type": "code",
      "metadata": {
        "colab": {
          "base_uri": "https://localhost:8080/"
        },
        "id": "n6KPyh69WiWD",
        "outputId": "1ca70bfc-227c-469c-c7ff-cc5264ea9d14"
      },
      "source": [
        "tableonerper=[]\n",
        "for h in catg1:\n",
        "  print(h)\n",
        "  nor=0\n",
        "  retw=0\n",
        "  for i in toptentweets:\n",
        "    for j in i:\n",
        "      curhasht=j.entities['hashtags']\n",
        "      for t in curhasht:\n",
        "       # print(t['text'])\n",
        "        if t['text']== h:\n",
        "          try:\n",
        "            tem=j.retweeted_status\n",
        "            retw=retw+1\n",
        "          except:\n",
        "            nor=nor+1\n",
        "\n",
        "        \n",
        "\n",
        "  tableonerper.append(retw/(retw+nor))\n",
        "\n",
        "\n"
      ],
      "execution_count": 33,
      "outputs": [
        {
          "output_type": "stream",
          "text": [
            "IPL2021\n",
            "WhistlePodu\n",
            "Yellove\n",
            "CSK\n",
            "KKRvCSK\n",
            "MI\n",
            "KKR\n",
            "CSKvsKKR\n",
            "CSKvKKR\n",
            "IPL\n"
          ],
          "name": "stdout"
        }
      ]
    },
    {
      "cell_type": "code",
      "metadata": {
        "colab": {
          "base_uri": "https://localhost:8080/"
        },
        "id": "rgy2lB1uWobF",
        "outputId": "a0866474-4b13-4c92-f525-5405207336d4"
      },
      "source": [
        "tableone50user=[]\n",
        "tableoneavguser=[]\n",
        "\n",
        "for h in catg1:\n",
        "  print(h)\n",
        "  allusers=[]\n",
        "\n",
        "  for i in toptentweets:\n",
        "    for j in i:\n",
        "      curhasht=j.entities['hashtags']\n",
        "      for t in curhasht:\n",
        "       \n",
        "       # print(t['text'])\n",
        "        if t['text']== h:\n",
        "          allusers.append(j.user.id)\n",
        "  sorted_d = collections.Counter(allusers)\n",
        "  tableoneavguser.append(len(allusers)/len(sorted_d))\n",
        "  sorted_d=sorted_d.most_common(50)\n",
        "  cd=dict(sorted_d)\n",
        "  count=list(cd.values())\n",
        "  tableone50user.append(sum(count)/len(allusers))\n",
        "\n",
        "        \n",
        "\n",
        "  \n",
        "\n"
      ],
      "execution_count": 34,
      "outputs": [
        {
          "output_type": "stream",
          "text": [
            "IPL2021\n",
            "WhistlePodu\n",
            "Yellove\n",
            "CSK\n",
            "KKRvCSK\n",
            "MI\n",
            "KKR\n",
            "CSKvsKKR\n",
            "CSKvKKR\n",
            "IPL\n"
          ],
          "name": "stdout"
        }
      ]
    },
    {
      "cell_type": "code",
      "metadata": {
        "id": "2eZ3mC0bWtvm"
      },
      "source": [
        "for i in range (0,len(tableone50user)):\n",
        "  tableonerper[i]=tableonerper[i]*100\n",
        "  tableone50user[i]=tableone50user[i]*100\n",
        "  \n"
      ],
      "execution_count": 35,
      "outputs": []
    },
    {
      "cell_type": "code",
      "metadata": {
        "id": "hvJJahSeWwAb"
      },
      "source": [
        "tableonescore=[]\n",
        "for i in range (0,len(tableone50user)):\n",
        "  tableonescore.append(tableonerper[i]/10+tableoneavguser[i]+tableone50user[i])\n",
        "  tableonerper[i]=tableonerper[i]/10\n"
      ],
      "execution_count": 36,
      "outputs": []
    },
    {
      "cell_type": "code",
      "metadata": {
        "colab": {
          "base_uri": "https://localhost:8080/",
          "height": 359
        },
        "id": "FWKAFe9VWyQY",
        "outputId": "3929c4c3-0a52-4848-ffd5-2713488e7636"
      },
      "source": [
        "import pandas as pd\n",
        "\n",
        "tab1data = {'Hashtag':catg1,\n",
        "        'R/10':tableonerper,\n",
        "        'F':tableone50user,\n",
        "        'U':tableoneavguser,\n",
        "        'C':tableonescore}\n",
        "\n",
        "tab1df = pd.DataFrame(tab1data)\n",
        "\n",
        "tab1df"
      ],
      "execution_count": 37,
      "outputs": [
        {
          "output_type": "execute_result",
          "data": {
            "text/html": [
              "<div>\n",
              "<style scoped>\n",
              "    .dataframe tbody tr th:only-of-type {\n",
              "        vertical-align: middle;\n",
              "    }\n",
              "\n",
              "    .dataframe tbody tr th {\n",
              "        vertical-align: top;\n",
              "    }\n",
              "\n",
              "    .dataframe thead th {\n",
              "        text-align: right;\n",
              "    }\n",
              "</style>\n",
              "<table border=\"1\" class=\"dataframe\">\n",
              "  <thead>\n",
              "    <tr style=\"text-align: right;\">\n",
              "      <th></th>\n",
              "      <th>Hashtag</th>\n",
              "      <th>R/10</th>\n",
              "      <th>F</th>\n",
              "      <th>U</th>\n",
              "      <th>C</th>\n",
              "    </tr>\n",
              "  </thead>\n",
              "  <tbody>\n",
              "    <tr>\n",
              "      <th>0</th>\n",
              "      <td>IPL2021</td>\n",
              "      <td>5.921417</td>\n",
              "      <td>16.325401</td>\n",
              "      <td>1.547752</td>\n",
              "      <td>23.794570</td>\n",
              "    </tr>\n",
              "    <tr>\n",
              "      <th>1</th>\n",
              "      <td>WhistlePodu</td>\n",
              "      <td>9.755846</td>\n",
              "      <td>12.345254</td>\n",
              "      <td>1.539439</td>\n",
              "      <td>23.640539</td>\n",
              "    </tr>\n",
              "    <tr>\n",
              "      <th>2</th>\n",
              "      <td>Yellove</td>\n",
              "      <td>9.850909</td>\n",
              "      <td>11.672727</td>\n",
              "      <td>1.506849</td>\n",
              "      <td>23.030486</td>\n",
              "    </tr>\n",
              "    <tr>\n",
              "      <th>3</th>\n",
              "      <td>CSK</td>\n",
              "      <td>8.611111</td>\n",
              "      <td>12.726098</td>\n",
              "      <td>1.333333</td>\n",
              "      <td>22.670543</td>\n",
              "    </tr>\n",
              "    <tr>\n",
              "      <th>4</th>\n",
              "      <td>KKRvCSK</td>\n",
              "      <td>9.717065</td>\n",
              "      <td>14.146773</td>\n",
              "      <td>1.140121</td>\n",
              "      <td>25.003958</td>\n",
              "    </tr>\n",
              "    <tr>\n",
              "      <th>5</th>\n",
              "      <td>MI</td>\n",
              "      <td>7.398005</td>\n",
              "      <td>19.492294</td>\n",
              "      <td>1.426908</td>\n",
              "      <td>28.317207</td>\n",
              "    </tr>\n",
              "    <tr>\n",
              "      <th>6</th>\n",
              "      <td>KKR</td>\n",
              "      <td>7.553957</td>\n",
              "      <td>14.902364</td>\n",
              "      <td>1.318428</td>\n",
              "      <td>23.774749</td>\n",
              "    </tr>\n",
              "    <tr>\n",
              "      <th>7</th>\n",
              "      <td>CSKvsKKR</td>\n",
              "      <td>9.245902</td>\n",
              "      <td>15.409836</td>\n",
              "      <td>1.186770</td>\n",
              "      <td>25.842508</td>\n",
              "    </tr>\n",
              "    <tr>\n",
              "      <th>8</th>\n",
              "      <td>CSKvKKR</td>\n",
              "      <td>8.527397</td>\n",
              "      <td>21.689498</td>\n",
              "      <td>1.242553</td>\n",
              "      <td>31.459448</td>\n",
              "    </tr>\n",
              "    <tr>\n",
              "      <th>9</th>\n",
              "      <td>IPL</td>\n",
              "      <td>5.579618</td>\n",
              "      <td>23.949045</td>\n",
              "      <td>1.328257</td>\n",
              "      <td>30.856920</td>\n",
              "    </tr>\n",
              "  </tbody>\n",
              "</table>\n",
              "</div>"
            ],
            "text/plain": [
              "       Hashtag      R/10          F         U          C\n",
              "0      IPL2021  5.921417  16.325401  1.547752  23.794570\n",
              "1  WhistlePodu  9.755846  12.345254  1.539439  23.640539\n",
              "2      Yellove  9.850909  11.672727  1.506849  23.030486\n",
              "3          CSK  8.611111  12.726098  1.333333  22.670543\n",
              "4      KKRvCSK  9.717065  14.146773  1.140121  25.003958\n",
              "5           MI  7.398005  19.492294  1.426908  28.317207\n",
              "6          KKR  7.553957  14.902364  1.318428  23.774749\n",
              "7     CSKvsKKR  9.245902  15.409836  1.186770  25.842508\n",
              "8      CSKvKKR  8.527397  21.689498  1.242553  31.459448\n",
              "9          IPL  5.579618  23.949045  1.328257  30.856920"
            ]
          },
          "metadata": {
            "tags": []
          },
          "execution_count": 37
        }
      ]
    },
    {
      "cell_type": "code",
      "metadata": {
        "colab": {
          "base_uri": "https://localhost:8080/"
        },
        "id": "6zvlfgGhW0gT",
        "outputId": "b74f37e3-2c83-4a51-d312-6aa678c7c4cc"
      },
      "source": [
        "tabletworper=[]\n",
        "for h in catg2:\n",
        "  print(h)\n",
        "  nor=0\n",
        "  retw=0\n",
        "  for i in toptentweets:\n",
        "    for j in i:\n",
        "      curhasht=j.entities['hashtags']\n",
        "      for t in curhasht:\n",
        "       # print(t['text'])\n",
        "        if t['text']== h:\n",
        "          try:\n",
        "            tem=j.retweeted_status\n",
        "            retw=retw+1\n",
        "          except:\n",
        "            nor=nor+1\n",
        "\n",
        "        \n",
        "\n",
        "  tabletworper.append(retw/(retw+nor))\n",
        "tabletworper\n"
      ],
      "execution_count": 38,
      "outputs": [
        {
          "output_type": "stream",
          "text": [
            "IPL2021\n",
            "MI\n",
            "PBKSvMI\n",
            "KKR\n",
            "CSK\n",
            "WhistlePodu\n",
            "Yellove\n",
            "PBKS\n",
            "RR\n",
            "DC\n"
          ],
          "name": "stdout"
        },
        {
          "output_type": "execute_result",
          "data": {
            "text/plain": [
              "[0.5921416712783619,\n",
              " 0.7398005439709883,\n",
              " 0.5794520547945206,\n",
              " 0.7553956834532374,\n",
              " 0.8611111111111112,\n",
              " 0.9755845942228336,\n",
              " 0.9850909090909091,\n",
              " 0.6228323699421965,\n",
              " 0.8407643312101911,\n",
              " 0.9168646080760094]"
            ]
          },
          "metadata": {
            "tags": []
          },
          "execution_count": 38
        }
      ]
    },
    {
      "cell_type": "code",
      "metadata": {
        "id": "F7r--t1CW0tV"
      },
      "source": [
        "\n",
        "tabletwo50user=[]\n",
        "tabletwoavguser=[]\n",
        "\n",
        "for h in catg2:\n",
        "  \n",
        "  allusers=[]\n",
        "\n",
        "  for i in toptentweets:\n",
        "    for j in i:\n",
        "      curhasht=j.entities['hashtags']\n",
        "      for t in curhasht:\n",
        "       \n",
        "       # print(t['text'])\n",
        "        if t['text']== h:\n",
        "          allusers.append(j.user.id)\n",
        "  sorted_d = collections.Counter(allusers)\n",
        "  tabletwoavguser.append(len(allusers)/len(sorted_d))\n",
        "  sorted_d=sorted_d.most_common(50)\n",
        "  cd=dict(sorted_d)\n",
        "  count=list(cd.values())\n",
        "  tabletwo50user.append(sum(count)/len(allusers))\n",
        "\n",
        "        \n",
        "for i in range (0,len(tabletwo50user)):\n",
        "  tabletworper[i]=tabletworper[i]*100\n",
        "  tabletwo50user[i]=tabletwo50user[i]*100\n"
      ],
      "execution_count": 39,
      "outputs": []
    },
    {
      "cell_type": "code",
      "metadata": {
        "id": "BMUYsquGW8b_"
      },
      "source": [
        "\n",
        "tabletwoscore=[]\n",
        "for i in range (0,len(tabletwo50user)):\n",
        "  tabletwoscore.append(tabletworper[i]/10+tabletwoavguser[i]+tabletwo50user[i])\n",
        "  tabletworper[i]=tabletworper[i]/10  \n",
        "\n",
        "\n"
      ],
      "execution_count": 40,
      "outputs": []
    },
    {
      "cell_type": "code",
      "metadata": {
        "colab": {
          "base_uri": "https://localhost:8080/",
          "height": 359
        },
        "id": "6c1CC_lVXAJW",
        "outputId": "81a5e6fb-220f-4c5d-a5e4-b11aec955188"
      },
      "source": [
        "tab2data = {'Hashtag':catg2,\n",
        "        'R/10':tabletworper,\n",
        "        'F':tabletwo50user,\n",
        "        'U':tabletwoavguser,\n",
        "        'C':tabletwoscore}\n",
        "\n",
        "tab2df = pd.DataFrame(tab2data)\n",
        "\n",
        "tab2df"
      ],
      "execution_count": 41,
      "outputs": [
        {
          "output_type": "execute_result",
          "data": {
            "text/html": [
              "<div>\n",
              "<style scoped>\n",
              "    .dataframe tbody tr th:only-of-type {\n",
              "        vertical-align: middle;\n",
              "    }\n",
              "\n",
              "    .dataframe tbody tr th {\n",
              "        vertical-align: top;\n",
              "    }\n",
              "\n",
              "    .dataframe thead th {\n",
              "        text-align: right;\n",
              "    }\n",
              "</style>\n",
              "<table border=\"1\" class=\"dataframe\">\n",
              "  <thead>\n",
              "    <tr style=\"text-align: right;\">\n",
              "      <th></th>\n",
              "      <th>Hashtag</th>\n",
              "      <th>R/10</th>\n",
              "      <th>F</th>\n",
              "      <th>U</th>\n",
              "      <th>C</th>\n",
              "    </tr>\n",
              "  </thead>\n",
              "  <tbody>\n",
              "    <tr>\n",
              "      <th>0</th>\n",
              "      <td>IPL2021</td>\n",
              "      <td>5.921417</td>\n",
              "      <td>16.325401</td>\n",
              "      <td>1.547752</td>\n",
              "      <td>23.794570</td>\n",
              "    </tr>\n",
              "    <tr>\n",
              "      <th>1</th>\n",
              "      <td>MI</td>\n",
              "      <td>7.398005</td>\n",
              "      <td>19.492294</td>\n",
              "      <td>1.426908</td>\n",
              "      <td>28.317207</td>\n",
              "    </tr>\n",
              "    <tr>\n",
              "      <th>2</th>\n",
              "      <td>PBKSvMI</td>\n",
              "      <td>5.794521</td>\n",
              "      <td>28.767123</td>\n",
              "      <td>1.468813</td>\n",
              "      <td>36.030457</td>\n",
              "    </tr>\n",
              "    <tr>\n",
              "      <th>3</th>\n",
              "      <td>KKR</td>\n",
              "      <td>7.553957</td>\n",
              "      <td>14.902364</td>\n",
              "      <td>1.318428</td>\n",
              "      <td>23.774749</td>\n",
              "    </tr>\n",
              "    <tr>\n",
              "      <th>4</th>\n",
              "      <td>CSK</td>\n",
              "      <td>8.611111</td>\n",
              "      <td>12.726098</td>\n",
              "      <td>1.333333</td>\n",
              "      <td>22.670543</td>\n",
              "    </tr>\n",
              "    <tr>\n",
              "      <th>5</th>\n",
              "      <td>WhistlePodu</td>\n",
              "      <td>9.755846</td>\n",
              "      <td>12.345254</td>\n",
              "      <td>1.539439</td>\n",
              "      <td>23.640539</td>\n",
              "    </tr>\n",
              "    <tr>\n",
              "      <th>6</th>\n",
              "      <td>Yellove</td>\n",
              "      <td>9.850909</td>\n",
              "      <td>11.672727</td>\n",
              "      <td>1.506849</td>\n",
              "      <td>23.030486</td>\n",
              "    </tr>\n",
              "    <tr>\n",
              "      <th>7</th>\n",
              "      <td>PBKS</td>\n",
              "      <td>6.228324</td>\n",
              "      <td>19.653179</td>\n",
              "      <td>1.346304</td>\n",
              "      <td>27.227806</td>\n",
              "    </tr>\n",
              "    <tr>\n",
              "      <th>8</th>\n",
              "      <td>RR</td>\n",
              "      <td>8.407643</td>\n",
              "      <td>17.834395</td>\n",
              "      <td>1.302905</td>\n",
              "      <td>27.544943</td>\n",
              "    </tr>\n",
              "    <tr>\n",
              "      <th>9</th>\n",
              "      <td>DC</td>\n",
              "      <td>9.168646</td>\n",
              "      <td>23.990499</td>\n",
              "      <td>1.303406</td>\n",
              "      <td>34.462550</td>\n",
              "    </tr>\n",
              "  </tbody>\n",
              "</table>\n",
              "</div>"
            ],
            "text/plain": [
              "       Hashtag      R/10          F         U          C\n",
              "0      IPL2021  5.921417  16.325401  1.547752  23.794570\n",
              "1           MI  7.398005  19.492294  1.426908  28.317207\n",
              "2      PBKSvMI  5.794521  28.767123  1.468813  36.030457\n",
              "3          KKR  7.553957  14.902364  1.318428  23.774749\n",
              "4          CSK  8.611111  12.726098  1.333333  22.670543\n",
              "5  WhistlePodu  9.755846  12.345254  1.539439  23.640539\n",
              "6      Yellove  9.850909  11.672727  1.506849  23.030486\n",
              "7         PBKS  6.228324  19.653179  1.346304  27.227806\n",
              "8           RR  8.407643  17.834395  1.302905  27.544943\n",
              "9           DC  9.168646  23.990499  1.303406  34.462550"
            ]
          },
          "metadata": {
            "tags": []
          },
          "execution_count": 41
        }
      ]
    },
    {
      "cell_type": "code",
      "metadata": {
        "id": "TSU_T36hXCuk"
      },
      "source": [
        "tablethreerper=[]\n",
        "for h in catg3:\n",
        "  print(h)\n",
        "  nor=0\n",
        "  retw=0\n",
        "  for i in toptentweets:\n",
        "    for j in i:\n",
        "      curhasht=j.entities['hashtags']\n",
        "      for t in curhasht:\n",
        "       # print(t['text'])\n",
        "        if t['text']== h:\n",
        "          try:\n",
        "            tem=j.retweeted_status\n",
        "            retw=retw+1\n",
        "          except:\n",
        "            nor=nor+1\n",
        "\n",
        "        \n",
        "\n",
        "  tablethreerper.append(retw/(retw+nor))\n",
        "tablethreerper\n",
        "\n",
        "tablethree50user=[]\n",
        "tablethreeavguser=[]\n",
        "\n",
        "for h in catg3:\n",
        "  \n",
        "  allusers=[]\n",
        "\n",
        "  for i in toptentweets:\n",
        "    for j in i:\n",
        "      curhasht=j.entities['hashtags']\n",
        "      for t in curhasht:\n",
        "       \n",
        "       # print(t['text'])\n",
        "        if t['text']== h:\n",
        "          allusers.append(j.user.id)\n",
        "  sorted_d = collections.Counter(allusers)\n",
        "  tablethreeavguser.append(len(allusers)/len(sorted_d))\n",
        "  sorted_d=sorted_d.most_common(50)\n",
        "  cd=dict(sorted_d)\n",
        "  count=list(cd.values())\n",
        "  tablethree50user.append(sum(count)/len(allusers))\n",
        "\n",
        "        \n",
        "for i in range (0,len(tablethree50user)):\n",
        "  tablethreerper[i]=tablethreerper[i]*100\n",
        "  tablethree50user[i]=tablethree50user[i]*100\n",
        "\n",
        "tablethree50user\n"
      ],
      "execution_count": null,
      "outputs": []
    },
    {
      "cell_type": "code",
      "metadata": {
        "id": "VGMUQbRAXDdG"
      },
      "source": [
        "tablethreescore=[]\n",
        "for i in range (0,len(tablethree50user)):\n",
        "  tablethreescore.append(tablethreerper[i]/10+tablethreeavguser[i]+tablethree50user[i])\n",
        "  tablethreerper[i]=tablethreerper[i]/10  \n"
      ],
      "execution_count": 43,
      "outputs": []
    },
    {
      "cell_type": "code",
      "metadata": {
        "colab": {
          "base_uri": "https://localhost:8080/",
          "height": 359
        },
        "id": "Ql-XDaXpXFtd",
        "outputId": "86ccb875-14ab-4305-a3a8-4a971a3e6a86"
      },
      "source": [
        "tab3data = {'Hashtag':catg3,\n",
        "        'R/10':tablethreerper,\n",
        "        'F':tablethree50user,\n",
        "        'U':tablethreeavguser,\n",
        "        'C':tablethreescore}\n",
        "\n",
        "tab3df = pd.DataFrame(tab3data)\n",
        "\n",
        "tab3df"
      ],
      "execution_count": 44,
      "outputs": [
        {
          "output_type": "execute_result",
          "data": {
            "text/html": [
              "<div>\n",
              "<style scoped>\n",
              "    .dataframe tbody tr th:only-of-type {\n",
              "        vertical-align: middle;\n",
              "    }\n",
              "\n",
              "    .dataframe tbody tr th {\n",
              "        vertical-align: top;\n",
              "    }\n",
              "\n",
              "    .dataframe thead th {\n",
              "        text-align: right;\n",
              "    }\n",
              "</style>\n",
              "<table border=\"1\" class=\"dataframe\">\n",
              "  <thead>\n",
              "    <tr style=\"text-align: right;\">\n",
              "      <th></th>\n",
              "      <th>Hashtag</th>\n",
              "      <th>R/10</th>\n",
              "      <th>F</th>\n",
              "      <th>U</th>\n",
              "      <th>C</th>\n",
              "    </tr>\n",
              "  </thead>\n",
              "  <tbody>\n",
              "    <tr>\n",
              "      <th>0</th>\n",
              "      <td>IPL2021</td>\n",
              "      <td>5.921417</td>\n",
              "      <td>16.325401</td>\n",
              "      <td>1.547752</td>\n",
              "      <td>23.794570</td>\n",
              "    </tr>\n",
              "    <tr>\n",
              "      <th>1</th>\n",
              "      <td>MI</td>\n",
              "      <td>7.398005</td>\n",
              "      <td>19.492294</td>\n",
              "      <td>1.426908</td>\n",
              "      <td>28.317207</td>\n",
              "    </tr>\n",
              "    <tr>\n",
              "      <th>2</th>\n",
              "      <td>WhistlePodu</td>\n",
              "      <td>9.755846</td>\n",
              "      <td>12.345254</td>\n",
              "      <td>1.539439</td>\n",
              "      <td>23.640539</td>\n",
              "    </tr>\n",
              "    <tr>\n",
              "      <th>3</th>\n",
              "      <td>Yellove</td>\n",
              "      <td>9.850909</td>\n",
              "      <td>11.672727</td>\n",
              "      <td>1.506849</td>\n",
              "      <td>23.030486</td>\n",
              "    </tr>\n",
              "    <tr>\n",
              "      <th>4</th>\n",
              "      <td>PBKSvMI</td>\n",
              "      <td>5.794521</td>\n",
              "      <td>28.767123</td>\n",
              "      <td>1.468813</td>\n",
              "      <td>36.030457</td>\n",
              "    </tr>\n",
              "    <tr>\n",
              "      <th>5</th>\n",
              "      <td>KKR</td>\n",
              "      <td>7.553957</td>\n",
              "      <td>14.902364</td>\n",
              "      <td>1.318428</td>\n",
              "      <td>23.774749</td>\n",
              "    </tr>\n",
              "    <tr>\n",
              "      <th>6</th>\n",
              "      <td>CSK</td>\n",
              "      <td>8.611111</td>\n",
              "      <td>12.726098</td>\n",
              "      <td>1.333333</td>\n",
              "      <td>22.670543</td>\n",
              "    </tr>\n",
              "    <tr>\n",
              "      <th>7</th>\n",
              "      <td>PBKS</td>\n",
              "      <td>6.228324</td>\n",
              "      <td>19.653179</td>\n",
              "      <td>1.346304</td>\n",
              "      <td>27.227806</td>\n",
              "    </tr>\n",
              "    <tr>\n",
              "      <th>8</th>\n",
              "      <td>RR</td>\n",
              "      <td>8.407643</td>\n",
              "      <td>17.834395</td>\n",
              "      <td>1.302905</td>\n",
              "      <td>27.544943</td>\n",
              "    </tr>\n",
              "    <tr>\n",
              "      <th>9</th>\n",
              "      <td>DC</td>\n",
              "      <td>9.168646</td>\n",
              "      <td>23.990499</td>\n",
              "      <td>1.303406</td>\n",
              "      <td>34.462550</td>\n",
              "    </tr>\n",
              "  </tbody>\n",
              "</table>\n",
              "</div>"
            ],
            "text/plain": [
              "       Hashtag      R/10          F         U          C\n",
              "0      IPL2021  5.921417  16.325401  1.547752  23.794570\n",
              "1           MI  7.398005  19.492294  1.426908  28.317207\n",
              "2  WhistlePodu  9.755846  12.345254  1.539439  23.640539\n",
              "3      Yellove  9.850909  11.672727  1.506849  23.030486\n",
              "4      PBKSvMI  5.794521  28.767123  1.468813  36.030457\n",
              "5          KKR  7.553957  14.902364  1.318428  23.774749\n",
              "6          CSK  8.611111  12.726098  1.333333  22.670543\n",
              "7         PBKS  6.228324  19.653179  1.346304  27.227806\n",
              "8           RR  8.407643  17.834395  1.302905  27.544943\n",
              "9           DC  9.168646  23.990499  1.303406  34.462550"
            ]
          },
          "metadata": {
            "tags": []
          },
          "execution_count": 44
        }
      ]
    },
    {
      "cell_type": "code",
      "metadata": {
        "id": "TreYQoOSXFwL"
      },
      "source": [
        ""
      ],
      "execution_count": null,
      "outputs": []
    }
  ]
}
