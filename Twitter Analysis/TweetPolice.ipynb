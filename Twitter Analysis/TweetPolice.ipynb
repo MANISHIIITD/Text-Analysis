{
  "nbformat": 4,
  "nbformat_minor": 0,
  "metadata": {
    "colab": {
      "name": "Manish_2018047_1.ipynb",
      "provenance": [],
      "collapsed_sections": []
    },
    "kernelspec": {
      "display_name": "Python 3",
      "name": "python3"
    },
    "language_info": {
      "name": "python"
    }
  },
  "cells": [
    {
      "cell_type": "code",
      "metadata": {
        "id": "aOMtgrSV2fPY"
      },
      "source": [
        ""
      ],
      "execution_count": null,
      "outputs": []
    },
    {
      "cell_type": "code",
      "metadata": {
        "id": "Kn4dww0525zp"
      },
      "source": [
        "import tweepy\n",
        "import pickle"
      ],
      "execution_count": 188,
      "outputs": []
    },
    {
      "cell_type": "code",
      "metadata": {
        "id": "04eBPeBXTGAP"
      },
      "source": [
        "consumer_key=\"1hsXl8mzL52Rbf9XqyJaxJDKB\"\n",
        "consumer_secret=\"5EKzOB6W1upnN41n3f0GHUetIUG7EXlDrwLWK9rmp2gPeLANcs\"\n",
        "access_token=\"1359009092279304195-t5OKh9qfLQB64xq7ItqrNVM2621Led\"\n",
        "access_token_secret=\"7TLIDYS6pPqCldUlZZlRYbUupAJX0eWDzbgf1useIfD3C\""
      ],
      "execution_count": 189,
      "outputs": []
    },
    {
      "cell_type": "code",
      "metadata": {
        "id": "WlM_viJzP5tA"
      },
      "source": [
        "auth = tweepy.OAuthHandler(consumer_key, consumer_secret)\n",
        "auth.set_access_token(access_token, access_token_secret)\n",
        "\n",
        "api = tweepy.API(auth)\n",
        "\n"
      ],
      "execution_count": 190,
      "outputs": []
    },
    {
      "cell_type": "code",
      "metadata": {
        "id": "41x7OY_7aZfA"
      },
      "source": [
        ""
      ],
      "execution_count": null,
      "outputs": []
    },
    {
      "cell_type": "code",
      "metadata": {
        "colab": {
          "base_uri": "https://localhost:8080/",
          "height": 442
        },
        "id": "72TPcZ8HmXJO",
        "outputId": "f3554478-f89c-4154-8411-0f616546c4a3"
      },
      "source": [
        "tweets=[]\n",
        "for status in tweepy.Cursor(api.user_timeline,screen_name=\"@MumbaiPolice\",tweet_mode='extended').items():\n",
        "    \n",
        "    tweets.append(status)\n",
        "len(tweets)"
      ],
      "execution_count": 191,
      "outputs": [
        {
          "output_type": "error",
          "ename": "KeyboardInterrupt",
          "evalue": "ignored",
          "traceback": [
            "\u001b[0;31m---------------------------------------------------------------------------\u001b[0m",
            "\u001b[0;31mTypeError\u001b[0m                                 Traceback (most recent call last)",
            "\u001b[0;32m/usr/local/lib/python3.7/dist-packages/urllib3/connectionpool.py\u001b[0m in \u001b[0;36m_make_request\u001b[0;34m(self, conn, method, url, timeout, chunked, **httplib_request_kw)\u001b[0m\n\u001b[1;32m    376\u001b[0m             \u001b[0;32mtry\u001b[0m\u001b[0;34m:\u001b[0m  \u001b[0;31m# Python 2.7, use buffering of HTTP responses\u001b[0m\u001b[0;34m\u001b[0m\u001b[0;34m\u001b[0m\u001b[0m\n\u001b[0;32m--> 377\u001b[0;31m                 \u001b[0mhttplib_response\u001b[0m \u001b[0;34m=\u001b[0m \u001b[0mconn\u001b[0m\u001b[0;34m.\u001b[0m\u001b[0mgetresponse\u001b[0m\u001b[0;34m(\u001b[0m\u001b[0mbuffering\u001b[0m\u001b[0;34m=\u001b[0m\u001b[0;32mTrue\u001b[0m\u001b[0;34m)\u001b[0m\u001b[0;34m\u001b[0m\u001b[0;34m\u001b[0m\u001b[0m\n\u001b[0m\u001b[1;32m    378\u001b[0m             \u001b[0;32mexcept\u001b[0m \u001b[0mTypeError\u001b[0m\u001b[0;34m:\u001b[0m  \u001b[0;31m# Python 3\u001b[0m\u001b[0;34m\u001b[0m\u001b[0;34m\u001b[0m\u001b[0m\n",
            "\u001b[0;31mTypeError\u001b[0m: getresponse() got an unexpected keyword argument 'buffering'",
            "\nDuring handling of the above exception, another exception occurred:\n",
            "\u001b[0;31mKeyboardInterrupt\u001b[0m                         Traceback (most recent call last)",
            "\u001b[0;32m<ipython-input-191-eede327cb5f0>\u001b[0m in \u001b[0;36m<module>\u001b[0;34m()\u001b[0m\n\u001b[1;32m      1\u001b[0m \u001b[0mtweets\u001b[0m\u001b[0;34m=\u001b[0m\u001b[0;34m[\u001b[0m\u001b[0;34m]\u001b[0m\u001b[0;34m\u001b[0m\u001b[0;34m\u001b[0m\u001b[0m\n\u001b[0;32m----> 2\u001b[0;31m \u001b[0;32mfor\u001b[0m \u001b[0mstatus\u001b[0m \u001b[0;32min\u001b[0m \u001b[0mtweepy\u001b[0m\u001b[0;34m.\u001b[0m\u001b[0mCursor\u001b[0m\u001b[0;34m(\u001b[0m\u001b[0mapi\u001b[0m\u001b[0;34m.\u001b[0m\u001b[0muser_timeline\u001b[0m\u001b[0;34m,\u001b[0m\u001b[0mscreen_name\u001b[0m\u001b[0;34m=\u001b[0m\u001b[0;34m\"@MumbaiPolice\"\u001b[0m\u001b[0;34m,\u001b[0m\u001b[0mtweet_mode\u001b[0m\u001b[0;34m=\u001b[0m\u001b[0;34m'extended'\u001b[0m\u001b[0;34m)\u001b[0m\u001b[0;34m.\u001b[0m\u001b[0mitems\u001b[0m\u001b[0;34m(\u001b[0m\u001b[0;34m)\u001b[0m\u001b[0;34m:\u001b[0m\u001b[0;34m\u001b[0m\u001b[0;34m\u001b[0m\u001b[0m\n\u001b[0m\u001b[1;32m      3\u001b[0m \u001b[0;34m\u001b[0m\u001b[0m\n\u001b[1;32m      4\u001b[0m     \u001b[0mtweets\u001b[0m\u001b[0;34m.\u001b[0m\u001b[0mappend\u001b[0m\u001b[0;34m(\u001b[0m\u001b[0mstatus\u001b[0m\u001b[0;34m)\u001b[0m\u001b[0;34m\u001b[0m\u001b[0;34m\u001b[0m\u001b[0m\n\u001b[1;32m      5\u001b[0m \u001b[0mlen\u001b[0m\u001b[0;34m(\u001b[0m\u001b[0mtweets\u001b[0m\u001b[0;34m)\u001b[0m\u001b[0;34m\u001b[0m\u001b[0;34m\u001b[0m\u001b[0m\n",
            "\u001b[0;32m/usr/local/lib/python3.7/dist-packages/tweepy/cursor.py\u001b[0m in \u001b[0;36m__next__\u001b[0;34m(self)\u001b[0m\n\u001b[1;32m     49\u001b[0m \u001b[0;34m\u001b[0m\u001b[0m\n\u001b[1;32m     50\u001b[0m     \u001b[0;32mdef\u001b[0m \u001b[0m__next__\u001b[0m\u001b[0;34m(\u001b[0m\u001b[0mself\u001b[0m\u001b[0;34m)\u001b[0m\u001b[0;34m:\u001b[0m\u001b[0;34m\u001b[0m\u001b[0;34m\u001b[0m\u001b[0m\n\u001b[0;32m---> 51\u001b[0;31m         \u001b[0;32mreturn\u001b[0m \u001b[0mself\u001b[0m\u001b[0;34m.\u001b[0m\u001b[0mnext\u001b[0m\u001b[0;34m(\u001b[0m\u001b[0;34m)\u001b[0m\u001b[0;34m\u001b[0m\u001b[0;34m\u001b[0m\u001b[0m\n\u001b[0m\u001b[1;32m     52\u001b[0m \u001b[0;34m\u001b[0m\u001b[0m\n\u001b[1;32m     53\u001b[0m     \u001b[0;32mdef\u001b[0m \u001b[0mnext\u001b[0m\u001b[0;34m(\u001b[0m\u001b[0mself\u001b[0m\u001b[0;34m)\u001b[0m\u001b[0;34m:\u001b[0m\u001b[0;34m\u001b[0m\u001b[0;34m\u001b[0m\u001b[0m\n",
            "\u001b[0;32m/usr/local/lib/python3.7/dist-packages/tweepy/cursor.py\u001b[0m in \u001b[0;36mnext\u001b[0;34m(self)\u001b[0m\n\u001b[1;32m    241\u001b[0m         \u001b[0;32mif\u001b[0m \u001b[0mself\u001b[0m\u001b[0;34m.\u001b[0m\u001b[0mcurrent_page\u001b[0m \u001b[0;32mis\u001b[0m \u001b[0;32mNone\u001b[0m \u001b[0;32mor\u001b[0m \u001b[0mself\u001b[0m\u001b[0;34m.\u001b[0m\u001b[0mpage_index\u001b[0m \u001b[0;34m==\u001b[0m \u001b[0mlen\u001b[0m\u001b[0;34m(\u001b[0m\u001b[0mself\u001b[0m\u001b[0;34m.\u001b[0m\u001b[0mcurrent_page\u001b[0m\u001b[0;34m)\u001b[0m \u001b[0;34m-\u001b[0m \u001b[0;36m1\u001b[0m\u001b[0;34m:\u001b[0m\u001b[0;34m\u001b[0m\u001b[0;34m\u001b[0m\u001b[0m\n\u001b[1;32m    242\u001b[0m             \u001b[0;31m# Reached end of current page, get the next page...\u001b[0m\u001b[0;34m\u001b[0m\u001b[0;34m\u001b[0m\u001b[0;34m\u001b[0m\u001b[0m\n\u001b[0;32m--> 243\u001b[0;31m             \u001b[0mself\u001b[0m\u001b[0;34m.\u001b[0m\u001b[0mcurrent_page\u001b[0m \u001b[0;34m=\u001b[0m \u001b[0mself\u001b[0m\u001b[0;34m.\u001b[0m\u001b[0mpage_iterator\u001b[0m\u001b[0;34m.\u001b[0m\u001b[0mnext\u001b[0m\u001b[0;34m(\u001b[0m\u001b[0;34m)\u001b[0m\u001b[0;34m\u001b[0m\u001b[0;34m\u001b[0m\u001b[0m\n\u001b[0m\u001b[1;32m    244\u001b[0m             \u001b[0;32mwhile\u001b[0m \u001b[0mlen\u001b[0m\u001b[0;34m(\u001b[0m\u001b[0mself\u001b[0m\u001b[0;34m.\u001b[0m\u001b[0mcurrent_page\u001b[0m\u001b[0;34m)\u001b[0m \u001b[0;34m==\u001b[0m \u001b[0;36m0\u001b[0m\u001b[0;34m:\u001b[0m\u001b[0;34m\u001b[0m\u001b[0;34m\u001b[0m\u001b[0m\n\u001b[1;32m    245\u001b[0m                 \u001b[0mself\u001b[0m\u001b[0;34m.\u001b[0m\u001b[0mcurrent_page\u001b[0m \u001b[0;34m=\u001b[0m \u001b[0mself\u001b[0m\u001b[0;34m.\u001b[0m\u001b[0mpage_iterator\u001b[0m\u001b[0;34m.\u001b[0m\u001b[0mnext\u001b[0m\u001b[0;34m(\u001b[0m\u001b[0;34m)\u001b[0m\u001b[0;34m\u001b[0m\u001b[0;34m\u001b[0m\u001b[0m\n",
            "\u001b[0;32m/usr/local/lib/python3.7/dist-packages/tweepy/cursor.py\u001b[0m in \u001b[0;36mnext\u001b[0;34m(self)\u001b[0m\n\u001b[1;32m    130\u001b[0m \u001b[0;34m\u001b[0m\u001b[0m\n\u001b[1;32m    131\u001b[0m         \u001b[0;32mif\u001b[0m \u001b[0mself\u001b[0m\u001b[0;34m.\u001b[0m\u001b[0mindex\u001b[0m \u001b[0;34m>=\u001b[0m \u001b[0mlen\u001b[0m\u001b[0;34m(\u001b[0m\u001b[0mself\u001b[0m\u001b[0;34m.\u001b[0m\u001b[0mresults\u001b[0m\u001b[0;34m)\u001b[0m \u001b[0;34m-\u001b[0m \u001b[0;36m1\u001b[0m\u001b[0;34m:\u001b[0m\u001b[0;34m\u001b[0m\u001b[0;34m\u001b[0m\u001b[0m\n\u001b[0;32m--> 132\u001b[0;31m             \u001b[0mdata\u001b[0m \u001b[0;34m=\u001b[0m \u001b[0mself\u001b[0m\u001b[0;34m.\u001b[0m\u001b[0mmethod\u001b[0m\u001b[0;34m(\u001b[0m\u001b[0mmax_id\u001b[0m\u001b[0;34m=\u001b[0m\u001b[0mself\u001b[0m\u001b[0;34m.\u001b[0m\u001b[0mmax_id\u001b[0m\u001b[0;34m,\u001b[0m \u001b[0mparser\u001b[0m\u001b[0;34m=\u001b[0m\u001b[0mRawParser\u001b[0m\u001b[0;34m(\u001b[0m\u001b[0;34m)\u001b[0m\u001b[0;34m,\u001b[0m \u001b[0;34m*\u001b[0m\u001b[0mself\u001b[0m\u001b[0;34m.\u001b[0m\u001b[0margs\u001b[0m\u001b[0;34m,\u001b[0m \u001b[0;34m**\u001b[0m\u001b[0mself\u001b[0m\u001b[0;34m.\u001b[0m\u001b[0mkwargs\u001b[0m\u001b[0;34m)\u001b[0m\u001b[0;34m\u001b[0m\u001b[0;34m\u001b[0m\u001b[0m\n\u001b[0m\u001b[1;32m    133\u001b[0m \u001b[0;34m\u001b[0m\u001b[0m\n\u001b[1;32m    134\u001b[0m             \u001b[0;32mif\u001b[0m \u001b[0mhasattr\u001b[0m\u001b[0;34m(\u001b[0m\u001b[0mself\u001b[0m\u001b[0;34m.\u001b[0m\u001b[0mmethod\u001b[0m\u001b[0;34m,\u001b[0m \u001b[0;34m'__self__'\u001b[0m\u001b[0;34m)\u001b[0m\u001b[0;34m:\u001b[0m\u001b[0;34m\u001b[0m\u001b[0;34m\u001b[0m\u001b[0m\n",
            "\u001b[0;32m/usr/local/lib/python3.7/dist-packages/tweepy/binder.py\u001b[0m in \u001b[0;36m_call\u001b[0;34m(*args, **kwargs)\u001b[0m\n\u001b[1;32m    251\u001b[0m                 \u001b[0;32mreturn\u001b[0m \u001b[0mmethod\u001b[0m\u001b[0;34m\u001b[0m\u001b[0;34m\u001b[0m\u001b[0m\n\u001b[1;32m    252\u001b[0m             \u001b[0;32melse\u001b[0m\u001b[0;34m:\u001b[0m\u001b[0;34m\u001b[0m\u001b[0;34m\u001b[0m\u001b[0m\n\u001b[0;32m--> 253\u001b[0;31m                 \u001b[0;32mreturn\u001b[0m \u001b[0mmethod\u001b[0m\u001b[0;34m.\u001b[0m\u001b[0mexecute\u001b[0m\u001b[0;34m(\u001b[0m\u001b[0;34m)\u001b[0m\u001b[0;34m\u001b[0m\u001b[0;34m\u001b[0m\u001b[0m\n\u001b[0m\u001b[1;32m    254\u001b[0m         \u001b[0;32mfinally\u001b[0m\u001b[0;34m:\u001b[0m\u001b[0;34m\u001b[0m\u001b[0;34m\u001b[0m\u001b[0m\n\u001b[1;32m    255\u001b[0m             \u001b[0mmethod\u001b[0m\u001b[0;34m.\u001b[0m\u001b[0msession\u001b[0m\u001b[0;34m.\u001b[0m\u001b[0mclose\u001b[0m\u001b[0;34m(\u001b[0m\u001b[0;34m)\u001b[0m\u001b[0;34m\u001b[0m\u001b[0;34m\u001b[0m\u001b[0m\n",
            "\u001b[0;32m/usr/local/lib/python3.7/dist-packages/tweepy/binder.py\u001b[0m in \u001b[0;36mexecute\u001b[0;34m(self)\u001b[0m\n\u001b[1;32m    188\u001b[0m                                                 \u001b[0mtimeout\u001b[0m\u001b[0;34m=\u001b[0m\u001b[0mself\u001b[0m\u001b[0;34m.\u001b[0m\u001b[0mapi\u001b[0m\u001b[0;34m.\u001b[0m\u001b[0mtimeout\u001b[0m\u001b[0;34m,\u001b[0m\u001b[0;34m\u001b[0m\u001b[0;34m\u001b[0m\u001b[0m\n\u001b[1;32m    189\u001b[0m                                                 \u001b[0mauth\u001b[0m\u001b[0;34m=\u001b[0m\u001b[0mauth\u001b[0m\u001b[0;34m,\u001b[0m\u001b[0;34m\u001b[0m\u001b[0;34m\u001b[0m\u001b[0m\n\u001b[0;32m--> 190\u001b[0;31m                                                 proxies=self.api.proxy)\n\u001b[0m\u001b[1;32m    191\u001b[0m                 \u001b[0;32mexcept\u001b[0m \u001b[0mException\u001b[0m \u001b[0;32mas\u001b[0m \u001b[0me\u001b[0m\u001b[0;34m:\u001b[0m\u001b[0;34m\u001b[0m\u001b[0;34m\u001b[0m\u001b[0m\n\u001b[1;32m    192\u001b[0m                     \u001b[0msix\u001b[0m\u001b[0;34m.\u001b[0m\u001b[0mreraise\u001b[0m\u001b[0;34m(\u001b[0m\u001b[0mTweepError\u001b[0m\u001b[0;34m,\u001b[0m \u001b[0mTweepError\u001b[0m\u001b[0;34m(\u001b[0m\u001b[0;34m'Failed to send request: %s'\u001b[0m \u001b[0;34m%\u001b[0m \u001b[0me\u001b[0m\u001b[0;34m)\u001b[0m\u001b[0;34m,\u001b[0m \u001b[0msys\u001b[0m\u001b[0;34m.\u001b[0m\u001b[0mexc_info\u001b[0m\u001b[0;34m(\u001b[0m\u001b[0;34m)\u001b[0m\u001b[0;34m[\u001b[0m\u001b[0;36m2\u001b[0m\u001b[0;34m]\u001b[0m\u001b[0;34m)\u001b[0m\u001b[0;34m\u001b[0m\u001b[0;34m\u001b[0m\u001b[0m\n",
            "\u001b[0;32m/usr/local/lib/python3.7/dist-packages/requests/sessions.py\u001b[0m in \u001b[0;36mrequest\u001b[0;34m(self, method, url, params, data, headers, cookies, files, auth, timeout, allow_redirects, proxies, hooks, stream, verify, cert, json)\u001b[0m\n\u001b[1;32m    528\u001b[0m         }\n\u001b[1;32m    529\u001b[0m         \u001b[0msend_kwargs\u001b[0m\u001b[0;34m.\u001b[0m\u001b[0mupdate\u001b[0m\u001b[0;34m(\u001b[0m\u001b[0msettings\u001b[0m\u001b[0;34m)\u001b[0m\u001b[0;34m\u001b[0m\u001b[0;34m\u001b[0m\u001b[0m\n\u001b[0;32m--> 530\u001b[0;31m         \u001b[0mresp\u001b[0m \u001b[0;34m=\u001b[0m \u001b[0mself\u001b[0m\u001b[0;34m.\u001b[0m\u001b[0msend\u001b[0m\u001b[0;34m(\u001b[0m\u001b[0mprep\u001b[0m\u001b[0;34m,\u001b[0m \u001b[0;34m**\u001b[0m\u001b[0msend_kwargs\u001b[0m\u001b[0;34m)\u001b[0m\u001b[0;34m\u001b[0m\u001b[0;34m\u001b[0m\u001b[0m\n\u001b[0m\u001b[1;32m    531\u001b[0m \u001b[0;34m\u001b[0m\u001b[0m\n\u001b[1;32m    532\u001b[0m         \u001b[0;32mreturn\u001b[0m \u001b[0mresp\u001b[0m\u001b[0;34m\u001b[0m\u001b[0;34m\u001b[0m\u001b[0m\n",
            "\u001b[0;32m/usr/local/lib/python3.7/dist-packages/requests/sessions.py\u001b[0m in \u001b[0;36msend\u001b[0;34m(self, request, **kwargs)\u001b[0m\n\u001b[1;32m    641\u001b[0m \u001b[0;34m\u001b[0m\u001b[0m\n\u001b[1;32m    642\u001b[0m         \u001b[0;31m# Send the request\u001b[0m\u001b[0;34m\u001b[0m\u001b[0;34m\u001b[0m\u001b[0;34m\u001b[0m\u001b[0m\n\u001b[0;32m--> 643\u001b[0;31m         \u001b[0mr\u001b[0m \u001b[0;34m=\u001b[0m \u001b[0madapter\u001b[0m\u001b[0;34m.\u001b[0m\u001b[0msend\u001b[0m\u001b[0;34m(\u001b[0m\u001b[0mrequest\u001b[0m\u001b[0;34m,\u001b[0m \u001b[0;34m**\u001b[0m\u001b[0mkwargs\u001b[0m\u001b[0;34m)\u001b[0m\u001b[0;34m\u001b[0m\u001b[0;34m\u001b[0m\u001b[0m\n\u001b[0m\u001b[1;32m    644\u001b[0m \u001b[0;34m\u001b[0m\u001b[0m\n\u001b[1;32m    645\u001b[0m         \u001b[0;31m# Total elapsed time of the request (approximately)\u001b[0m\u001b[0;34m\u001b[0m\u001b[0;34m\u001b[0m\u001b[0;34m\u001b[0m\u001b[0m\n",
            "\u001b[0;32m/usr/local/lib/python3.7/dist-packages/requests/adapters.py\u001b[0m in \u001b[0;36msend\u001b[0;34m(self, request, stream, timeout, verify, cert, proxies)\u001b[0m\n\u001b[1;32m    447\u001b[0m                     \u001b[0mdecode_content\u001b[0m\u001b[0;34m=\u001b[0m\u001b[0;32mFalse\u001b[0m\u001b[0;34m,\u001b[0m\u001b[0;34m\u001b[0m\u001b[0;34m\u001b[0m\u001b[0m\n\u001b[1;32m    448\u001b[0m                     \u001b[0mretries\u001b[0m\u001b[0;34m=\u001b[0m\u001b[0mself\u001b[0m\u001b[0;34m.\u001b[0m\u001b[0mmax_retries\u001b[0m\u001b[0;34m,\u001b[0m\u001b[0;34m\u001b[0m\u001b[0;34m\u001b[0m\u001b[0m\n\u001b[0;32m--> 449\u001b[0;31m                     \u001b[0mtimeout\u001b[0m\u001b[0;34m=\u001b[0m\u001b[0mtimeout\u001b[0m\u001b[0;34m\u001b[0m\u001b[0;34m\u001b[0m\u001b[0m\n\u001b[0m\u001b[1;32m    450\u001b[0m                 )\n\u001b[1;32m    451\u001b[0m \u001b[0;34m\u001b[0m\u001b[0m\n",
            "\u001b[0;32m/usr/local/lib/python3.7/dist-packages/urllib3/connectionpool.py\u001b[0m in \u001b[0;36murlopen\u001b[0;34m(self, method, url, body, headers, retries, redirect, assert_same_host, timeout, pool_timeout, release_conn, chunked, body_pos, **response_kw)\u001b[0m\n\u001b[1;32m    598\u001b[0m                                                   \u001b[0mtimeout\u001b[0m\u001b[0;34m=\u001b[0m\u001b[0mtimeout_obj\u001b[0m\u001b[0;34m,\u001b[0m\u001b[0;34m\u001b[0m\u001b[0;34m\u001b[0m\u001b[0m\n\u001b[1;32m    599\u001b[0m                                                   \u001b[0mbody\u001b[0m\u001b[0;34m=\u001b[0m\u001b[0mbody\u001b[0m\u001b[0;34m,\u001b[0m \u001b[0mheaders\u001b[0m\u001b[0;34m=\u001b[0m\u001b[0mheaders\u001b[0m\u001b[0;34m,\u001b[0m\u001b[0;34m\u001b[0m\u001b[0;34m\u001b[0m\u001b[0m\n\u001b[0;32m--> 600\u001b[0;31m                                                   chunked=chunked)\n\u001b[0m\u001b[1;32m    601\u001b[0m \u001b[0;34m\u001b[0m\u001b[0m\n\u001b[1;32m    602\u001b[0m             \u001b[0;31m# If we're going to release the connection in ``finally:``, then\u001b[0m\u001b[0;34m\u001b[0m\u001b[0;34m\u001b[0m\u001b[0;34m\u001b[0m\u001b[0m\n",
            "\u001b[0;32m/usr/local/lib/python3.7/dist-packages/urllib3/connectionpool.py\u001b[0m in \u001b[0;36m_make_request\u001b[0;34m(self, conn, method, url, timeout, chunked, **httplib_request_kw)\u001b[0m\n\u001b[1;32m    378\u001b[0m             \u001b[0;32mexcept\u001b[0m \u001b[0mTypeError\u001b[0m\u001b[0;34m:\u001b[0m  \u001b[0;31m# Python 3\u001b[0m\u001b[0;34m\u001b[0m\u001b[0;34m\u001b[0m\u001b[0m\n\u001b[1;32m    379\u001b[0m                 \u001b[0;32mtry\u001b[0m\u001b[0;34m:\u001b[0m\u001b[0;34m\u001b[0m\u001b[0;34m\u001b[0m\u001b[0m\n\u001b[0;32m--> 380\u001b[0;31m                     \u001b[0mhttplib_response\u001b[0m \u001b[0;34m=\u001b[0m \u001b[0mconn\u001b[0m\u001b[0;34m.\u001b[0m\u001b[0mgetresponse\u001b[0m\u001b[0;34m(\u001b[0m\u001b[0;34m)\u001b[0m\u001b[0;34m\u001b[0m\u001b[0;34m\u001b[0m\u001b[0m\n\u001b[0m\u001b[1;32m    381\u001b[0m                 \u001b[0;32mexcept\u001b[0m \u001b[0mException\u001b[0m \u001b[0;32mas\u001b[0m \u001b[0me\u001b[0m\u001b[0;34m:\u001b[0m\u001b[0;34m\u001b[0m\u001b[0;34m\u001b[0m\u001b[0m\n\u001b[1;32m    382\u001b[0m                     \u001b[0;31m# Remove the TypeError from the exception chain in Python 3;\u001b[0m\u001b[0;34m\u001b[0m\u001b[0;34m\u001b[0m\u001b[0;34m\u001b[0m\u001b[0m\n",
            "\u001b[0;32m/usr/lib/python3.7/http/client.py\u001b[0m in \u001b[0;36mgetresponse\u001b[0;34m(self)\u001b[0m\n\u001b[1;32m   1367\u001b[0m         \u001b[0;32mtry\u001b[0m\u001b[0;34m:\u001b[0m\u001b[0;34m\u001b[0m\u001b[0;34m\u001b[0m\u001b[0m\n\u001b[1;32m   1368\u001b[0m             \u001b[0;32mtry\u001b[0m\u001b[0;34m:\u001b[0m\u001b[0;34m\u001b[0m\u001b[0;34m\u001b[0m\u001b[0m\n\u001b[0;32m-> 1369\u001b[0;31m                 \u001b[0mresponse\u001b[0m\u001b[0;34m.\u001b[0m\u001b[0mbegin\u001b[0m\u001b[0;34m(\u001b[0m\u001b[0;34m)\u001b[0m\u001b[0;34m\u001b[0m\u001b[0;34m\u001b[0m\u001b[0m\n\u001b[0m\u001b[1;32m   1370\u001b[0m             \u001b[0;32mexcept\u001b[0m \u001b[0mConnectionError\u001b[0m\u001b[0;34m:\u001b[0m\u001b[0;34m\u001b[0m\u001b[0;34m\u001b[0m\u001b[0m\n\u001b[1;32m   1371\u001b[0m                 \u001b[0mself\u001b[0m\u001b[0;34m.\u001b[0m\u001b[0mclose\u001b[0m\u001b[0;34m(\u001b[0m\u001b[0;34m)\u001b[0m\u001b[0;34m\u001b[0m\u001b[0;34m\u001b[0m\u001b[0m\n",
            "\u001b[0;32m/usr/lib/python3.7/http/client.py\u001b[0m in \u001b[0;36mbegin\u001b[0;34m(self)\u001b[0m\n\u001b[1;32m    308\u001b[0m         \u001b[0;31m# read until we get a non-100 response\u001b[0m\u001b[0;34m\u001b[0m\u001b[0;34m\u001b[0m\u001b[0;34m\u001b[0m\u001b[0m\n\u001b[1;32m    309\u001b[0m         \u001b[0;32mwhile\u001b[0m \u001b[0;32mTrue\u001b[0m\u001b[0;34m:\u001b[0m\u001b[0;34m\u001b[0m\u001b[0;34m\u001b[0m\u001b[0m\n\u001b[0;32m--> 310\u001b[0;31m             \u001b[0mversion\u001b[0m\u001b[0;34m,\u001b[0m \u001b[0mstatus\u001b[0m\u001b[0;34m,\u001b[0m \u001b[0mreason\u001b[0m \u001b[0;34m=\u001b[0m \u001b[0mself\u001b[0m\u001b[0;34m.\u001b[0m\u001b[0m_read_status\u001b[0m\u001b[0;34m(\u001b[0m\u001b[0;34m)\u001b[0m\u001b[0;34m\u001b[0m\u001b[0;34m\u001b[0m\u001b[0m\n\u001b[0m\u001b[1;32m    311\u001b[0m             \u001b[0;32mif\u001b[0m \u001b[0mstatus\u001b[0m \u001b[0;34m!=\u001b[0m \u001b[0mCONTINUE\u001b[0m\u001b[0;34m:\u001b[0m\u001b[0;34m\u001b[0m\u001b[0;34m\u001b[0m\u001b[0m\n\u001b[1;32m    312\u001b[0m                 \u001b[0;32mbreak\u001b[0m\u001b[0;34m\u001b[0m\u001b[0;34m\u001b[0m\u001b[0m\n",
            "\u001b[0;32m/usr/lib/python3.7/http/client.py\u001b[0m in \u001b[0;36m_read_status\u001b[0;34m(self)\u001b[0m\n\u001b[1;32m    269\u001b[0m \u001b[0;34m\u001b[0m\u001b[0m\n\u001b[1;32m    270\u001b[0m     \u001b[0;32mdef\u001b[0m \u001b[0m_read_status\u001b[0m\u001b[0;34m(\u001b[0m\u001b[0mself\u001b[0m\u001b[0;34m)\u001b[0m\u001b[0;34m:\u001b[0m\u001b[0;34m\u001b[0m\u001b[0;34m\u001b[0m\u001b[0m\n\u001b[0;32m--> 271\u001b[0;31m         \u001b[0mline\u001b[0m \u001b[0;34m=\u001b[0m \u001b[0mstr\u001b[0m\u001b[0;34m(\u001b[0m\u001b[0mself\u001b[0m\u001b[0;34m.\u001b[0m\u001b[0mfp\u001b[0m\u001b[0;34m.\u001b[0m\u001b[0mreadline\u001b[0m\u001b[0;34m(\u001b[0m\u001b[0m_MAXLINE\u001b[0m \u001b[0;34m+\u001b[0m \u001b[0;36m1\u001b[0m\u001b[0;34m)\u001b[0m\u001b[0;34m,\u001b[0m \u001b[0;34m\"iso-8859-1\"\u001b[0m\u001b[0;34m)\u001b[0m\u001b[0;34m\u001b[0m\u001b[0;34m\u001b[0m\u001b[0m\n\u001b[0m\u001b[1;32m    272\u001b[0m         \u001b[0;32mif\u001b[0m \u001b[0mlen\u001b[0m\u001b[0;34m(\u001b[0m\u001b[0mline\u001b[0m\u001b[0;34m)\u001b[0m \u001b[0;34m>\u001b[0m \u001b[0m_MAXLINE\u001b[0m\u001b[0;34m:\u001b[0m\u001b[0;34m\u001b[0m\u001b[0;34m\u001b[0m\u001b[0m\n\u001b[1;32m    273\u001b[0m             \u001b[0;32mraise\u001b[0m \u001b[0mLineTooLong\u001b[0m\u001b[0;34m(\u001b[0m\u001b[0;34m\"status line\"\u001b[0m\u001b[0;34m)\u001b[0m\u001b[0;34m\u001b[0m\u001b[0;34m\u001b[0m\u001b[0m\n",
            "\u001b[0;32m/usr/lib/python3.7/socket.py\u001b[0m in \u001b[0;36mreadinto\u001b[0;34m(self, b)\u001b[0m\n\u001b[1;32m    587\u001b[0m         \u001b[0;32mwhile\u001b[0m \u001b[0;32mTrue\u001b[0m\u001b[0;34m:\u001b[0m\u001b[0;34m\u001b[0m\u001b[0;34m\u001b[0m\u001b[0m\n\u001b[1;32m    588\u001b[0m             \u001b[0;32mtry\u001b[0m\u001b[0;34m:\u001b[0m\u001b[0;34m\u001b[0m\u001b[0;34m\u001b[0m\u001b[0m\n\u001b[0;32m--> 589\u001b[0;31m                 \u001b[0;32mreturn\u001b[0m \u001b[0mself\u001b[0m\u001b[0;34m.\u001b[0m\u001b[0m_sock\u001b[0m\u001b[0;34m.\u001b[0m\u001b[0mrecv_into\u001b[0m\u001b[0;34m(\u001b[0m\u001b[0mb\u001b[0m\u001b[0;34m)\u001b[0m\u001b[0;34m\u001b[0m\u001b[0;34m\u001b[0m\u001b[0m\n\u001b[0m\u001b[1;32m    590\u001b[0m             \u001b[0;32mexcept\u001b[0m \u001b[0mtimeout\u001b[0m\u001b[0;34m:\u001b[0m\u001b[0;34m\u001b[0m\u001b[0;34m\u001b[0m\u001b[0m\n\u001b[1;32m    591\u001b[0m                 \u001b[0mself\u001b[0m\u001b[0;34m.\u001b[0m\u001b[0m_timeout_occurred\u001b[0m \u001b[0;34m=\u001b[0m \u001b[0;32mTrue\u001b[0m\u001b[0;34m\u001b[0m\u001b[0;34m\u001b[0m\u001b[0m\n",
            "\u001b[0;32m/usr/lib/python3.7/ssl.py\u001b[0m in \u001b[0;36mrecv_into\u001b[0;34m(self, buffer, nbytes, flags)\u001b[0m\n\u001b[1;32m   1069\u001b[0m                   \u001b[0;34m\"non-zero flags not allowed in calls to recv_into() on %s\"\u001b[0m \u001b[0;34m%\u001b[0m\u001b[0;34m\u001b[0m\u001b[0;34m\u001b[0m\u001b[0m\n\u001b[1;32m   1070\u001b[0m                   self.__class__)\n\u001b[0;32m-> 1071\u001b[0;31m             \u001b[0;32mreturn\u001b[0m \u001b[0mself\u001b[0m\u001b[0;34m.\u001b[0m\u001b[0mread\u001b[0m\u001b[0;34m(\u001b[0m\u001b[0mnbytes\u001b[0m\u001b[0;34m,\u001b[0m \u001b[0mbuffer\u001b[0m\u001b[0;34m)\u001b[0m\u001b[0;34m\u001b[0m\u001b[0;34m\u001b[0m\u001b[0m\n\u001b[0m\u001b[1;32m   1072\u001b[0m         \u001b[0;32melse\u001b[0m\u001b[0;34m:\u001b[0m\u001b[0;34m\u001b[0m\u001b[0;34m\u001b[0m\u001b[0m\n\u001b[1;32m   1073\u001b[0m             \u001b[0;32mreturn\u001b[0m \u001b[0msuper\u001b[0m\u001b[0;34m(\u001b[0m\u001b[0;34m)\u001b[0m\u001b[0;34m.\u001b[0m\u001b[0mrecv_into\u001b[0m\u001b[0;34m(\u001b[0m\u001b[0mbuffer\u001b[0m\u001b[0;34m,\u001b[0m \u001b[0mnbytes\u001b[0m\u001b[0;34m,\u001b[0m \u001b[0mflags\u001b[0m\u001b[0;34m)\u001b[0m\u001b[0;34m\u001b[0m\u001b[0;34m\u001b[0m\u001b[0m\n",
            "\u001b[0;32m/usr/lib/python3.7/ssl.py\u001b[0m in \u001b[0;36mread\u001b[0;34m(self, len, buffer)\u001b[0m\n\u001b[1;32m    927\u001b[0m         \u001b[0;32mtry\u001b[0m\u001b[0;34m:\u001b[0m\u001b[0;34m\u001b[0m\u001b[0;34m\u001b[0m\u001b[0m\n\u001b[1;32m    928\u001b[0m             \u001b[0;32mif\u001b[0m \u001b[0mbuffer\u001b[0m \u001b[0;32mis\u001b[0m \u001b[0;32mnot\u001b[0m \u001b[0;32mNone\u001b[0m\u001b[0;34m:\u001b[0m\u001b[0;34m\u001b[0m\u001b[0;34m\u001b[0m\u001b[0m\n\u001b[0;32m--> 929\u001b[0;31m                 \u001b[0;32mreturn\u001b[0m \u001b[0mself\u001b[0m\u001b[0;34m.\u001b[0m\u001b[0m_sslobj\u001b[0m\u001b[0;34m.\u001b[0m\u001b[0mread\u001b[0m\u001b[0;34m(\u001b[0m\u001b[0mlen\u001b[0m\u001b[0;34m,\u001b[0m \u001b[0mbuffer\u001b[0m\u001b[0;34m)\u001b[0m\u001b[0;34m\u001b[0m\u001b[0;34m\u001b[0m\u001b[0m\n\u001b[0m\u001b[1;32m    930\u001b[0m             \u001b[0;32melse\u001b[0m\u001b[0;34m:\u001b[0m\u001b[0;34m\u001b[0m\u001b[0;34m\u001b[0m\u001b[0m\n\u001b[1;32m    931\u001b[0m                 \u001b[0;32mreturn\u001b[0m \u001b[0mself\u001b[0m\u001b[0;34m.\u001b[0m\u001b[0m_sslobj\u001b[0m\u001b[0;34m.\u001b[0m\u001b[0mread\u001b[0m\u001b[0;34m(\u001b[0m\u001b[0mlen\u001b[0m\u001b[0;34m)\u001b[0m\u001b[0;34m\u001b[0m\u001b[0;34m\u001b[0m\u001b[0m\n",
            "\u001b[0;31mKeyboardInterrupt\u001b[0m: "
          ]
        }
      ]
    },
    {
      "cell_type": "code",
      "metadata": {
        "id": "tuavt9AIWBRp"
      },
      "source": [
        "import pickle"
      ],
      "execution_count": 193,
      "outputs": []
    },
    {
      "cell_type": "code",
      "metadata": {
        "id": "X4ofw-t9x2ZS"
      },
      "source": [
        "\n",
        "\n",
        "with open('tweet.pickle', 'wb') as f:\n",
        "    pickle.dump(tweets, f)"
      ],
      "execution_count": 194,
      "outputs": []
    },
    {
      "cell_type": "code",
      "metadata": {
        "id": "tBfad9mEyhlf"
      },
      "source": [
        "\n",
        "tweetl=[]\n",
        "\n",
        "with open('tweet.pickle', 'rb') as f:\n",
        "    tweetl = pickle.load(f)"
      ],
      "execution_count": 199,
      "outputs": []
    },
    {
      "cell_type": "code",
      "metadata": {
        "id": "UTyphpiTzCZM"
      },
      "source": [
        "f = open(\"section1tweets.txt\", \"x\")"
      ],
      "execution_count": null,
      "outputs": []
    },
    {
      "cell_type": "code",
      "metadata": {
        "id": "Q3xZkjHWz6HX"
      },
      "source": [
        "for i in tweetl:\n",
        "  f.write(i.id_str+\" \\n\")\n",
        "f.close()  "
      ],
      "execution_count": 197,
      "outputs": []
    },
    {
      "cell_type": "code",
      "metadata": {
        "colab": {
          "base_uri": "https://localhost:8080/"
        },
        "id": "uJqzWeOSCiRS",
        "outputId": "8654e815-0662-4d97-c965-555a6e26671b"
      },
      "source": [
        "orgdt=[]\n",
        "idofreplytwe=[]\n",
        "for i in tweetl:\n",
        "  k=i.in_reply_to_status_id\n",
        "  if k != None:\n",
        "    idofreplytwe.append(k)\n",
        "    orgdt.append(i.created_at)\n",
        "orgdt[0]"
      ],
      "execution_count": 202,
      "outputs": [
        {
          "output_type": "execute_result",
          "data": {
            "text/plain": [
              "datetime.datetime(2021, 4, 16, 8, 36, 49)"
            ]
          },
          "metadata": {
            "tags": []
          },
          "execution_count": 202
        }
      ]
    },
    {
      "cell_type": "code",
      "metadata": {
        "id": "h2GRT7n_GXQ-"
      },
      "source": [
        "replytweetstatus=[]\n",
        "replymentiontweet=[]\n",
        "policedttwe=[]\n"
      ],
      "execution_count": 205,
      "outputs": []
    },
    {
      "cell_type": "code",
      "metadata": {
        "id": "AQFwPCUQSoyK"
      },
      "source": [
        "\n",
        "for i in range(0,len(idofreplytwe)):\n",
        "  \n",
        "  try:\n",
        "    sta=api.get_status(idofreplytwe[i],tweet_mode='extended',wait_on_rate_limit=True)\n",
        "    replytweetstatus.append(sta)\n",
        "    mentionlist=sta.entities['user_mentions']\n",
        "    for k in mentionlist:\n",
        "      if k['screen_name'] == 'MumbaiPolice':\n",
        "        replymentiontweet.append(sta)\n",
        "        policedttwe.append(orgdt[i])\n",
        "\n",
        "  except:\n",
        "    #print(\"nhi hai\")\n",
        "    continue\n",
        "len(replymentiontweet)"
      ],
      "execution_count": null,
      "outputs": []
    },
    {
      "cell_type": "code",
      "metadata": {
        "colab": {
          "base_uri": "https://localhost:8080/"
        },
        "id": "aIGV5MCD48Hq",
        "outputId": "8151171c-0e8d-44ad-cbf4-d8d0915aeeaa"
      },
      "source": [
        "len(replymentiontweet)"
      ],
      "execution_count": 206,
      "outputs": [
        {
          "output_type": "execute_result",
          "data": {
            "text/plain": [
              "0"
            ]
          },
          "metadata": {
            "tags": []
          },
          "execution_count": 206
        }
      ]
    },
    {
      "cell_type": "code",
      "metadata": {
        "id": "IVPHtRSZ4NvJ"
      },
      "source": [
        "with open('replymention.pickle', 'wb') as f1:\n",
        "    pickle.dump(replymentiontweet, f1)"
      ],
      "execution_count": null,
      "outputs": []
    },
    {
      "cell_type": "code",
      "metadata": {
        "id": "pgJyHKQD4UpJ"
      },
      "source": [
        "replymentiontweet1=[]\n",
        "\n",
        "with open('replymention.pickle', 'rb') as f1:\n",
        "    replymentiontweet1 = pickle.load(f1)"
      ],
      "execution_count": 207,
      "outputs": []
    },
    {
      "cell_type": "code",
      "metadata": {
        "id": "4WJyT3SzN5NT"
      },
      "source": [
        "len(policedttwe)\n",
        "with open('policedttwe.pickle', 'wb') as f1:\n",
        "    pickle.dump(policedttwe, f1)"
      ],
      "execution_count": null,
      "outputs": []
    },
    {
      "cell_type": "code",
      "metadata": {
        "id": "XvMw_cxd5lEj"
      },
      "source": [
        "\n",
        "\n",
        "policedttwe1=[]\n",
        "with open('policedttwe.pickle', 'rb') as f1:\n",
        "    policedttwe1 = pickle.load(f1)"
      ],
      "execution_count": 210,
      "outputs": []
    },
    {
      "cell_type": "code",
      "metadata": {
        "id": "-DmHk8YyeaOT"
      },
      "source": [
        "replymentiontweet=replymentiontweet1"
      ],
      "execution_count": 212,
      "outputs": []
    },
    {
      "cell_type": "code",
      "metadata": {
        "id": "rLrvixNNf3tw"
      },
      "source": [
        "policedttwe=policedttwe1"
      ],
      "execution_count": 213,
      "outputs": []
    },
    {
      "cell_type": "code",
      "metadata": {
        "id": "_u9g9yUttIPQ"
      },
      "source": [
        "import re"
      ],
      "execution_count": 214,
      "outputs": []
    },
    {
      "cell_type": "code",
      "metadata": {
        "id": "VRx5wzL2aKh6"
      },
      "source": [
        "\n",
        "phonereg=re.compile(r'(?:\\s+|)((0|(?:(\\+|)91))(?:\\s|-)*(?:(?:\\d(?:\\s|-)*\\d{9})|(?:\\d{2}(?:\\s|-)*\\d{8})|(?:\\d{3}(?:\\s|-)*\\d{7}))|\\d{10})(?:\\s+|)')\n",
        "adhreg =re.compile(r'\\d{4}\\s\\d{4}\\s\\d{4}')\n",
        "emailreg=re.compile(r'\\S+@\\S+\\.\\S+')\n",
        "vehpatereg= re.compile(\".?([A-Za-z]{2})(\\d{2})([A-Za-z]{2})(\\d{4}).?\")"
      ],
      "execution_count": 215,
      "outputs": []
    },
    {
      "cell_type": "code",
      "metadata": {
        "id": "3jJwcxgDkkxA"
      },
      "source": [
        "phonecount=0\n",
        "emailcount=0\n",
        "adhcount=0\n",
        "\n",
        "vehcount=0\n",
        "for i in replymentiontweet:\n",
        "  \n",
        "  #print(i.text)\n",
        "  ph=phonereg.findall(i.full_text)\n",
        "  #print(em)\n",
        "  if ph:\n",
        "    phonecount=phonecount+1\n",
        "    \n",
        "  em=emailreg.findall(i.full_text)\n",
        "  #print(em)\n",
        "  if em:\n",
        "    emailcount=emailcount+1\n",
        "  ad=adhreg.findall(i.full_text)\n",
        "  #print(em)\n",
        "  if ad:\n",
        "    adhcount=adfcount+1\n",
        " \n",
        "  vehc=vehpatereg.findall(i.full_text)\n",
        "  if vehc:\n",
        "    vehcount=vehcount+1\n",
        "    \n",
        "\n",
        "\n",
        "\n",
        "  \n"
      ],
      "execution_count": 218,
      "outputs": []
    },
    {
      "cell_type": "code",
      "metadata": {
        "colab": {
          "base_uri": "https://localhost:8080/"
        },
        "id": "fa24dd9FJJDN",
        "outputId": "e728982f-9c22-47fc-a0be-9478ee0d8b46"
      },
      "source": [
        "print(phonecount)\n",
        "print(emailcount)\n",
        "print(adhcount)\n",
        "print(vehcount)"
      ],
      "execution_count": 219,
      "outputs": [
        {
          "output_type": "stream",
          "text": [
            "125\n",
            "0\n",
            "0\n",
            "56\n"
          ],
          "name": "stdout"
        }
      ]
    },
    {
      "cell_type": "code",
      "metadata": {
        "id": "Swcsd2dQwgoW"
      },
      "source": [
        "medcontwe=[]\n",
        "medcount=0\n",
        "for i in replymentiontweet:\n",
        "  try:\n",
        "    l=i.entities['media']\n",
        "    medcount=medcount+1\n",
        "    medcontwe.append(i)\n",
        "\n",
        "  except:\n",
        "    continue\n"
      ],
      "execution_count": 220,
      "outputs": []
    },
    {
      "cell_type": "code",
      "metadata": {
        "colab": {
          "base_uri": "https://localhost:8080/"
        },
        "id": "Q2ZcVadf0DUo",
        "outputId": "b7e58b63-985c-488c-8eb7-134817ffd3fa"
      },
      "source": [
        "medcount"
      ],
      "execution_count": 221,
      "outputs": [
        {
          "output_type": "execute_result",
          "data": {
            "text/plain": [
              "1204"
            ]
          },
          "metadata": {
            "tags": []
          },
          "execution_count": 221
        }
      ]
    },
    {
      "cell_type": "code",
      "metadata": {
        "colab": {
          "base_uri": "https://localhost:8080/"
        },
        "id": "FrnyG8Gu011d",
        "outputId": "1efc97ea-8e46-42b4-af86-b34d670f52e6"
      },
      "source": [
        "len(medcontwe)"
      ],
      "execution_count": 222,
      "outputs": [
        {
          "output_type": "execute_result",
          "data": {
            "text/plain": [
              "1204"
            ]
          },
          "metadata": {
            "tags": []
          },
          "execution_count": 222
        }
      ]
    },
    {
      "cell_type": "code",
      "metadata": {
        "id": "fokxH0JW08aE"
      },
      "source": [
        "phonecount=0\n",
        "emailcount=0\n",
        "adhcount=0\n",
        "vehcount=0\n",
        "for i in medcontwe:\n",
        "  \n",
        "  #print(i.text)\n",
        "  ph=phonereg.findall(i.full_text)\n",
        "  #print(em)\n",
        "  if ph:\n",
        "    phonecount=phonecount+1\n",
        "    \n",
        "  em=emailreg.findall(i.full_text)\n",
        "  #print(em)\n",
        "  if em:\n",
        "    emailcount=emailcount+1\n",
        "  ad=adhreg.findall(i.full_text)\n",
        "  #print(em)\n",
        "  if ad:\n",
        "    adhcount=adfcount+1\n",
        "  vehc=vehpatereg.findall(i.full_text)\n",
        "  if vehc:\n",
        "    vehcount=vehcount+1\n",
        "    \n",
        "    "
      ],
      "execution_count": 224,
      "outputs": []
    },
    {
      "cell_type": "code",
      "metadata": {
        "colab": {
          "base_uri": "https://localhost:8080/"
        },
        "id": "oFWBTCK817bp",
        "outputId": "e43a9d4a-62a5-462f-9264-6b4a173ca3f7"
      },
      "source": [
        "print(phonecount)\n",
        "print(emailcount)\n",
        "print(adhcount)\n",
        "print(vehcount)"
      ],
      "execution_count": 225,
      "outputs": [
        {
          "output_type": "stream",
          "text": [
            "21\n",
            "0\n",
            "0\n",
            "50\n"
          ],
          "name": "stdout"
        }
      ]
    },
    {
      "cell_type": "code",
      "metadata": {
        "id": "wDRHk86I2CgT"
      },
      "source": [
        "differ=[]"
      ],
      "execution_count": 226,
      "outputs": []
    },
    {
      "cell_type": "code",
      "metadata": {
        "id": "p-f9AQzJ3wvo"
      },
      "source": [
        "for i in range(0,len(policedttwe)):\n",
        "  k=policedttwe[i]-replymentiontweet[i].created_at\n",
        "\n",
        "  differ.append(k.seconds)"
      ],
      "execution_count": 227,
      "outputs": []
    },
    {
      "cell_type": "code",
      "metadata": {
        "colab": {
          "base_uri": "https://localhost:8080/"
        },
        "id": "228vP2VADm-v",
        "outputId": "ad42f2d2-45a9-4e16-bb75-6bbe8486f3d3"
      },
      "source": [
        "import numpy as np\n",
        "print(\"Standard Deviation\")\n",
        "print(np.std(differ))\n",
        "print(\"Mean\")\n",
        "print(np.mean(differ))\n",
        "print(\"Maximum\")\n",
        "print(np.max(differ))\n",
        "print(\"Minimum\")\n",
        "print(np.min(differ))"
      ],
      "execution_count": 229,
      "outputs": [
        {
          "output_type": "stream",
          "text": [
            "Standard Deviation\n",
            "5052.532409561489\n",
            "Mean\n",
            "1196.5507637017072\n",
            "Maximum\n",
            "82469\n",
            "Minimum\n",
            "17\n"
          ],
          "name": "stdout"
        }
      ]
    },
    {
      "cell_type": "code",
      "metadata": {
        "colab": {
          "base_uri": "https://localhost:8080/",
          "height": 542
        },
        "id": "I6VDybtTHWlu",
        "outputId": "3d42798a-9609-47d8-cc5d-ba40c950de37"
      },
      "source": [
        "import pandas as pd\n",
        "import plotly.express as px\n",
        "pdf = pd.DataFrame(list(zip(policedttwe, differ)), \n",
        "               columns =['Date', 'Response Time'])\n",
        "fig = px.line(pdf, x='Date', y=\"Response Time\")\n",
        "fig.show()"
      ],
      "execution_count": 230,
      "outputs": [
        {
          "output_type": "display_data",
          "data": {
            "text/html": [
              "<html>\n",
              "<head><meta charset=\"utf-8\" /></head>\n",
              "<body>\n",
              "    <div>\n",
              "            <script src=\"https://cdnjs.cloudflare.com/ajax/libs/mathjax/2.7.5/MathJax.js?config=TeX-AMS-MML_SVG\"></script><script type=\"text/javascript\">if (window.MathJax) {MathJax.Hub.Config({SVG: {font: \"STIX-Web\"}});}</script>\n",
              "                <script type=\"text/javascript\">window.PlotlyConfig = {MathJaxConfig: 'local'};</script>\n",
              "        <script src=\"https://cdn.plot.ly/plotly-latest.min.js\"></script>    \n",
              "            <div id=\"74b0e2cd-8177-4d16-b8d0-f24c16a2d7c6\" class=\"plotly-graph-div\" style=\"height:525px; width:100%;\"></div>\n",
              "            <script type=\"text/javascript\">\n",
              "                \n",
              "                    window.PLOTLYENV=window.PLOTLYENV || {};\n",
              "                    \n",
              "                if (document.getElementById(\"74b0e2cd-8177-4d16-b8d0-f24c16a2d7c6\")) {\n",
              "                    Plotly.newPlot(\n",
              "                        '74b0e2cd-8177-4d16-b8d0-f24c16a2d7c6',\n",
              "                        [{\"hoverlabel\": {\"namelength\": 0}, \"hovertemplate\": \"Date=%{x}<br>Response Time=%{y}\", \"legendgroup\": \"\", \"line\": {\"color\": \"#636efa\", \"dash\": \"solid\"}, \"mode\": \"lines\", \"name\": \"\", \"showlegend\": false, \"type\": \"scattergl\", \"x\": [\"2021-04-16T08:36:49\", \"2021-04-16T08:02:56\", \"2021-04-16T07:54:04\", \"2021-04-16T07:47:54\", \"2021-04-16T07:47:12\", \"2021-04-16T07:45:20\", \"2021-04-16T07:22:26\", \"2021-04-16T07:16:12\", \"2021-04-16T07:12:51\", \"2021-04-16T07:12:51\", \"2021-04-16T06:36:44\", \"2021-04-16T06:35:15\", \"2021-04-16T06:28:40\", \"2021-04-16T06:13:14\", \"2021-04-16T06:12:00\", \"2021-04-16T05:58:58\", \"2021-04-16T05:54:59\", \"2021-04-16T05:44:11\", \"2021-04-16T02:21:41\", \"2021-04-16T00:53:50\", \"2021-04-15T20:08:01\", \"2021-04-15T20:02:50\", \"2021-04-15T19:53:48\", \"2021-04-15T19:07:43\", \"2021-04-15T18:57:16\", \"2021-04-15T18:51:28\", \"2021-04-15T18:31:56\", \"2021-04-15T18:20:39\", \"2021-04-15T18:17:15\", \"2021-04-15T17:59:10\", \"2021-04-15T17:56:58\", \"2021-04-15T17:55:47\", \"2021-04-15T17:52:47\", \"2021-04-15T17:44:26\", \"2021-04-15T16:56:25\", \"2021-04-15T16:33:01\", \"2021-04-15T16:25:39\", \"2021-04-15T16:20:10\", \"2021-04-15T16:07:40\", \"2021-04-15T16:06:19\", \"2021-04-15T15:50:20\", \"2021-04-15T15:50:20\", \"2021-04-15T15:17:41\", \"2021-04-15T14:57:56\", \"2021-04-15T14:54:44\", \"2021-04-15T13:40:10\", \"2021-04-15T13:18:56\", \"2021-04-15T12:49:14\", \"2021-04-15T12:38:17\", \"2021-04-15T12:35:40\", \"2021-04-15T12:18:44\", \"2021-04-15T11:59:05\", \"2021-04-15T11:16:06\", \"2021-04-15T11:10:41\", \"2021-04-15T11:09:37\", \"2021-04-15T11:04:59\", \"2021-04-15T10:31:55\", \"2021-04-15T10:27:25\", \"2021-04-15T10:22:50\", \"2021-04-15T10:21:56\", \"2021-04-15T09:33:40\", \"2021-04-15T09:27:01\", \"2021-04-15T09:16:36\", \"2021-04-15T08:54:03\", \"2021-04-15T08:45:01\", \"2021-04-15T08:22:08\", \"2021-04-15T07:56:59\", \"2021-04-15T07:25:00\", \"2021-04-15T07:19:39\", \"2021-04-15T07:07:03\", \"2021-04-15T06:48:26\", \"2021-04-15T06:48:26\", \"2021-04-15T06:39:58\", \"2021-04-15T05:26:46\", \"2021-04-15T04:54:01\", \"2021-04-15T04:52:28\", \"2021-04-15T04:48:37\", \"2021-04-15T03:50:48\", \"2021-04-15T01:53:40\", \"2021-04-14T23:38:04\", \"2021-04-14T23:35:35\", \"2021-04-14T22:56:10\", \"2021-04-14T20:56:48\", \"2021-04-14T19:44:44\", \"2021-04-14T18:44:35\", \"2021-04-14T18:43:18\", \"2021-04-14T18:41:53\", \"2021-04-14T18:32:20\", \"2021-04-14T18:16:10\", \"2021-04-14T18:14:26\", \"2021-04-14T18:07:23\", \"2021-04-14T18:05:35\", \"2021-04-14T17:59:10\", \"2021-04-14T17:55:50\", \"2021-04-14T17:48:25\", \"2021-04-14T17:44:16\", \"2021-04-14T17:42:10\", \"2021-04-14T17:41:17\", \"2021-04-14T17:40:45\", \"2021-04-14T17:32:57\", \"2021-04-14T17:01:38\", \"2021-04-14T16:20:09\", \"2021-04-14T16:10:09\", \"2021-04-14T16:00:44\", \"2021-04-14T15:54:00\", \"2021-04-14T15:32:24\", \"2021-04-14T15:29:05\", \"2021-04-14T15:24:27\", \"2021-04-14T15:21:50\", \"2021-04-14T15:21:50\", \"2021-04-14T14:57:14\", \"2021-04-14T14:50:16\", \"2021-04-14T14:38:34\", \"2021-04-14T14:29:16\", \"2021-04-14T14:04:30\", \"2021-04-14T14:02:46\", \"2021-04-14T14:00:28\", \"2021-04-14T13:50:40\", \"2021-04-14T13:42:44\", \"2021-04-14T13:41:23\", \"2021-04-14T13:34:58\", \"2021-04-14T13:27:17\", \"2021-04-14T13:23:15\", \"2021-04-14T13:02:41\", \"2021-04-14T12:40:47\", \"2021-04-14T12:32:34\", \"2021-04-14T12:25:26\", \"2021-04-14T12:10:44\", \"2021-04-14T11:26:27\", \"2021-04-14T11:26:27\", \"2021-04-14T11:10:52\", \"2021-04-14T09:35:33\", \"2021-04-14T08:43:35\", \"2021-04-14T08:33:43\", \"2021-04-14T08:30:28\", \"2021-04-14T08:29:24\", \"2021-04-14T08:29:24\", \"2021-04-14T07:44:26\", \"2021-04-14T07:41:00\", \"2021-04-14T07:34:16\", \"2021-04-14T07:28:16\", \"2021-04-14T07:10:40\", \"2021-04-14T07:03:47\", \"2021-04-14T06:42:54\", \"2021-04-14T06:29:28\", \"2021-04-14T06:25:06\", \"2021-04-14T06:16:05\", \"2021-04-14T06:15:13\", \"2021-04-14T04:54:52\", \"2021-04-14T04:01:48\", \"2021-04-14T03:48:39\", \"2021-04-14T02:21:20\", \"2021-04-14T00:36:09\", \"2021-04-14T00:32:14\", \"2021-04-13T23:16:20\", \"2021-04-13T22:55:15\", \"2021-04-13T19:15:35\", \"2021-04-13T18:08:11\", \"2021-04-13T17:16:34\", \"2021-04-13T16:56:36\", \"2021-04-13T16:44:06\", \"2021-04-13T16:29:55\", \"2021-04-13T16:24:10\", \"2021-04-13T16:13:56\", \"2021-04-13T16:09:42\", \"2021-04-13T16:07:25\", \"2021-04-13T15:49:34\", \"2021-04-13T15:49:34\", \"2021-04-13T15:49:34\", \"2021-04-13T15:26:51\", \"2021-04-13T15:14:05\", \"2021-04-13T15:12:44\", \"2021-04-13T15:10:50\", \"2021-04-13T15:05:01\", \"2021-04-13T14:51:57\", \"2021-04-13T14:49:25\", \"2021-04-13T14:10:32\", \"2021-04-13T14:07:18\", \"2021-04-13T13:27:17\", \"2021-04-13T13:15:29\", \"2021-04-13T12:45:04\", \"2021-04-13T12:39:50\", \"2021-04-13T12:39:48\", \"2021-04-13T12:00:33\", \"2021-04-13T11:52:01\", \"2021-04-13T11:42:23\", \"2021-04-13T11:26:58\", \"2021-04-13T11:25:00\", \"2021-04-13T11:04:48\", \"2021-04-13T11:00:56\", \"2021-04-13T11:00:40\", \"2021-04-13T10:55:12\", \"2021-04-13T10:41:27\", \"2021-04-13T10:21:53\", \"2021-04-13T10:05:26\", \"2021-04-13T09:50:43\", \"2021-04-13T09:44:32\", \"2021-04-13T09:26:41\", \"2021-04-13T09:26:41\", \"2021-04-13T09:22:57\", \"2021-04-13T09:11:36\", \"2021-04-13T09:04:10\", \"2021-04-13T08:34:15\", \"2021-04-13T07:59:01\", \"2021-04-13T07:31:30\", \"2021-04-13T07:25:08\", \"2021-04-13T07:16:59\", \"2021-04-13T07:09:13\", \"2021-04-13T06:47:29\", \"2021-04-13T06:33:21\", \"2021-04-13T06:15:07\", \"2021-04-13T06:15:07\", \"2021-04-13T06:03:09\", \"2021-04-13T05:51:51\", \"2021-04-13T05:42:53\", \"2021-04-13T05:35:54\", \"2021-04-13T04:52:34\", \"2021-04-13T04:01:15\", \"2021-04-13T03:28:34\", \"2021-04-13T03:08:58\", \"2021-04-13T01:32:20\", \"2021-04-13T00:59:06\", \"2021-04-13T00:19:21\", \"2021-04-13T00:19:21\", \"2021-04-12T21:37:52\", \"2021-04-12T19:52:12\", \"2021-04-12T18:02:35\", \"2021-04-12T17:51:40\", \"2021-04-12T17:17:10\", \"2021-04-12T17:13:32\", \"2021-04-12T17:12:32\", \"2021-04-12T17:12:32\", \"2021-04-12T16:59:24\", \"2021-04-12T16:26:29\", \"2021-04-12T16:08:44\", \"2021-04-12T15:58:31\", \"2021-04-12T15:57:30\", \"2021-04-12T15:49:25\", \"2021-04-12T15:46:10\", \"2021-04-12T15:34:44\", \"2021-04-12T15:08:01\", \"2021-04-12T14:45:59\", \"2021-04-12T14:38:44\", \"2021-04-12T14:21:10\", \"2021-04-12T13:57:24\", \"2021-04-12T13:56:01\", \"2021-04-12T13:25:59\", \"2021-04-12T13:11:23\", \"2021-04-12T13:08:45\", \"2021-04-12T13:08:45\", \"2021-04-12T13:00:30\", \"2021-04-12T12:40:34\", \"2021-04-12T12:22:48\", \"2021-04-12T11:30:45\", \"2021-04-12T11:30:45\", \"2021-04-12T10:23:45\", \"2021-04-12T10:11:52\", \"2021-04-12T10:05:40\", \"2021-04-12T09:59:35\", \"2021-04-12T09:58:09\", \"2021-04-12T09:44:29\", \"2021-04-12T09:18:31\", \"2021-04-12T09:07:31\", \"2021-04-12T09:07:31\", \"2021-04-12T08:56:51\", \"2021-04-12T08:01:56\", \"2021-04-12T07:31:14\", \"2021-04-12T07:30:07\", \"2021-04-12T07:27:57\", \"2021-04-12T07:25:00\", \"2021-04-12T07:18:26\", \"2021-04-12T07:02:38\", \"2021-04-12T06:49:30\", \"2021-04-12T06:43:24\", \"2021-04-12T06:12:20\", \"2021-04-12T06:07:25\", \"2021-04-12T05:44:00\", \"2021-04-12T04:53:37\", \"2021-04-12T04:48:32\", \"2021-04-12T03:50:01\", \"2021-04-12T03:42:48\", \"2021-04-11T20:43:13\", \"2021-04-11T17:34:52\", \"2021-04-11T16:50:35\", \"2021-04-11T16:35:46\", \"2021-04-11T16:03:29\", \"2021-04-11T15:49:31\", \"2021-04-11T15:38:14\", \"2021-04-11T15:27:59\", \"2021-04-11T15:24:48\", \"2021-04-11T15:15:12\", \"2021-04-11T14:42:40\", \"2021-04-11T14:29:39\", \"2021-04-11T14:01:35\", \"2021-04-11T13:57:05\", \"2021-04-11T13:28:07\", \"2021-04-11T13:23:00\", \"2021-04-11T13:21:54\", \"2021-04-11T13:21:04\", \"2021-04-11T13:18:20\", \"2021-04-11T13:15:46\", \"2021-04-11T13:11:26\", \"2021-04-11T13:10:38\", \"2021-04-11T13:09:38\", \"2021-04-11T13:08:34\", \"2021-04-11T13:07:52\", \"2021-04-11T13:02:33\", \"2021-04-11T13:00:17\", \"2021-04-11T12:59:08\", \"2021-04-11T12:57:46\", \"2021-04-11T12:56:01\", \"2021-04-11T12:51:02\", \"2021-04-11T12:49:30\", \"2021-04-11T12:48:47\", \"2021-04-11T12:45:06\", \"2021-04-11T12:41:33\", \"2021-04-11T12:39:55\", \"2021-04-11T12:24:14\", \"2021-04-11T12:23:43\", \"2021-04-11T12:21:43\", \"2021-04-11T12:17:56\", \"2021-04-11T12:16:00\", \"2021-04-11T12:16:00\", \"2021-04-11T12:12:14\", \"2021-04-11T12:10:17\", \"2021-04-11T12:02:03\", \"2021-04-11T11:58:43\", \"2021-04-11T11:54:19\", \"2021-04-11T11:45:19\", \"2021-04-11T11:06:46\", \"2021-04-11T10:47:58\", \"2021-04-11T10:47:14\", \"2021-04-11T10:45:43\", \"2021-04-11T10:38:32\", \"2021-04-11T10:31:54\", \"2021-04-11T10:28:36\", \"2021-04-11T10:14:05\", \"2021-04-11T10:13:09\", \"2021-04-11T10:11:44\", \"2021-04-11T10:08:52\", \"2021-04-11T10:00:09\", \"2021-04-11T09:58:49\", \"2021-04-11T09:57:41\", \"2021-04-11T09:42:58\", \"2021-04-11T09:32:51\", \"2021-04-11T09:19:55\", \"2021-04-11T09:14:38\", \"2021-04-11T09:10:38\", \"2021-04-11T08:50:33\", \"2021-04-11T08:36:19\", \"2021-04-11T08:04:43\", \"2021-04-11T07:31:56\", \"2021-04-11T06:57:52\", \"2021-04-11T06:21:27\", \"2021-04-11T06:13:11\", \"2021-04-11T06:07:50\", \"2021-04-11T05:45:17\", \"2021-04-11T05:44:06\", \"2021-04-11T05:31:42\", \"2021-04-11T05:29:17\", \"2021-04-11T05:25:09\", \"2021-04-11T05:04:44\", \"2021-04-11T05:03:34\", \"2021-04-11T05:01:34\", \"2021-04-11T04:49:25\", \"2021-04-11T04:42:00\", \"2021-04-11T04:41:32\", \"2021-04-11T04:40:18\", \"2021-04-11T04:37:20\", \"2021-04-11T04:33:17\", \"2021-04-11T04:16:39\", \"2021-04-11T04:07:53\", \"2021-04-11T04:03:37\", \"2021-04-11T00:28:03\", \"2021-04-10T22:26:48\", \"2021-04-10T18:28:48\", \"2021-04-10T17:34:11\", \"2021-04-10T16:08:30\", \"2021-04-10T15:34:27\", \"2021-04-10T15:21:07\", \"2021-04-10T15:18:26\", \"2021-04-10T15:14:24\", \"2021-04-10T15:13:14\", \"2021-04-10T15:12:04\", \"2021-04-10T15:06:01\", \"2021-04-10T15:06:01\", \"2021-04-10T14:45:40\", \"2021-04-10T14:43:01\", \"2021-04-10T14:42:23\", \"2021-04-10T14:40:43\", \"2021-04-10T13:48:12\", \"2021-04-10T13:46:08\", \"2021-04-10T13:29:53\", \"2021-04-10T13:22:54\", \"2021-04-10T13:09:43\", \"2021-04-10T12:51:49\", \"2021-04-10T12:42:35\", \"2021-04-10T12:31:43\", \"2021-04-10T12:23:51\", \"2021-04-10T12:18:33\", \"2021-04-10T12:16:44\", \"2021-04-10T12:06:47\", \"2021-04-10T11:56:08\", \"2021-04-10T11:48:44\", \"2021-04-10T11:30:21\", \"2021-04-10T10:56:59\", \"2021-04-10T10:32:09\", \"2021-04-10T10:13:16\", \"2021-04-10T09:59:21\", \"2021-04-10T09:52:43\", \"2021-04-10T09:21:00\", \"2021-04-10T09:16:21\", \"2021-04-10T09:13:08\", \"2021-04-10T09:09:20\", \"2021-04-10T08:38:59\", \"2021-04-10T08:22:35\", \"2021-04-10T08:19:09\", \"2021-04-10T08:13:21\", \"2021-04-10T08:08:45\", \"2021-04-10T08:02:14\", \"2021-04-10T07:38:48\", \"2021-04-10T07:04:58\", \"2021-04-10T07:04:30\", \"2021-04-10T06:50:42\", \"2021-04-10T06:35:39\", \"2021-04-10T06:28:26\", \"2021-04-10T06:23:36\", \"2021-04-10T06:05:58\", \"2021-04-10T05:57:56\", \"2021-04-10T05:56:12\", \"2021-04-10T05:56:12\", \"2021-04-10T05:50:20\", \"2021-04-10T05:49:45\", \"2021-04-10T05:44:20\", \"2021-04-10T05:42:54\", \"2021-04-10T05:38:59\", \"2021-04-10T05:28:54\", \"2021-04-10T05:27:12\", \"2021-04-10T05:18:52\", \"2021-04-10T05:16:29\", \"2021-04-10T04:44:46\", \"2021-04-10T04:35:12\", \"2021-04-10T04:21:21\", \"2021-04-10T04:07:15\", \"2021-04-10T03:51:41\", \"2021-04-10T03:16:14\", \"2021-04-10T02:54:54\", \"2021-04-09T21:08:10\", \"2021-04-09T19:53:05\", \"2021-04-09T19:09:09\", \"2021-04-09T18:50:02\", \"2021-04-09T18:22:27\", \"2021-04-09T18:08:46\", \"2021-04-09T17:41:42\", \"2021-04-09T17:25:32\", \"2021-04-09T16:47:02\", \"2021-04-09T16:28:01\", \"2021-04-09T16:17:02\", \"2021-04-09T15:14:08\", \"2021-04-09T15:10:43\", \"2021-04-09T14:46:43\", \"2021-04-09T14:42:22\", \"2021-04-09T14:30:49\", \"2021-04-09T14:22:21\", \"2021-04-09T14:20:02\", \"2021-04-09T14:19:19\", \"2021-04-09T14:09:09\", \"2021-04-09T14:01:55\", \"2021-04-09T13:29:40\", \"2021-04-09T13:20:27\", \"2021-04-09T13:18:58\", \"2021-04-09T12:20:38\", \"2021-04-09T11:42:01\", \"2021-04-09T11:35:37\", \"2021-04-09T11:17:45\", \"2021-04-09T10:24:09\", \"2021-04-09T09:35:22\", \"2021-04-09T09:27:36\", \"2021-04-09T09:06:43\", \"2021-04-09T08:29:47\", \"2021-04-09T08:22:13\", \"2021-04-09T08:14:04\", \"2021-04-09T07:45:29\", \"2021-04-09T07:40:59\", \"2021-04-09T07:26:17\", \"2021-04-09T07:23:18\", \"2021-04-09T07:12:58\", \"2021-04-09T06:10:29\", \"2021-04-09T06:02:20\", \"2021-04-09T05:58:36\", \"2021-04-09T05:38:35\", \"2021-04-09T05:21:42\", \"2021-04-09T05:21:42\", \"2021-04-09T05:20:05\", \"2021-04-09T04:48:40\", \"2021-04-09T04:39:28\", \"2021-04-09T04:12:14\", \"2021-04-09T03:18:39\", \"2021-04-09T03:09:46\", \"2021-04-09T02:00:45\", \"2021-04-09T01:10:41\", \"2021-04-09T00:48:52\", \"2021-04-09T00:34:54\", \"2021-04-09T00:27:31\", \"2021-04-09T00:19:59\", \"2021-04-08T23:13:24\", \"2021-04-08T19:56:21\", \"2021-04-08T18:43:23\", \"2021-04-08T18:42:36\", \"2021-04-08T17:43:49\", \"2021-04-08T17:43:31\", \"2021-04-08T17:40:52\", \"2021-04-08T17:18:08\", \"2021-04-08T17:07:43\", \"2021-04-08T16:43:42\", \"2021-04-08T16:43:42\", \"2021-04-08T16:40:39\", \"2021-04-08T16:30:50\", \"2021-04-08T16:20:35\", \"2021-04-08T16:10:07\", \"2021-04-08T15:55:59\", \"2021-04-08T15:42:07\", \"2021-04-08T15:33:15\", \"2021-04-08T15:29:51\", \"2021-04-08T15:24:01\", \"2021-04-08T15:06:53\", \"2021-04-08T15:00:06\", \"2021-04-08T14:56:40\", \"2021-04-08T14:49:50\", \"2021-04-08T14:40:32\", \"2021-04-08T14:15:52\", \"2021-04-08T14:11:27\", \"2021-04-08T14:10:42\", \"2021-04-08T13:53:06\", \"2021-04-08T13:51:33\", \"2021-04-08T13:51:33\", \"2021-04-08T13:32:25\", \"2021-04-08T13:29:04\", \"2021-04-08T13:22:34\", \"2021-04-08T11:37:14\", \"2021-04-08T10:50:28\", \"2021-04-08T10:17:51\", \"2021-04-08T10:06:53\", \"2021-04-08T08:58:30\", \"2021-04-08T08:57:03\", \"2021-04-08T08:22:24\", \"2021-04-08T08:01:48\", \"2021-04-08T07:51:36\", \"2021-04-08T07:49:26\", \"2021-04-08T07:33:54\", \"2021-04-08T06:41:59\", \"2021-04-08T05:59:13\", \"2021-04-08T05:57:47\", \"2021-04-08T04:45:52\", \"2021-04-08T04:44:19\", \"2021-04-08T03:38:52\", \"2021-04-08T01:40:39\", \"2021-04-07T19:05:30\", \"2021-04-07T18:29:07\", \"2021-04-07T17:15:55\", \"2021-04-07T16:46:54\", \"2021-04-07T16:35:16\", \"2021-04-07T16:29:32\", \"2021-04-07T16:28:24\", \"2021-04-07T16:22:20\", \"2021-04-07T15:47:51\", \"2021-04-07T15:44:49\", \"2021-04-07T15:43:48\", \"2021-04-07T15:29:32\", \"2021-04-07T15:27:19\", \"2021-04-07T15:24:26\", \"2021-04-07T15:22:59\", \"2021-04-07T15:18:53\", \"2021-04-07T15:05:19\", \"2021-04-07T15:02:22\", \"2021-04-07T14:25:42\", \"2021-04-07T14:13:26\", \"2021-04-07T13:56:32\", \"2021-04-07T13:31:43\", \"2021-04-07T13:22:32\", \"2021-04-07T13:13:40\", \"2021-04-07T12:42:26\", \"2021-04-07T12:08:52\", \"2021-04-07T12:06:08\", \"2021-04-07T11:46:26\", \"2021-04-07T11:32:18\", \"2021-04-07T11:28:12\", \"2021-04-07T11:12:20\", \"2021-04-07T10:58:51\", \"2021-04-07T10:47:03\", \"2021-04-07T10:14:58\", \"2021-04-07T10:14:58\", \"2021-04-07T10:10:15\", \"2021-04-07T10:08:01\", \"2021-04-07T09:45:35\", \"2021-04-07T08:47:10\", \"2021-04-07T08:18:17\", \"2021-04-07T08:11:05\", \"2021-04-07T08:08:56\", \"2021-04-07T08:01:29\", \"2021-04-07T08:00:24\", \"2021-04-07T07:08:30\", \"2021-04-07T07:02:00\", \"2021-04-07T06:44:38\", \"2021-04-07T06:35:46\", \"2021-04-07T06:28:13\", \"2021-04-07T06:26:43\", \"2021-04-07T05:38:46\", \"2021-04-07T05:34:55\", \"2021-04-07T04:51:32\", \"2021-04-07T04:47:06\", \"2021-04-07T04:40:09\", \"2021-04-07T04:23:45\", \"2021-04-07T03:46:34\", \"2021-04-07T03:46:24\", \"2021-04-06T20:04:55\", \"2021-04-06T17:48:10\", \"2021-04-06T17:06:01\", \"2021-04-06T17:00:29\", \"2021-04-06T16:05:28\", \"2021-04-06T16:00:51\", \"2021-04-06T15:54:05\", \"2021-04-06T15:22:51\", \"2021-04-06T15:20:13\", \"2021-04-06T15:18:30\", \"2021-04-06T15:05:58\", \"2021-04-06T14:02:54\", \"2021-04-06T13:21:00\", \"2021-04-06T13:20:10\", \"2021-04-06T13:17:34\", \"2021-04-06T13:10:53\", \"2021-04-06T13:10:09\", \"2021-04-06T13:10:09\", \"2021-04-06T12:49:37\", \"2021-04-06T12:34:34\", \"2021-04-06T12:31:55\", \"2021-04-06T12:20:57\", \"2021-04-06T11:55:39\", \"2021-04-06T11:51:58\", \"2021-04-06T11:33:08\", \"2021-04-06T11:20:47\", \"2021-04-06T11:06:17\", \"2021-04-06T10:50:12\", \"2021-04-06T10:29:59\", \"2021-04-06T09:55:05\", \"2021-04-06T09:46:40\", \"2021-04-06T09:45:24\", \"2021-04-06T09:35:25\", \"2021-04-06T09:32:53\", \"2021-04-06T09:31:50\", \"2021-04-06T09:30:09\", \"2021-04-06T09:22:53\", \"2021-04-06T09:14:12\", \"2021-04-06T08:15:47\", \"2021-04-06T07:15:21\", \"2021-04-06T07:06:47\", \"2021-04-06T06:57:55\", \"2021-04-06T06:56:48\", \"2021-04-06T06:39:59\", \"2021-04-06T06:36:09\", \"2021-04-06T06:31:29\", \"2021-04-06T06:18:11\", \"2021-04-06T06:09:29\", \"2021-04-06T06:02:29\", \"2021-04-06T06:02:29\", \"2021-04-06T05:56:20\", \"2021-04-06T05:47:09\", \"2021-04-06T05:44:55\", \"2021-04-06T04:21:36\", \"2021-04-06T04:01:08\", \"2021-04-06T01:09:31\", \"2021-04-05T21:50:38\", \"2021-04-05T19:30:59\", \"2021-04-05T18:20:39\", \"2021-04-05T17:26:46\", \"2021-04-05T17:09:32\", \"2021-04-05T16:36:56\", \"2021-04-05T16:19:24\", \"2021-04-05T15:57:59\", \"2021-04-05T15:54:58\", \"2021-04-05T15:46:37\", \"2021-04-05T15:45:49\", \"2021-04-05T15:35:22\", \"2021-04-05T15:33:20\", \"2021-04-05T15:26:31\", \"2021-04-05T15:24:56\", \"2021-04-05T15:19:05\", \"2021-04-05T15:14:45\", \"2021-04-05T15:13:42\", \"2021-04-05T15:11:28\", \"2021-04-05T15:09:18\", \"2021-04-05T14:57:43\", \"2021-04-05T14:48:05\", \"2021-04-05T14:44:09\", \"2021-04-05T14:42:51\", \"2021-04-05T14:39:15\", \"2021-04-05T14:36:50\", \"2021-04-05T14:35:36\", \"2021-04-05T14:30:37\", \"2021-04-05T14:29:23\", \"2021-04-05T14:19:58\", \"2021-04-05T14:03:42\", \"2021-04-05T13:54:27\", \"2021-04-05T13:53:33\", \"2021-04-01T14:54:44\", \"2021-04-01T14:49:52\", \"2021-04-01T14:24:45\", \"2021-04-01T14:14:44\", \"2021-04-01T14:09:38\", \"2021-04-01T14:09:38\", \"2021-04-01T14:09:38\", \"2021-04-01T13:52:41\", \"2021-04-01T13:47:42\", \"2021-04-01T13:28:52\", \"2021-04-01T13:13:59\", \"2021-04-01T12:58:09\", \"2021-04-01T12:38:42\", \"2021-04-01T12:28:41\", \"2021-04-01T12:25:05\", \"2021-04-01T12:15:48\", \"2021-04-01T12:15:48\", \"2021-04-01T11:05:58\", \"2021-04-01T10:45:34\", \"2021-04-01T10:41:47\", \"2021-04-01T09:38:07\", \"2021-04-01T09:04:03\", \"2021-04-01T08:56:41\", \"2021-04-01T08:15:13\", \"2021-04-01T07:55:59\", \"2021-04-01T07:54:29\", \"2021-04-01T07:49:04\", \"2021-04-01T07:47:53\", \"2021-04-01T07:43:14\", \"2021-04-01T07:42:32\", \"2021-04-01T07:40:49\", \"2021-04-01T07:17:45\", \"2021-04-01T07:05:19\", \"2021-04-01T06:45:40\", \"2021-04-01T06:45:04\", \"2021-04-01T06:32:53\", \"2021-04-01T06:26:35\", \"2021-04-01T06:12:52\", \"2021-04-01T06:11:32\", \"2021-04-01T06:10:13\", \"2021-04-01T05:42:15\", \"2021-04-01T05:16:15\", \"2021-04-01T04:51:07\", \"2021-04-01T04:42:27\", \"2021-04-01T04:10:34\", \"2021-04-01T03:58:29\", \"2021-04-01T03:56:38\", \"2021-04-01T03:56:06\", \"2021-04-01T02:40:09\", \"2021-04-01T00:16:29\", \"2021-03-31T22:47:49\", \"2021-03-31T20:44:57\", \"2021-03-31T20:38:19\", \"2021-03-31T18:46:02\", \"2021-03-31T18:16:16\", \"2021-03-31T18:15:36\", \"2021-03-31T18:03:30\", \"2021-03-31T17:41:21\", \"2021-03-31T17:28:04\", \"2021-03-31T17:19:08\", \"2021-03-31T17:13:21\", \"2021-03-31T17:10:14\", \"2021-03-31T17:08:28\", \"2021-03-31T16:55:39\", \"2021-03-31T16:49:12\", \"2021-03-31T16:34:13\", \"2021-03-31T16:33:11\", \"2021-03-31T16:30:03\", \"2021-03-31T16:25:35\", \"2021-03-31T16:24:30\", \"2021-03-31T16:24:05\", \"2021-03-31T16:12:10\", \"2021-03-31T16:12:10\", \"2021-03-31T16:05:31\", \"2021-03-31T15:56:43\", \"2021-03-31T15:52:07\", \"2021-03-31T15:41:34\", \"2021-03-31T15:31:27\", \"2021-03-31T15:16:30\", \"2021-03-31T15:12:57\", \"2021-03-31T14:49:41\", \"2021-03-31T14:45:40\", \"2021-03-31T14:43:43\", \"2021-03-31T14:41:21\", \"2021-03-31T14:40:23\", \"2021-03-31T14:38:58\", \"2021-03-31T12:14:45\", \"2021-03-31T12:11:27\", \"2021-03-31T12:09:39\", \"2021-03-31T11:27:40\", \"2021-03-31T11:27:40\", \"2021-03-31T10:43:35\", \"2021-03-31T10:43:35\", \"2021-03-31T10:38:34\", \"2021-03-31T10:31:45\", \"2021-03-31T10:28:10\", \"2021-03-31T10:24:34\", \"2021-03-31T10:21:08\", \"2021-03-31T10:21:08\", \"2021-03-31T10:20:24\", \"2021-03-31T10:18:41\", \"2021-03-31T09:27:56\", \"2021-03-31T09:24:24\", \"2021-03-31T09:00:05\", \"2021-03-31T08:54:50\", \"2021-03-31T08:37:39\", \"2021-03-31T08:30:36\", \"2021-03-31T07:18:51\", \"2021-03-31T07:18:01\", \"2021-03-31T07:00:01\", \"2021-03-31T06:45:17\", \"2021-03-31T06:39:23\", \"2021-03-31T06:30:55\", \"2021-03-31T05:38:30\", \"2021-03-31T05:31:39\", \"2021-03-31T05:11:08\", \"2021-03-31T04:33:14\", \"2021-03-31T04:03:53\", \"2021-03-31T04:01:10\", \"2021-03-31T03:53:44\", \"2021-03-31T02:30:48\", \"2021-03-31T01:38:39\", \"2021-03-30T23:01:58\", \"2021-03-30T18:45:47\", \"2021-03-30T18:28:03\", \"2021-03-30T17:55:37\", \"2021-03-30T16:34:26\", \"2021-03-30T16:09:46\", \"2021-03-30T16:03:14\", \"2021-03-30T16:03:06\", \"2021-03-30T15:51:11\", \"2021-03-30T15:48:44\", \"2021-03-30T15:48:33\", \"2021-03-30T15:46:28\", \"2021-03-30T15:44:06\", \"2021-03-30T15:42:43\", \"2021-03-30T15:39:51\", \"2021-03-30T15:36:47\", \"2021-03-30T15:31:23\", \"2021-03-30T15:25:17\", \"2021-03-30T15:24:26\", \"2021-03-30T15:21:02\", \"2021-03-30T15:18:03\", \"2021-03-30T15:12:35\", \"2021-03-30T15:12:07\", \"2021-03-30T15:07:33\", \"2021-03-30T15:05:37\", \"2021-03-30T14:56:48\", \"2021-03-30T14:42:01\", \"2021-03-30T14:40:41\", \"2021-03-30T14:37:41\", \"2021-03-30T14:31:52\", \"2021-03-30T14:24:55\", \"2021-03-30T14:17:31\", \"2021-03-30T14:00:03\", \"2021-03-30T12:32:51\", \"2021-03-30T12:32:51\", \"2021-03-30T12:32:19\", \"2021-03-30T12:30:53\", \"2021-03-30T12:30:45\", \"2021-03-30T11:58:18\", \"2021-03-30T11:54:46\", \"2021-03-30T11:50:30\", \"2021-03-30T11:08:40\", \"2021-03-30T11:08:40\", \"2021-03-30T10:49:44\", \"2021-03-30T10:29:22\", \"2021-03-30T10:21:49\", \"2021-03-30T10:08:50\", \"2021-03-30T10:06:03\", \"2021-03-30T09:52:21\", \"2021-03-30T09:49:01\", \"2021-03-30T09:47:04\", \"2021-03-30T09:38:27\", \"2021-03-30T09:31:11\", \"2021-03-30T09:28:19\", \"2021-03-30T08:32:00\", \"2021-03-30T08:08:27\", \"2021-03-30T07:42:46\", \"2021-03-30T07:16:54\", \"2021-03-30T07:16:19\", \"2021-03-30T06:59:50\", \"2021-03-30T06:50:25\", \"2021-03-30T06:37:53\", \"2021-03-30T06:35:36\", \"2021-03-30T05:58:53\", \"2021-03-30T05:57:07\", \"2021-03-30T05:48:22\", \"2021-03-30T05:43:39\", \"2021-03-30T05:34:39\", \"2021-03-30T05:17:08\", \"2021-03-30T04:43:26\", \"2021-03-30T04:11:43\", \"2021-03-30T04:09:41\", \"2021-03-30T04:00:27\", \"2021-03-30T03:51:13\", \"2021-03-30T02:04:53\", \"2021-03-30T02:03:04\", \"2021-03-29T20:32:59\", \"2021-03-29T18:49:19\", \"2021-03-29T18:25:39\", \"2021-03-29T17:09:23\", \"2021-03-29T17:09:23\", \"2021-03-29T16:51:17\", \"2021-03-29T16:44:24\", \"2021-03-29T16:36:55\", \"2021-03-29T16:33:35\", \"2021-03-29T16:26:55\", \"2021-03-29T16:26:41\", \"2021-03-29T15:34:13\", \"2021-03-29T15:21:55\", \"2021-03-29T15:13:20\", \"2021-03-29T15:13:02\", \"2021-03-29T13:46:12\", \"2021-03-29T13:37:54\", \"2021-03-29T13:34:01\", \"2021-03-29T13:31:46\", \"2021-03-29T13:30:16\", \"2021-03-29T13:23:32\", \"2021-03-29T13:09:48\", \"2021-03-29T13:05:46\", \"2021-03-29T13:01:55\", \"2021-03-29T13:00:08\", \"2021-03-29T11:55:53\", \"2021-03-29T11:22:31\", \"2021-03-29T11:19:25\", \"2021-03-29T11:07:59\", \"2021-03-29T11:03:00\", \"2021-03-29T11:00:14\", \"2021-03-29T10:10:31\", \"2021-03-29T10:03:19\", \"2021-03-29T09:40:25\", \"2021-03-29T09:37:15\", \"2021-03-29T09:36:12\", \"2021-03-29T09:18:01\", \"2021-03-29T09:09:45\", \"2021-03-29T09:09:04\", \"2021-03-29T09:02:49\", \"2021-03-29T08:59:54\", \"2021-03-29T08:56:08\", \"2021-03-29T08:54:48\", \"2021-03-29T08:53:54\", \"2021-03-29T08:52:09\", \"2021-03-29T08:52:09\", \"2021-03-29T08:48:44\", \"2021-03-29T08:33:47\", \"2021-03-29T08:15:22\", \"2021-03-29T07:52:45\", \"2021-03-29T07:46:07\", \"2021-03-29T07:43:06\", \"2021-03-29T07:23:21\", \"2021-03-29T07:17:50\", \"2021-03-29T07:02:38\", \"2021-03-29T06:52:16\", \"2021-03-29T06:41:25\", \"2021-03-29T06:40:06\", \"2021-03-29T06:36:40\", \"2021-03-29T06:09:08\", \"2021-03-29T05:45:41\", \"2021-03-29T05:37:07\", \"2021-03-29T05:33:37\", \"2021-03-29T05:32:05\", \"2021-03-29T05:30:46\", \"2021-03-29T05:22:12\", \"2021-03-29T05:06:08\", \"2021-03-29T04:59:59\", \"2021-03-29T04:59:59\", \"2021-03-29T04:47:39\", \"2021-03-29T04:47:39\", \"2021-03-29T04:41:31\", \"2021-03-29T04:39:38\", \"2021-03-29T04:36:24\", \"2021-03-29T04:26:24\", \"2021-03-29T04:11:33\", \"2021-03-29T02:54:58\", \"2021-03-29T02:28:08\", \"2021-03-29T01:39:43\", \"2021-03-28T20:45:58\", \"2021-03-28T20:36:19\", \"2021-03-28T20:14:24\", \"2021-03-28T20:12:14\", \"2021-03-28T19:53:40\", \"2021-03-28T19:53:40\", \"2021-03-28T18:57:00\", \"2021-03-28T18:47:16\", \"2021-03-28T18:21:50\", \"2021-03-28T18:13:39\", \"2021-03-28T18:02:09\", \"2021-03-28T17:59:51\", \"2021-03-28T17:50:57\", \"2021-03-28T17:49:03\", \"2021-03-28T17:45:05\", \"2021-03-28T17:45:05\", \"2021-03-28T17:44:39\", \"2021-03-28T17:42:22\", \"2021-03-28T17:38:57\", \"2021-03-28T17:36:50\", \"2021-03-28T17:14:35\", \"2021-03-28T17:12:33\", \"2021-03-28T17:10:10\", \"2021-03-28T16:24:08\", \"2021-03-28T16:17:44\", \"2021-03-28T16:05:16\", \"2021-03-28T15:54:16\", \"2021-03-28T15:28:50\", \"2021-03-28T15:12:15\", \"2021-03-28T15:10:45\", \"2021-03-28T14:59:24\", \"2021-03-28T14:56:35\", \"2021-03-28T14:56:35\", \"2021-03-28T12:12:44\", \"2021-03-28T11:58:48\", \"2021-03-28T11:07:01\", \"2021-03-28T10:57:16\", \"2021-03-28T10:18:54\", \"2021-03-28T09:38:52\", \"2021-03-28T08:43:27\", \"2021-03-28T07:58:20\", \"2021-03-28T07:40:36\", \"2021-03-28T07:07:40\", \"2021-03-28T06:56:01\", \"2021-03-28T06:56:01\", \"2021-03-28T06:45:11\", \"2021-03-28T06:00:44\", \"2021-03-28T04:32:37\", \"2021-03-28T04:26:51\", \"2021-03-28T03:38:42\", \"2021-03-28T03:26:33\", \"2021-03-28T03:18:12\", \"2021-03-28T02:50:41\", \"2021-03-28T01:29:39\", \"2021-03-27T21:57:12\", \"2021-03-27T21:30:17\", \"2021-03-27T21:22:36\", \"2021-03-27T18:57:14\", \"2021-03-27T17:08:46\", \"2021-03-27T16:17:54\", \"2021-03-27T16:08:55\", \"2021-03-27T15:45:58\", \"2021-03-27T15:15:57\", \"2021-03-27T14:57:52\", \"2021-03-27T14:50:57\", \"2021-03-27T14:38:38\", \"2021-03-27T14:36:25\", \"2021-03-27T14:30:34\", \"2021-03-27T14:26:08\", \"2021-03-27T14:13:39\", \"2021-03-27T14:11:49\", \"2021-03-27T13:43:50\", \"2021-03-27T13:25:40\", \"2021-03-27T13:24:19\", \"2021-03-27T13:07:46\", \"2021-03-27T13:01:04\", \"2021-03-27T12:55:54\", \"2021-03-27T11:36:51\", \"2021-03-27T11:20:46\", \"2021-03-27T10:48:56\", \"2021-03-27T10:30:29\", \"2021-03-27T09:41:03\", \"2021-03-27T09:30:49\", \"2021-03-27T09:17:07\", \"2021-03-27T09:09:19\", \"2021-03-27T08:48:50\", \"2021-03-27T08:44:39\", \"2021-03-27T08:37:44\", \"2021-03-27T08:32:27\", \"2021-03-27T08:12:17\", \"2021-03-27T08:05:23\", \"2021-03-27T07:36:20\", \"2021-03-27T07:34:37\", \"2021-03-27T07:32:48\", \"2021-03-27T07:26:16\", \"2021-03-27T07:12:04\", \"2021-03-27T06:59:53\", \"2021-03-27T06:40:03\", \"2021-03-27T06:37:02\", \"2021-03-27T06:20:34\", \"2021-03-27T06:18:05\", \"2021-03-27T05:18:49\", \"2021-03-27T05:18:24\", \"2021-03-27T05:15:28\", \"2021-03-27T04:52:07\", \"2021-03-27T04:32:13\", \"2021-03-27T04:11:48\", \"2021-03-27T04:09:09\", \"2021-03-27T04:09:09\", \"2021-03-27T02:35:15\", \"2021-03-27T02:28:49\", \"2021-03-26T23:19:35\", \"2021-03-26T22:45:04\", \"2021-03-26T19:42:53\", \"2021-03-26T19:34:25\", \"2021-03-26T19:34:25\", \"2021-03-26T19:25:42\", \"2021-03-26T19:25:42\", \"2021-03-26T19:23:56\", \"2021-03-26T19:12:24\", \"2021-03-26T19:02:37\", \"2021-03-26T18:54:13\", \"2021-03-26T18:40:00\", \"2021-03-26T18:37:59\", \"2021-03-26T18:20:18\", \"2021-03-26T18:08:33\", \"2021-03-26T17:24:20\", \"2021-03-26T17:19:26\", \"2021-03-26T17:15:09\", \"2021-03-26T16:32:03\", \"2021-03-26T16:26:34\", \"2021-03-26T16:25:02\", \"2021-03-26T16:15:08\", \"2021-03-26T16:12:08\", \"2021-03-26T16:08:30\", \"2021-03-26T15:58:27\", \"2021-03-26T15:45:37\", \"2021-03-26T15:09:01\", \"2021-03-26T15:06:00\", \"2021-03-26T14:33:51\", \"2021-03-26T14:27:00\", \"2021-03-26T14:12:58\", \"2021-03-26T14:11:17\", \"2021-03-26T14:08:52\", \"2021-03-26T14:00:23\", \"2021-03-26T13:54:41\", \"2021-03-26T13:06:31\", \"2021-03-26T12:56:15\", \"2021-03-26T12:41:39\", \"2021-03-26T12:04:38\", \"2021-03-26T11:44:34\", \"2021-03-26T10:54:37\", \"2021-03-26T10:24:55\", \"2021-03-26T10:18:35\", \"2021-03-26T10:13:25\", \"2021-03-26T09:55:03\", \"2021-03-26T09:42:45\", \"2021-03-26T09:17:47\", \"2021-03-26T09:03:48\", \"2021-03-26T08:56:09\", \"2021-03-26T08:12:08\", \"2021-03-26T08:07:56\", \"2021-03-26T07:49:35\", \"2021-03-26T07:01:35\", \"2021-03-26T06:58:20\", \"2021-03-26T06:57:21\", \"2021-03-26T06:55:34\", \"2021-03-26T06:48:30\", \"2021-03-26T06:42:57\", \"2021-03-26T06:34:55\", \"2021-03-26T06:26:40\", \"2021-03-26T06:25:47\", \"2021-03-26T06:16:37\", \"2021-03-26T06:12:22\", \"2021-03-26T05:51:36\", \"2021-03-26T04:37:50\", \"2021-03-26T04:33:12\", \"2021-03-26T04:09:30\", \"2021-03-26T03:28:17\", \"2021-03-26T03:12:29\", \"2021-03-26T02:49:24\", \"2021-03-26T02:38:46\", \"2021-03-26T02:00:57\", \"2021-03-26T01:56:50\", \"2021-03-26T00:18:07\", \"2021-03-25T22:54:05\", \"2021-03-25T20:34:19\", \"2021-03-25T19:35:14\", \"2021-03-25T19:15:29\", \"2021-03-25T18:12:48\", \"2021-03-25T18:06:52\", \"2021-03-25T17:40:21\", \"2021-03-25T17:38:38\", \"2021-03-25T17:38:38\", \"2021-03-25T17:26:30\", \"2021-03-25T17:20:18\", \"2021-03-25T17:18:01\", \"2021-03-25T17:10:33\", \"2021-03-25T17:06:44\", \"2021-03-25T16:54:51\", \"2021-03-25T16:52:50\", \"2021-03-25T15:04:49\", \"2021-03-25T14:49:40\", \"2021-03-25T14:48:10\", \"2021-03-25T14:47:01\", \"2021-03-25T14:44:06\", \"2021-03-25T14:39:30\", \"2021-03-25T14:20:47\", \"2021-03-25T14:00:12\", \"2021-03-25T14:00:12\", \"2021-03-25T13:45:56\", \"2021-03-25T13:24:43\", \"2021-03-25T13:20:41\", \"2021-03-25T13:15:22\", \"2021-03-25T13:12:44\", \"2021-03-25T13:01:23\", \"2021-03-25T12:54:06\", \"2021-03-25T12:43:31\", \"2021-03-25T10:54:03\", \"2021-03-25T10:16:52\", \"2021-03-25T09:19:24\", \"2021-03-25T09:05:58\", \"2021-03-25T07:58:19\", \"2021-03-25T07:51:14\", \"2021-03-25T06:37:00\", \"2021-03-25T06:22:35\", \"2021-03-25T06:05:12\", \"2021-03-25T05:53:48\", \"2021-03-25T05:50:16\", \"2021-03-25T05:05:02\", \"2021-03-25T05:04:38\", \"2021-03-25T04:06:28\", \"2021-03-25T03:50:03\", \"2021-03-25T03:48:59\", \"2021-03-25T02:09:40\", \"2021-03-25T01:44:39\", \"2021-03-24T19:37:53\", \"2021-03-24T19:32:54\", \"2021-03-24T18:27:15\", \"2021-03-24T18:22:26\", \"2021-03-24T18:21:04\", \"2021-03-24T17:15:11\", \"2021-03-24T15:59:08\", \"2021-03-24T15:48:47\", \"2021-03-24T15:30:21\", \"2021-03-24T15:02:21\", \"2021-03-24T14:56:52\", \"2021-03-24T14:55:31\", \"2021-03-24T14:45:53\", \"2021-03-24T14:41:14\", \"2021-03-24T14:06:15\", \"2021-03-24T13:54:43\", \"2021-03-24T13:33:31\", \"2021-03-24T13:09:23\", \"2021-03-24T12:44:49\", \"2021-03-24T12:19:21\", \"2021-03-24T12:17:52\", \"2021-03-24T12:15:22\", \"2021-03-24T11:59:34\", \"2021-03-24T11:38:47\", \"2021-03-24T11:29:28\", \"2021-03-24T11:02:33\", \"2021-03-24T10:37:25\", \"2021-03-24T10:35:42\", \"2021-03-24T10:24:35\", \"2021-03-24T10:10:28\", \"2021-03-24T10:06:30\", \"2021-03-24T10:04:39\", \"2021-03-24T10:02:30\", \"2021-03-24T09:35:40\", \"2021-03-24T09:12:21\", \"2021-03-24T08:54:51\", \"2021-03-24T08:40:27\", \"2021-03-24T08:39:16\", \"2021-03-24T08:14:18\", \"2021-03-24T07:45:41\", \"2021-03-24T07:03:29\", \"2021-03-24T06:50:54\", \"2021-03-24T06:45:56\", \"2021-03-24T06:42:00\", \"2021-03-24T06:33:40\", \"2021-03-24T06:11:02\", \"2021-03-24T06:10:24\", \"2021-03-24T05:54:23\", \"2021-03-24T05:53:14\", \"2021-03-24T05:42:54\", \"2021-03-24T05:35:25\", \"2021-03-24T05:31:05\", \"2021-03-24T05:22:30\", \"2021-03-24T05:09:09\", \"2021-03-24T05:05:54\", \"2021-03-24T04:37:48\", \"2021-03-24T04:31:42\", \"2021-03-24T04:28:47\", \"2021-03-23T19:58:07\", \"2021-03-23T18:39:17\", \"2021-03-23T18:07:25\", \"2021-03-23T17:46:53\", \"2021-03-23T17:13:17\", \"2021-03-23T17:02:47\", \"2021-03-23T16:50:38\", \"2021-03-23T16:43:29\", \"2021-03-23T16:16:34\", \"2021-03-23T16:12:22\", \"2021-03-23T16:09:43\", \"2021-03-23T15:47:32\", \"2021-03-23T15:36:04\", \"2021-03-23T15:34:42\", \"2021-03-23T15:19:15\", \"2021-03-23T15:18:20\", \"2021-03-23T15:16:21\", \"2021-03-23T15:15:20\", \"2021-03-23T15:13:04\", \"2021-03-23T15:06:11\", \"2021-03-23T15:03:33\", \"2021-03-23T15:01:14\", \"2021-03-23T14:58:33\", \"2021-03-23T14:00:47\", \"2021-03-23T13:55:53\", \"2021-03-23T13:44:07\", \"2021-03-23T13:11:42\", \"2021-03-23T13:07:20\", \"2021-03-23T12:51:41\", \"2021-03-23T10:49:46\", \"2021-03-23T10:39:23\", \"2021-03-23T10:19:17\", \"2021-03-23T09:47:35\", \"2021-03-23T09:40:23\", \"2021-03-23T09:25:31\", \"2021-03-23T09:11:54\", \"2021-03-23T08:56:10\", \"2021-03-23T08:51:39\", \"2021-03-23T08:26:28\", \"2021-03-23T07:59:13\", \"2021-03-23T07:58:51\", \"2021-03-23T07:54:41\", \"2021-03-23T07:18:47\", \"2021-03-23T07:09:30\", \"2021-03-23T06:59:48\", \"2021-03-23T06:19:27\", \"2021-03-23T05:37:18\", \"2021-03-23T05:23:15\", \"2021-03-23T05:15:48\", \"2021-03-23T05:10:17\", \"2021-03-23T04:51:23\", \"2021-03-23T04:36:21\", \"2021-03-23T04:26:51\", \"2021-03-23T03:10:40\", \"2021-03-23T03:09:36\", \"2021-03-23T02:09:15\", \"2021-03-23T01:50:24\", \"2021-03-23T00:40:06\", \"2021-03-22T18:50:44\", \"2021-03-22T18:43:45\", \"2021-03-22T18:21:38\", \"2021-03-22T18:07:11\", \"2021-03-22T17:52:44\", \"2021-03-22T17:29:01\", \"2021-03-22T17:25:29\", \"2021-03-22T17:23:49\", \"2021-03-22T16:38:09\", \"2021-03-22T16:28:21\", \"2021-03-22T15:44:32\", \"2021-03-22T15:10:52\", \"2021-03-22T15:03:12\", \"2021-03-22T14:55:26\", \"2021-03-22T14:53:45\", \"2021-03-22T14:53:11\", \"2021-03-22T14:15:26\", \"2021-03-22T14:12:10\", \"2021-03-22T13:55:53\", \"2021-03-22T13:50:17\", \"2021-03-22T13:45:25\", \"2021-03-22T13:38:41\", \"2021-03-22T12:56:31\", \"2021-03-22T12:38:02\", \"2021-03-22T12:27:14\", \"2021-03-22T12:18:56\", \"2021-03-22T12:12:25\", \"2021-03-22T11:56:06\", \"2021-03-22T11:52:03\", \"2021-03-22T11:11:45\", \"2021-03-22T11:07:47\", \"2021-03-22T10:02:20\", \"2021-03-22T09:29:55\", \"2021-03-22T09:14:45\", \"2021-03-22T09:00:25\", \"2021-03-22T08:54:51\", \"2021-03-22T08:44:24\", \"2021-03-22T08:41:26\", \"2021-03-22T08:37:36\", \"2021-03-22T08:11:39\", \"2021-03-22T08:09:41\", \"2021-03-22T08:03:38\", \"2021-03-22T07:50:54\", \"2021-03-22T07:49:19\", \"2021-03-22T07:40:54\", \"2021-03-22T07:37:05\", \"2021-03-22T07:34:02\", \"2021-03-22T07:16:04\", \"2021-03-22T06:52:57\", \"2021-03-22T06:50:21\", \"2021-03-22T06:39:49\", \"2021-03-22T06:35:40\", \"2021-03-22T06:11:43\", \"2021-03-22T05:29:02\", \"2021-03-22T05:25:42\", \"2021-03-22T05:22:06\", \"2021-03-22T05:21:38\", \"2021-03-22T05:19:11\", \"2021-03-22T05:01:19\", \"2021-03-22T04:55:59\", \"2021-03-22T04:51:06\", \"2021-03-22T04:37:08\", \"2021-03-22T04:35:20\", \"2021-03-22T04:24:27\", \"2021-03-22T03:46:09\", \"2021-03-22T03:42:01\", \"2021-03-22T03:39:58\", \"2021-03-22T01:59:05\", \"2021-03-21T17:51:34\", \"2021-03-21T17:10:33\", \"2021-03-21T17:00:57\", \"2021-03-21T16:55:12\", \"2021-03-21T16:55:12\", \"2021-03-21T16:40:41\", \"2021-03-21T16:34:22\", \"2021-03-21T16:13:57\", \"2021-03-21T16:10:15\", \"2021-03-21T16:06:28\", \"2021-03-21T16:02:13\", \"2021-03-21T14:49:06\", \"2021-03-21T13:40:49\", \"2021-03-21T13:38:51\", \"2021-03-21T12:49:58\", \"2021-03-21T12:38:32\", \"2021-03-21T12:21:59\", \"2021-03-21T12:08:07\", \"2021-03-21T11:38:55\", \"2021-03-21T11:38:55\", \"2021-03-21T11:25:40\", \"2021-03-21T11:23:51\", \"2021-03-21T11:23:51\", \"2021-03-21T11:12:44\", \"2021-03-21T11:01:23\", \"2021-03-21T10:45:12\", \"2021-03-21T10:31:43\", \"2021-03-21T09:59:18\", \"2021-03-21T09:29:33\", \"2021-03-21T09:27:37\", \"2021-03-21T09:24:46\", \"2021-03-21T09:16:56\", \"2021-03-21T09:15:35\", \"2021-03-21T09:12:56\", \"2021-03-21T09:04:03\", \"2021-03-21T08:49:37\", \"2021-03-21T08:47:20\", \"2021-03-21T07:46:46\", \"2021-03-21T07:29:30\", \"2021-03-21T07:14:37\", \"2021-03-21T07:14:37\", \"2021-03-21T06:52:25\", \"2021-03-21T06:49:16\", \"2021-03-21T06:43:30\", \"2021-03-21T06:30:56\", \"2021-03-21T06:12:33\", \"2021-03-21T06:01:10\", \"2021-03-21T06:01:04\", \"2021-03-21T05:44:15\", \"2021-03-21T05:41:14\", \"2021-03-21T05:21:08\", \"2021-03-21T05:14:02\", \"2021-03-21T05:07:51\", \"2021-03-21T04:34:40\", \"2021-03-21T04:25:23\", \"2021-03-21T04:06:47\", \"2021-03-21T04:05:05\", \"2021-03-21T03:51:47\", \"2021-03-21T03:24:30\", \"2021-03-20T21:16:26\", \"2021-03-20T20:59:21\", \"2021-03-08T05:22:56\", \"2021-03-08T04:46:20\", \"2021-03-08T04:26:25\", \"2021-03-08T03:53:30\", \"2021-03-08T03:52:18\", \"2021-03-08T03:46:58\", \"2021-03-08T03:40:42\", \"2021-03-08T00:34:01\", \"2021-03-08T00:32:51\", \"2021-03-07T20:52:15\", \"2021-03-07T19:14:47\", \"2021-03-07T19:04:32\", \"2021-03-07T18:53:35\", \"2021-03-07T18:42:48\", \"2021-03-07T18:30:09\", \"2021-03-07T18:26:41\", \"2021-03-07T18:21:57\", \"2021-03-07T18:21:36\", \"2021-03-19T14:10:55\", \"2021-03-19T14:00:59\", \"2021-03-19T13:47:12\", \"2021-03-19T13:20:38\", \"2021-03-19T13:19:45\", \"2021-03-19T13:02:30\", \"2021-03-19T12:44:22\", \"2021-03-19T12:39:25\", \"2021-03-19T12:34:40\", \"2021-03-19T12:30:12\", \"2021-03-19T12:26:49\", \"2021-03-19T11:18:47\", \"2021-03-19T11:13:39\", \"2021-03-19T10:29:58\", \"2021-03-19T10:09:25\", \"2021-03-19T09:48:33\", \"2021-03-19T09:32:09\", \"2021-03-19T09:02:55\", \"2021-03-19T08:52:51\", \"2021-03-19T08:44:36\", \"2021-03-19T08:19:26\", \"2021-03-19T07:39:22\", \"2021-03-19T07:28:01\", \"2021-03-19T07:18:31\", \"2021-03-19T07:08:15\", \"2021-03-19T06:59:38\", \"2021-03-19T06:50:52\", \"2021-03-19T06:46:53\", \"2021-03-19T06:46:50\", \"2021-03-19T06:43:43\", \"2021-03-19T05:45:07\", \"2021-03-19T05:41:01\", \"2021-03-19T05:26:25\", \"2021-03-19T05:14:55\", \"2021-03-19T03:29:06\", \"2021-03-19T03:04:23\", \"2021-03-19T02:14:51\", \"2021-03-19T01:39:43\", \"2021-03-18T21:47:12\", \"2021-03-18T20:18:26\", \"2021-03-18T19:06:59\", \"2021-03-18T19:00:17\", \"2021-03-18T18:43:06\", \"2021-03-18T18:28:58\", \"2021-03-18T18:24:01\", \"2021-03-18T18:22:18\", \"2021-03-18T18:04:49\", \"2021-03-18T17:51:25\", \"2021-03-18T17:45:49\", \"2021-03-18T17:42:59\", \"2021-03-18T16:33:37\", \"2021-03-18T16:18:20\", \"2021-03-18T15:38:11\", \"2021-03-18T15:33:31\", \"2021-03-18T15:33:00\", \"2021-03-18T15:22:08\", \"2021-03-18T15:16:50\", \"2021-03-18T14:50:51\", \"2021-03-18T14:45:14\", \"2021-03-18T14:33:38\", \"2021-03-18T14:06:31\", \"2021-03-18T13:33:44\", \"2021-03-18T13:11:26\", \"2021-03-18T13:01:13\", \"2021-03-18T12:45:35\", \"2021-03-18T12:40:38\", \"2021-03-18T12:36:18\", \"2021-03-18T12:24:18\", \"2021-03-18T12:12:44\", \"2021-03-18T11:22:22\", \"2021-03-18T11:09:53\", \"2021-03-18T11:03:11\", \"2021-03-18T10:59:17\", \"2021-03-18T10:56:54\", \"2021-03-18T10:26:37\", \"2021-03-18T10:05:33\", \"2021-03-18T09:40:13\", \"2021-03-18T09:03:52\", \"2021-03-18T08:50:03\", \"2021-03-18T08:47:41\", \"2021-03-18T08:27:11\", \"2021-03-18T08:11:57\", \"2021-03-18T07:57:35\", \"2021-03-18T07:53:42\", \"2021-03-18T07:49:42\", \"2021-03-18T07:46:26\", \"2021-03-18T06:56:58\", \"2021-03-18T06:49:42\", \"2021-03-18T06:39:34\", \"2021-03-18T06:35:41\", \"2021-03-18T06:35:41\", \"2021-03-18T06:35:41\", \"2021-03-18T06:24:01\", \"2021-03-18T06:07:07\", \"2021-03-18T05:57:33\", \"2021-03-18T05:56:31\", \"2021-03-18T05:47:42\", \"2021-03-18T05:20:57\", \"2021-03-18T05:16:55\", \"2021-03-18T03:55:39\", \"2021-03-17T19:40:40\", \"2021-03-17T19:19:29\", \"2021-03-17T19:19:29\", \"2021-03-17T19:11:18\", \"2021-03-17T18:38:26\", \"2021-03-17T18:15:26\", \"2021-03-17T18:09:30\", \"2021-03-17T16:53:00\", \"2021-03-17T16:36:49\", \"2021-03-17T16:20:39\", \"2021-03-17T16:20:07\", \"2021-03-17T16:07:19\", \"2021-03-17T16:01:09\", \"2021-03-17T15:55:28\", \"2021-03-17T15:48:35\", \"2021-03-17T15:31:09\", \"2021-03-17T15:26:53\", \"2021-03-17T15:25:56\", \"2021-03-17T14:46:15\", \"2021-03-17T14:19:08\", \"2021-03-17T14:14:20\", \"2021-03-17T13:48:14\", \"2021-03-17T13:08:51\", \"2021-03-17T12:49:20\", \"2021-03-17T12:47:19\", \"2021-03-17T12:28:50\", \"2021-03-17T12:15:29\", \"2021-03-17T11:37:46\", \"2021-03-17T11:35:04\", \"2021-03-17T11:05:13\", \"2021-03-17T10:39:44\", \"2021-03-17T10:28:52\", \"2021-03-17T10:21:24\", \"2021-03-17T10:18:05\", \"2021-03-17T10:12:24\", \"2021-03-17T09:21:57\", \"2021-03-17T09:01:20\", \"2021-03-17T08:56:05\", \"2021-03-17T08:47:55\", \"2021-03-17T08:21:38\", \"2021-03-17T07:52:57\", \"2021-03-17T07:48:36\", \"2021-03-17T07:45:32\", \"2021-03-17T07:22:07\", \"2021-03-17T07:17:26\", \"2021-03-17T07:15:07\", \"2021-03-17T07:09:30\", \"2021-03-17T06:49:26\", \"2021-03-17T06:40:28\", \"2021-03-17T06:24:18\", \"2021-03-17T05:31:55\", \"2021-03-17T04:53:08\", \"2021-03-17T04:48:24\", \"2021-03-17T04:46:00\", \"2021-03-17T04:45:51\", \"2021-03-17T04:41:03\", \"2021-03-17T04:32:54\", \"2021-03-17T04:31:15\", \"2021-03-17T04:06:35\", \"2021-03-17T04:04:49\", \"2021-03-17T04:01:42\", \"2021-03-17T03:34:31\", \"2021-03-17T03:30:06\", \"2021-03-17T03:06:37\", \"2021-03-17T02:27:55\", \"2021-03-17T02:21:57\", \"2021-03-17T01:57:48\", \"2021-03-17T01:57:48\", \"2021-03-16T23:04:35\", \"2021-03-16T21:43:43\", \"2021-03-16T20:06:20\", \"2021-03-16T19:20:37\", \"2021-03-16T17:37:05\", \"2021-03-16T17:17:39\", \"2021-03-16T16:55:31\", \"2021-03-16T16:26:30\", \"2021-03-16T16:05:05\", \"2021-03-16T15:54:49\", \"2021-03-16T15:53:39\", \"2021-03-16T15:10:47\", \"2021-03-16T14:50:19\", \"2021-03-16T14:04:05\", \"2021-03-16T13:21:50\", \"2021-03-16T12:34:35\", \"2021-03-16T12:11:45\", \"2021-03-16T11:43:34\", \"2021-03-16T11:40:38\", \"2021-03-16T11:35:17\", \"2021-03-16T11:16:14\", \"2021-03-16T10:39:42\", \"2021-03-16T09:38:56\", \"2021-03-16T09:02:24\", \"2021-03-16T09:00:30\", \"2021-03-16T08:54:18\", \"2021-03-16T08:45:15\", \"2021-03-16T08:30:18\", \"2021-03-16T08:11:30\", \"2021-03-16T07:13:37\", \"2021-03-16T07:12:24\", \"2021-03-16T06:47:59\", \"2021-03-16T06:13:05\", \"2021-03-16T05:41:21\", \"2021-03-16T05:31:18\", \"2021-03-16T05:28:59\", \"2021-03-16T05:28:17\", \"2021-03-16T05:22:55\", \"2021-03-16T05:01:03\", \"2021-03-16T04:29:03\", \"2021-03-16T04:21:35\", \"2021-03-16T04:18:08\", \"2021-03-16T03:52:42\", \"2021-03-15T18:51:59\", \"2021-03-15T18:10:22\", \"2021-03-15T17:55:58\", \"2021-03-15T17:51:32\", \"2021-03-15T17:34:04\", \"2021-03-15T17:28:47\", \"2021-03-15T17:11:01\", \"2021-03-15T16:57:54\", \"2021-03-15T16:39:07\", \"2021-03-15T16:36:02\", \"2021-03-15T16:28:04\", \"2021-03-15T16:03:32\", \"2021-03-15T15:09:50\", \"2021-03-15T14:56:55\", \"2021-03-15T14:56:55\", \"2021-03-15T14:46:40\", \"2021-03-15T14:17:22\", \"2021-03-15T14:01:41\", \"2021-03-15T13:59:09\", \"2021-03-15T13:58:01\", \"2021-03-15T13:51:08\", \"2021-03-15T13:34:42\", \"2021-03-15T13:28:34\", \"2021-03-15T13:28:34\", \"2021-03-15T13:20:24\", \"2021-03-15T13:17:43\", \"2021-03-15T13:06:46\", \"2021-03-15T12:47:19\", \"2021-03-15T12:42:48\", \"2021-03-15T12:35:14\", \"2021-03-15T12:24:27\", \"2021-03-15T12:06:38\", \"2021-03-15T11:52:24\", \"2021-03-15T10:33:15\", \"2021-03-15T09:34:30\", \"2021-03-15T09:19:58\", \"2021-03-15T09:08:46\", \"2021-03-15T08:41:56\", \"2021-03-15T08:37:36\", \"2021-03-15T08:37:36\", \"2021-03-15T08:10:53\", \"2021-03-15T08:01:23\", \"2021-03-15T07:53:03\", \"2021-03-15T07:50:03\", \"2021-03-15T07:25:23\", \"2021-03-15T07:13:56\", \"2021-03-15T07:08:09\", \"2021-03-15T07:02:04\", \"2021-03-15T06:52:46\", \"2021-03-15T06:46:13\", \"2021-03-15T06:46:06\", \"2021-03-15T06:34:29\", \"2021-03-15T06:22:41\", \"2021-03-15T06:07:21\", \"2021-03-15T06:00:42\", \"2021-03-15T05:32:38\", \"2021-03-15T05:08:28\", \"2021-03-15T04:25:14\", \"2021-03-15T04:18:06\", \"2021-03-15T04:05:30\", \"2021-03-15T03:59:57\", \"2021-03-15T03:34:20\", \"2021-03-15T03:02:52\", \"2021-03-15T00:52:19\", \"2021-03-14T20:22:38\", \"2021-03-14T20:21:51\", \"2021-03-14T18:59:46\", \"2021-03-14T18:44:21\", \"2021-03-14T18:38:21\", \"2021-03-14T18:37:37\", \"2021-03-14T18:33:20\", \"2021-03-14T17:58:49\", \"2021-03-14T17:34:04\", \"2021-03-14T17:21:08\", \"2021-03-14T17:19:56\", \"2021-03-14T17:12:25\", \"2021-03-14T17:07:15\", \"2021-03-14T16:51:51\", \"2021-03-14T16:45:20\", \"2021-03-14T16:44:42\", \"2021-03-14T16:38:05\", \"2021-03-14T16:31:34\", \"2021-03-14T16:28:29\", \"2021-03-14T16:25:36\", \"2021-03-14T16:17:56\", \"2021-03-14T16:15:42\", \"2021-03-14T16:09:32\", \"2021-03-14T16:06:00\", \"2021-03-14T16:03:41\", \"2021-03-14T15:58:42\", \"2021-03-14T15:54:02\", \"2021-03-14T15:48:14\", \"2021-03-14T15:41:44\", \"2021-03-14T15:35:14\", \"2021-03-14T15:16:53\", \"2021-03-14T15:16:05\", \"2021-03-14T14:59:28\", \"2021-03-14T14:59:04\", \"2021-03-14T14:54:26\", \"2021-03-14T14:49:42\", \"2021-03-14T14:48:01\", \"2021-03-14T14:45:43\", \"2021-03-14T14:17:45\", \"2021-03-14T14:11:48\", \"2021-03-14T14:06:50\", \"2021-03-14T13:59:57\", \"2021-03-14T13:46:29\", \"2021-03-14T12:17:45\", \"2021-03-14T11:43:48\", \"2021-03-14T11:40:52\", \"2021-03-14T11:08:00\", \"2021-03-14T11:01:27\", \"2021-03-14T10:30:23\", \"2021-03-14T10:21:44\", \"2021-03-14T10:04:58\", \"2021-03-14T09:42:06\", \"2021-03-14T09:32:28\", \"2021-03-14T09:27:18\", \"2021-03-14T09:24:04\", \"2021-03-14T09:17:00\", \"2021-03-14T09:11:52\", \"2021-03-14T08:27:23\", \"2021-03-14T07:24:44\", \"2021-03-14T06:58:26\", \"2021-03-14T06:42:04\", \"2021-03-14T06:22:22\", \"2021-03-14T06:11:25\", \"2021-03-14T05:42:08\", \"2021-03-14T05:11:22\", \"2021-03-14T05:11:22\", \"2021-03-14T04:19:22\", \"2021-03-14T03:45:49\", \"2021-03-14T03:40:58\", \"2021-03-14T02:57:44\", \"2021-03-14T00:29:42\", \"2021-03-14T00:15:17\", \"2021-03-14T00:10:42\", \"2021-03-13T23:26:09\", \"2021-03-13T23:09:37\", \"2021-03-13T23:01:17\", \"2021-03-13T22:53:51\", \"2021-03-13T22:41:49\", \"2021-03-13T22:32:43\", \"2021-03-13T20:31:20\", \"2021-03-13T19:48:51\", \"2021-03-13T19:23:59\", \"2021-03-13T17:37:29\", \"2021-03-13T17:35:36\", \"2021-03-13T17:15:07\", \"2021-03-13T17:08:34\", \"2021-03-13T17:06:55\", \"2021-03-13T17:05:49\", \"2021-03-13T17:02:55\", \"2021-03-13T16:51:57\", \"2021-03-13T16:32:32\", \"2021-03-13T16:25:54\", \"2021-03-13T16:11:12\", \"2021-03-13T16:05:42\", \"2021-03-13T15:50:13\", \"2021-03-13T15:47:15\", \"2021-03-13T15:42:26\", \"2021-03-13T15:35:33\", \"2021-03-13T15:24:49\", \"2021-03-13T15:11:38\", \"2021-03-13T15:09:13\", \"2021-03-13T15:08:11\", \"2021-03-13T14:56:38\", \"2021-03-13T14:41:13\", \"2021-03-13T13:34:25\", \"2021-03-13T13:25:31\", \"2021-03-13T13:16:53\", \"2021-03-13T13:15:04\", \"2021-03-13T13:04:06\", \"2021-03-13T12:40:21\", \"2021-03-13T12:31:37\", \"2021-03-13T12:24:36\", \"2021-03-13T12:15:21\", \"2021-03-13T12:12:28\", \"2021-03-13T12:09:44\", \"2021-03-13T11:46:03\", \"2021-03-13T10:15:40\", \"2021-03-13T09:25:03\", \"2021-03-13T09:24:17\", \"2021-03-13T08:51:55\", \"2021-03-13T08:28:15\", \"2021-03-13T08:06:20\", \"2021-03-13T08:00:13\", \"2021-03-13T07:55:08\", \"2021-03-13T07:16:37\", \"2021-03-13T07:01:48\", \"2021-03-13T06:55:33\", \"2021-03-13T06:25:18\", \"2021-03-13T06:16:57\", \"2021-03-13T06:12:18\", \"2021-03-13T05:43:30\", \"2021-03-13T04:31:16\", \"2021-03-13T03:59:01\", \"2021-03-13T03:14:57\", \"2021-03-13T02:41:22\", \"2021-03-12T22:21:07\", \"2021-03-12T22:07:35\", \"2021-03-12T20:49:35\", \"2021-03-12T20:37:11\", \"2021-03-12T20:26:08\", \"2021-03-12T19:57:57\", \"2021-03-12T19:44:17\", \"2021-03-12T18:48:15\", \"2021-03-12T18:15:53\", \"2021-03-12T17:56:12\", \"2021-03-12T16:58:33\", \"2021-03-12T16:54:31\", \"2021-03-12T16:34:48\", \"2021-03-12T16:18:40\", \"2021-03-12T15:50:56\", \"2021-03-12T15:50:39\", \"2021-03-12T15:38:28\", \"2021-03-12T15:31:48\", \"2021-03-12T15:25:59\", \"2021-03-12T15:20:57\", \"2021-03-12T15:19:22\", \"2021-03-12T15:19:00\", \"2021-03-12T14:53:32\", \"2021-03-12T13:58:33\", \"2021-03-12T13:42:40\", \"2021-03-12T13:10:17\", \"2021-03-12T12:55:16\", \"2021-03-12T12:55:16\", \"2021-03-12T12:50:35\", \"2021-03-12T12:33:52\", \"2021-03-12T12:12:42\", \"2021-03-12T11:35:04\", \"2021-03-12T11:20:04\", \"2021-03-12T11:04:55\", \"2021-03-12T11:02:52\", \"2021-03-12T10:57:21\", \"2021-03-12T10:37:56\", \"2021-03-12T10:11:17\", \"2021-03-12T08:37:41\", \"2021-03-12T08:09:00\", \"2021-03-12T07:45:45\", \"2021-03-12T07:42:07\", \"2021-03-12T06:52:04\", \"2021-03-12T06:51:27\", \"2021-03-12T06:19:27\", \"2021-03-12T05:31:11\", \"2021-03-12T05:26:05\", \"2021-03-12T05:13:31\", \"2021-03-12T05:12:00\", \"2021-03-12T05:05:48\", \"2021-03-12T05:04:21\", \"2021-03-12T05:03:31\", \"2021-03-12T04:45:27\", \"2021-03-12T04:38:31\", \"2021-03-12T04:32:07\", \"2021-03-12T04:28:07\", \"2021-03-12T04:26:12\", \"2021-03-12T04:18:43\", \"2021-03-12T03:31:35\", \"2021-03-12T03:13:20\", \"2021-03-12T02:59:21\", \"2021-03-12T01:52:04\", \"2021-03-11T20:22:38\", \"2021-03-11T19:53:38\", \"2021-03-11T19:38:11\", \"2021-03-11T19:11:23\", \"2021-03-11T18:42:39\", \"2021-03-11T18:42:11\", \"2021-03-11T18:06:22\", \"2021-03-11T17:36:43\", \"2021-03-11T17:29:53\", \"2021-03-11T17:12:31\", \"2021-03-11T16:52:30\", \"2021-03-11T16:41:24\", \"2021-03-11T16:16:57\", \"2021-03-11T16:11:35\", \"2021-03-11T16:09:48\", \"2021-03-11T16:07:53\", \"2021-03-11T15:58:26\", \"2021-03-11T15:55:26\", \"2021-03-11T15:47:36\", \"2021-03-11T15:42:15\", \"2021-03-11T15:39:01\", \"2021-03-11T14:54:30\", \"2021-03-11T14:54:30\", \"2021-03-11T14:51:39\", \"2021-03-11T14:35:42\", \"2021-03-11T14:29:46\", \"2021-03-11T14:17:17\", \"2021-03-11T14:11:19\", \"2021-03-11T14:03:52\", \"2021-03-11T13:57:56\", \"2021-03-11T13:57:12\", \"2021-03-11T13:50:07\", \"2021-03-11T13:42:12\", \"2021-03-11T13:26:51\", \"2021-03-11T13:20:13\", \"2021-03-11T12:48:52\", \"2021-03-11T12:44:49\", \"2021-03-11T12:41:27\", \"2021-03-11T12:18:22\", \"2021-03-11T11:29:49\", \"2021-03-11T11:06:44\", \"2021-03-11T11:04:27\", \"2021-03-11T10:08:54\", \"2021-03-11T10:00:22\", \"2021-03-11T09:44:26\", \"2021-03-11T09:39:48\", \"2021-03-11T09:11:45\", \"2021-03-11T08:52:58\", \"2021-03-11T08:49:49\", \"2021-03-11T08:16:29\", \"2021-03-11T08:09:51\", \"2021-03-11T08:02:47\", \"2021-03-11T07:55:27\", \"2021-03-11T07:52:35\", \"2021-03-11T07:29:13\", \"2021-03-11T07:29:13\", \"2021-03-11T07:22:34\", \"2021-03-11T07:11:46\", \"2021-03-11T07:10:13\", \"2021-03-11T06:59:19\", \"2021-03-11T06:54:36\", \"2021-03-11T06:48:14\", \"2021-03-11T06:18:03\", \"2021-03-11T05:53:05\", \"2021-03-11T05:21:22\", \"2021-03-11T05:04:27\", \"2021-03-11T05:00:26\", \"2021-03-11T04:21:29\", \"2021-03-11T04:07:36\", \"2021-03-11T04:05:30\", \"2021-03-11T03:59:07\", \"2021-03-11T03:59:07\", \"2021-03-11T03:59:07\", \"2021-03-11T03:27:33\", \"2021-03-11T02:48:01\", \"2021-03-11T00:42:07\", \"2021-03-10T21:18:21\", \"2021-03-10T20:06:07\", \"2021-03-10T20:02:08\", \"2021-03-10T19:35:39\", \"2021-03-10T19:25:12\", \"2021-03-10T19:09:53\", \"2021-03-10T19:07:51\", \"2021-03-10T19:02:07\", \"2021-03-10T18:54:49\", \"2021-03-10T18:23:19\", \"2021-03-10T17:49:11\", \"2021-03-10T17:09:35\", \"2021-03-10T16:02:48\", \"2021-03-10T15:38:56\", \"2021-03-10T15:38:56\", \"2021-03-10T15:34:36\", \"2021-03-10T15:33:34\", \"2021-03-10T15:26:35\", \"2021-03-10T15:07:48\", \"2021-03-10T14:44:56\", \"2021-03-10T14:24:29\", \"2021-03-10T14:17:48\", \"2021-03-10T14:07:24\", \"2021-03-10T14:03:38\", \"2021-03-10T13:53:32\", \"2021-03-10T13:44:36\", \"2021-03-10T13:43:17\", \"2021-03-10T13:21:43\", \"2021-03-10T13:12:00\", \"2021-03-10T13:06:20\", \"2021-03-10T12:41:23\", \"2021-03-10T12:28:43\", \"2021-03-10T11:22:20\", \"2021-03-10T11:17:58\", \"2021-03-10T11:01:36\", \"2021-03-10T10:38:14\", \"2021-03-10T09:58:52\", \"2021-03-10T09:55:46\", \"2021-03-10T09:43:06\", \"2021-03-10T09:42:39\", \"2021-03-10T09:12:46\", \"2021-03-10T08:39:47\", \"2021-03-10T08:28:57\", \"2021-03-10T08:12:39\", \"2021-03-10T08:03:20\", \"2021-03-10T07:49:50\", \"2021-03-10T07:30:03\", \"2021-03-10T07:22:16\", \"2021-03-10T07:20:14\", \"2021-03-10T07:12:30\", \"2021-03-10T07:02:05\", \"2021-03-10T06:59:01\", \"2021-03-10T06:21:31\", \"2021-03-10T06:06:51\", \"2021-03-10T06:03:05\", \"2021-03-10T05:56:58\", \"2021-03-10T05:37:01\", \"2021-03-10T05:34:16\", \"2021-03-10T05:31:52\", \"2021-03-10T05:21:17\", \"2021-03-10T04:58:43\", \"2021-03-10T04:51:46\", \"2021-03-10T04:17:16\", \"2021-03-10T04:15:41\", \"2021-03-10T03:54:58\", \"2021-03-10T01:40:51\", \"2021-03-09T20:37:06\", \"2021-03-09T20:18:15\", \"2021-03-09T20:06:38\", \"2021-03-09T19:00:24\", \"2021-03-09T18:06:04\", \"2021-03-09T17:59:10\", \"2021-03-09T17:18:07\", \"2021-03-09T17:11:32\", \"2021-03-09T16:35:39\", \"2021-03-09T15:25:02\", \"2021-03-09T15:24:12\", \"2021-03-09T15:09:25\", \"2021-03-09T15:06:18\", \"2021-03-09T14:54:07\", \"2021-03-09T14:12:48\", \"2021-03-09T13:54:57\", \"2021-03-09T13:50:51\", \"2021-03-09T13:47:40\", \"2021-03-09T13:40:29\", \"2021-03-09T13:38:31\", \"2021-03-09T13:24:59\", \"2021-03-09T12:20:11\", \"2021-03-09T12:16:45\", \"2021-03-09T11:41:13\", \"2021-03-09T11:06:54\", \"2021-03-09T10:58:05\", \"2021-03-09T10:51:49\", \"2021-03-09T10:46:48\", \"2021-03-09T10:15:23\", \"2021-03-09T09:47:49\", \"2021-03-09T09:06:42\", \"2021-03-09T08:59:05\", \"2021-03-09T08:49:10\", \"2021-03-09T08:36:16\", \"2021-03-09T08:21:00\", \"2021-03-09T08:15:35\", \"2021-03-09T08:15:04\", \"2021-03-09T08:12:56\", \"2021-03-09T08:06:52\", \"2021-03-09T08:01:43\", \"2021-03-09T07:36:38\", \"2021-03-09T07:30:57\", \"2021-03-09T07:28:36\", \"2021-03-09T07:06:44\", \"2021-03-09T07:01:38\", \"2021-03-09T06:33:36\", \"2021-03-09T06:09:28\", \"2021-03-09T05:51:59\", \"2021-03-09T05:41:29\", \"2021-03-09T05:40:31\", \"2021-03-09T05:10:44\", \"2021-03-09T05:02:29\", \"2021-03-09T04:58:51\", \"2021-03-09T04:58:21\", \"2021-03-09T04:14:25\", \"2021-03-09T01:48:09\", \"2021-03-08T23:40:25\", \"2021-03-08T23:34:46\", \"2021-03-08T19:44:20\", \"2021-03-08T19:17:31\", \"2021-03-08T18:52:33\", \"2021-03-08T18:44:45\", \"2021-03-08T18:43:55\", \"2021-03-08T18:25:19\", \"2021-03-08T18:06:37\", \"2021-03-08T18:05:04\", \"2021-03-08T17:46:20\", \"2021-03-08T17:41:19\", \"2021-03-08T17:23:08\", \"2021-03-08T16:47:17\", \"2021-03-08T16:22:35\", \"2021-03-08T16:20:38\", \"2021-03-08T16:13:54\", \"2021-03-08T16:13:54\", \"2021-03-08T15:59:37\", \"2021-03-08T15:58:56\", \"2021-03-08T15:57:16\", \"2021-03-08T15:54:54\", \"2021-03-08T15:53:21\", \"2021-03-08T15:29:29\", \"2021-03-08T15:16:59\", \"2021-03-08T15:13:12\", \"2021-03-08T15:01:25\", \"2021-03-08T14:54:41\", \"2021-03-08T14:49:22\", \"2021-03-08T14:42:13\", \"2021-03-08T14:31:42\", \"2021-03-08T14:08:41\", \"2021-03-08T13:26:51\", \"2021-03-08T13:20:00\", \"2021-03-08T12:39:44\", \"2021-03-08T12:00:32\", \"2021-03-08T11:54:42\", \"2021-03-08T11:52:06\", \"2021-03-08T11:49:35\", \"2021-03-08T11:18:11\", \"2021-03-08T10:28:08\", \"2021-03-08T10:18:16\", \"2021-03-08T10:14:20\", \"2021-03-08T10:06:10\", \"2021-03-08T09:59:00\", \"2021-03-08T09:07:29\", \"2021-03-08T08:32:08\", \"2021-03-08T08:29:04\", \"2021-03-08T08:24:51\", \"2021-03-08T08:12:42\", \"2021-03-08T07:55:28\", \"2021-03-08T07:25:08\", \"2021-03-08T07:20:57\", \"2021-03-08T06:49:03\", \"2021-03-08T06:45:28\", \"2021-03-08T06:45:28\", \"2021-03-08T06:31:30\", \"2021-03-08T05:37:44\", \"2021-03-08T05:22:56\", \"2021-03-08T04:46:20\", \"2021-03-08T04:26:25\", \"2021-03-08T03:53:30\", \"2021-03-08T03:52:18\", \"2021-03-08T03:46:58\", \"2021-03-08T03:40:42\", \"2021-03-08T00:34:01\", \"2021-03-08T00:32:51\", \"2021-03-07T20:52:15\", \"2021-03-07T19:14:47\", \"2021-03-07T19:04:32\", \"2021-03-07T18:53:35\", \"2021-03-07T18:42:48\", \"2021-03-07T18:30:09\", \"2021-03-07T18:26:41\", \"2021-03-07T18:21:57\", \"2021-03-07T18:21:36\"], \"xaxis\": \"x\", \"y\": [68, 6092, 90, 49, 96, 474, 50, 226, 255, 255, 46, 211, 813, 123, 100, 469, 615, 410, 60, 33336, 1153, 1031, 1519, 652, 4336, 4878, 200, 221, 672, 113, 331, 275, 152, 58, 294, 273, 4909, 653, 5347, 90, 332, 332, 197, 408, 746, 579, 1442, 168, 697, 930, 172, 273, 497, 177, 175, 264, 206, 165, 113, 236, 5015, 151, 303, 318, 756, 629, 383, 51, 68, 392, 760, 760, 380, 42748, 114, 71, 161, 286, 1664, 389, 497, 434, 162, 173, 153, 522, 1350, 979, 442, 3441, 429, 368, 82469, 1569, 1219, 1400, 1927, 1979, 2242, 7155, 343, 293, 1104, 418, 291, 227, 140, 79, 517, 517, 702, 412, 295, 539, 872, 479, 877, 406, 239, 499, 180, 14364, 616, 320, 1480, 1296, 951, 275, 922, 922, 166, 555, 219, 203, 252, 134, 134, 247, 633, 538, 645, 144, 63, 653, 1691, 461, 143, 343, 441, 1233, 373, 456, 1084, 9948, 5954, 1489, 1006, 115, 164, 414, 376, 157, 204, 371, 432, 258, 113, 113, 113, 161, 3254, 488, 498, 216, 136, 161, 1905, 1388, 201, 156, 1697, 2070, 1382, 242, 66, 793, 642, 802, 718, 932, 775, 636, 227, 101, 605, 874, 1941, 129, 129, 292, 333, 1325, 133, 75, 541, 680, 504, 212, 164, 131, 1146, 1146, 700, 228, 835, 120, 257, 516, 506, 1638, 21345, 898, 8278, 8278, 106, 69, 506, 213, 86, 460, 163, 163, 1012, 1661, 619, 285, 559, 913, 66, 151, 456, 95, 336, 158, 1071, 126, 603, 1410, 10517, 10517, 148, 287, 1207, 571, 571, 178, 126, 407, 130, 192, 398, 178, 793, 793, 413, 788, 445, 269, 74239, 651, 647, 444, 1437, 190, 544, 1323, 169, 1124, 167, 191, 221, 207, 1327, 1025, 287, 272, 165, 605, 1294, 1574, 1546, 428, 204, 194, 184, 51, 270, 344, 347, 1636, 218, 128, 180, 121, 109, 219, 62, 132, 129, 89, 55, 178, 437, 528, 4409, 697, 890, 277, 335, 124, 166, 191, 191, 328, 204, 62, 252, 1053, 488, 297, 134, 524, 93, 43, 197, 435, 40, 587, 423, 375, 311, 174, 14539, 2031, 179, 445, 492, 507, 265, 89, 377, 385, 56, 108, 106, 4515, 294, 210, 6771, 7273, 253, 58, 177, 994, 154, 99, 165, 412, 195, 17, 437, 61257, 191, 1088, 333, 128, 305, 101, 56, 299, 175, 245, 132, 2182, 178, 178, 127, 49, 74, 54, 52, 86, 103, 283, 273, 169, 127, 168, 492, 334, 239, 250, 111, 193, 347, 1135, 2973, 147, 97, 204, 143, 153, 86, 82, 1134, 763, 832, 1033, 769, 666, 722, 304, 300, 144, 120, 60, 111, 272, 158, 77, 77, 530, 557, 296, 472, 483, 1993, 1379, 609, 1119, 1727, 877, 2741, 1289, 645, 75, 945, 765, 442, 537, 412, 798, 292, 687, 122, 462, 151, 120, 84, 1059, 77, 253, 198, 412, 452, 532, 193, 68, 143, 329, 369, 617, 520, 149, 79, 97, 645, 379, 323, 329, 443, 197, 209, 457, 2580, 76, 1118, 304, 408, 359, 137, 72, 72, 217, 218, 168, 179, 2758, 178, 322, 57756, 33624, 613, 29236, 39536, 8299, 1030, 14526, 199, 663, 7019, 504, 329, 462, 252, 252, 541, 180, 221, 148, 2724, 240, 346, 524, 689, 484, 709, 241, 639, 234, 89, 63, 445, 119, 191, 191, 517, 418, 442, 140, 57, 359, 1183, 554, 235, 527, 283, 184, 236, 147, 147, 332, 294, 206, 373, 1356, 601, 301, 253, 274, 893, 382, 159, 315, 867, 1060, 755, 129, 274, 1699, 957, 515, 719, 258, 801, 137, 127, 169, 822, 1018, 183, 225, 1206, 818, 1131, 898, 978, 742, 930, 387, 4839, 4839, 16484, 2385, 351, 8942, 1218, 823, 154, 292, 344, 3278, 740, 5050, 4209, 969, 973, 399, 242, 341, 134, 6047, 409, 863, 539, 9597, 39, 1055, 781, 313, 313, 564, 378, 140, 484, 332, 191, 278, 478, 339, 82, 490, 490, 323, 214, 211, 39048, 434, 540, 557, 525, 11874, 157, 370, 710, 5566, 376, 458, 294, 271, 456, 513, 3379, 282, 1989, 2452, 349, 5565, 1361, 252, 116, 377, 125, 1273, 1273, 969, 1113, 997, 525, 562, 1044, 448, 1420, 775, 213, 289, 346, 191, 48, 110, 601, 531, 74, 289, 165, 439, 99, 117, 174, 276, 952, 558, 154, 354, 209, 113, 128, 345, 299, 106, 252, 970, 1159, 1105, 2139, 222, 214, 91, 262, 262, 262, 206, 122, 66, 1834, 1185, 398, 441, 484, 320, 320, 210, 467, 526, 75, 5283, 1194, 217, 477, 473, 14262, 10866, 66, 161, 361, 372, 79, 668, 645, 235, 325, 6370, 1686, 1672, 438, 409, 260, 1067, 572, 248, 316, 391, 75, 694, 1470, 205, 195, 152, 273, 389, 238, 371, 304, 452, 1342, 912, 830, 196, 108, 1315, 1136, 534, 214, 298, 4444, 109, 109, 1348, 180, 66, 1903, 192, 237, 327, 177, 867, 534, 192, 87, 90, 1667, 89, 1833, 258, 258, 366, 366, 207, 73, 53, 301, 322, 322, 267, 6530, 172, 153, 469, 385, 430, 171, 171, 524, 104, 320, 300, 281, 574, 5704, 145, 943, 438, 549, 430, 803, 3456, 7126, 297, 201, 684, 86, 398, 442, 161, 134, 1289, 224, 755, 913, 938, 913, 1141, 999, 323, 1422, 1406, 1947, 269, 1058, 1288, 1472, 789, 312, 592, 982, 1543, 199, 360, 132, 1523, 1523, 904, 503, 801, 51, 89, 15149, 416, 416, 362, 846, 1143, 68002, 355, 504, 232, 447, 518, 723, 156, 388, 216, 141, 729, 488, 160, 236, 140, 1292, 273, 1656, 204, 476, 286, 88, 810, 393, 432, 89, 561, 1284, 352, 115, 1216, 220, 1493, 1493, 476, 409, 768, 177, 267, 557, 592, 575, 3237, 2101, 144, 56, 199, 12323, 6338, 234, 358, 216, 820, 196, 377, 176, 141, 112, 254, 216, 248, 144, 837, 307, 366, 114, 254, 111, 422, 870, 157, 96, 40, 451, 451, 186, 317, 245, 924, 331, 52, 60, 35, 630, 453, 390, 279, 650, 197, 828, 67, 40, 346, 115, 65, 599, 178, 178, 1585, 1585, 54, 123, 85, 48186, 1919, 3452, 13793, 67, 418, 560, 86, 88, 507, 507, 336, 292, 298, 1104, 2378, 1459, 269, 200, 475, 475, 548, 828, 2844, 1975, 543, 571, 683, 4081, 347, 378, 2962, 1398, 959, 2361, 1442, 562, 562, 1354, 2142, 132, 489, 629, 923, 1174, 1026, 668, 495, 1108, 1108, 1025, 4199, 760, 183, 685, 7673, 369, 673, 1511, 229, 302, 332, 730, 255, 425, 229, 172, 224, 960, 841, 218, 165, 163, 317, 128, 293, 241, 266, 257, 2594, 69, 172, 251, 87, 387, 76, 1613, 72, 85, 497, 170, 270, 286, 107, 486, 770, 487, 405, 403, 356, 42634, 76, 129, 241, 726, 825, 133, 173, 47, 811, 423, 180, 307, 307, 121, 270, 329, 1354, 648, 3875, 3875, 225, 225, 216, 393, 368, 104, 1062, 1959, 1630, 1579, 1160, 168, 211, 195, 1707, 1302, 149, 1381, 471, 1604, 674, 2061, 163, 87, 138, 166, 177, 412, 645, 494, 14366, 355, 80, 562, 222, 69, 435, 807, 673, 256, 240, 250, 561, 282, 1245, 594, 195, 70, 351, 87, 133, 495, 646, 3839, 759, 634, 265, 143, 174, 432, 496, 158, 881, 309, 390, 340, 578, 2270, 1761, 24296, 59, 100, 72, 58, 394, 159, 433, 433, 1046, 1413, 404, 827, 456, 879, 628, 87, 304, 961, 200, 215, 644, 91, 251, 251, 98, 121, 379, 108, 4364, 566, 2810, 290, 460, 516, 390, 680, 216, 201, 239, 333, 193, 933, 973, 83, 141, 392, 960, 1565, 446, 393, 166, 229, 80, 213, 263, 544, 1034, 1518, 944, 230, 150, 253, 829, 548, 763, 316, 209, 176, 717, 59, 741, 663, 709, 1100, 700, 538, 925, 1033, 97, 1259, 601, 372, 86, 77, 455, 414, 319, 1155, 374, 365, 280, 295, 402, 259, 196, 152, 65, 271, 991, 248, 787, 168, 353, 94, 329, 877, 205, 1471, 576, 135, 1151, 555, 412, 248, 466, 48, 134, 1299, 99, 75, 198, 279, 235, 190, 204, 88, 86, 633, 730, 650, 622, 1480, 434, 181, 5036, 209, 401, 313, 238, 487, 1419, 1023, 242, 418, 1359, 265, 964, 264, 416, 222, 815, 886, 370, 200, 466, 308, 590, 1210, 739, 928, 49315, 41806, 42973, 462, 2105, 3534, 68, 779, 169, 560, 838, 383, 299, 5801, 435, 131, 140, 166, 38, 991, 1892, 2994, 114, 59, 76, 285, 83, 1597, 114, 291, 114, 68, 476, 191, 156, 722, 429, 333, 593, 144, 624, 556, 1520, 958, 1328, 175, 204, 107, 313, 235, 420, 823, 874, 416, 380, 379, 118, 504, 139, 514, 2822, 460, 676, 1669, 773, 499, 272, 128, 109, 1520, 225, 353, 1721, 1591, 464, 764, 474, 210, 210, 136, 162, 299, 111, 1089, 959, 1169, 473, 397, 904, 286, 265, 211, 597, 597, 817, 333, 333, 172, 943, 360, 260, 563, 112, 94, 658, 102, 168, 178, 546, 347, 219, 80, 271, 168, 168, 238, 138, 366, 304, 509, 401, 106, 239, 125, 107, 362, 102, 345, 95, 261, 251, 977, 230, 84, 117, 633, 2564, 196, 162, 240, 1490, 441, 475, 553, 170, 110, 196, 400, 38, 50, 112, 49, 194, 1656, 1653, 103, 5104, 7007, 102, 82, 1803, 508, 935, 1165, 202, 767, 8904, 480, 142, 469, 265, 198, 208, 1451, 126, 439, 140, 185, 108, 260, 1512, 1051, 1644, 92, 582, 653, 241, 1570, 660, 3007, 683, 294, 170, 1126, 139, 421, 405, 434, 809, 206, 641, 583, 654, 3467, 210, 758, 563, 577, 148, 200, 152, 258, 308, 535, 1127, 81, 488, 382, 224, 329, 627, 151, 173, 618, 303, 327, 452, 239, 35, 246, 495, 346, 906, 350, 111, 600, 401, 424, 359, 253, 312, 814, 571, 571, 571, 86, 191, 152, 1265, 60, 1984, 1128, 52358, 757, 158, 158, 258, 717, 214, 1870, 1065, 94, 560, 241, 312, 366, 1814, 99, 502, 510, 146, 69, 521, 328, 473, 55, 119, 97, 87, 59, 87, 75, 191, 1019, 594, 559, 648, 491, 109, 619, 432, 1516, 117, 1977, 451, 1802, 9108, 334, 144, 575, 1223, 800, 836, 569, 117, 1678, 124, 427, 279, 672, 517, 74, 2323, 182, 63, 373, 441, 1209, 1055, 591, 591, 2023, 297, 123, 472, 263, 813, 299, 4674, 1400, 189, 337, 435, 1515, 906, 127, 306, 823, 47, 141, 374, 355, 647, 111, 313, 572, 240, 453, 451, 270, 608, 686, 338, 177, 538, 591, 537, 48685, 409, 651, 442, 5570, 372, 369, 193, 509, 597, 614, 141, 225, 131, 106, 217, 538, 456, 253, 291, 1574, 1574, 1652, 106, 427, 278, 181, 141, 654, 320, 320, 117, 56, 293, 689, 549, 502, 484, 291, 520, 308, 376, 282, 86, 68, 158, 158, 225, 393, 289, 249, 92, 486, 3488, 420, 330, 942, 168, 443, 3057, 154, 143, 576, 2025, 490, 258, 356, 364, 210, 72, 11809, 4348, 3456, 272, 841, 515, 776, 721, 66, 734, 53, 322, 214, 83, 188, 147, 192, 270, 171, 219, 1746, 70, 209, 743, 231, 288, 633, 170, 158, 207, 151, 959, 921, 284, 358, 551, 36, 269, 238, 401, 215, 59, 175, 237, 409, 212, 370, 89, 158, 254, 295, 3461, 377, 1266, 739, 587, 362, 322, 227, 363, 363, 8477, 5663, 87, 79, 372, 372, 726, 298, 286, 788, 1458, 732, 803, 254, 5697, 987, 618, 302, 174, 362, 54, 670, 60, 297, 371, 300, 99, 2309, 435, 435, 704, 293, 645, 613, 851, 326, 591, 181, 244, 297, 780, 265, 281, 327, 166, 55, 129, 264, 119, 431, 386, 1139, 135, 499, 1401, 276, 370, 227, 204, 913, 508, 321, 43, 529, 34, 146, 72868, 48, 277, 321, 76, 575, 110, 378, 1541, 55, 692, 380, 306, 1149, 221, 297, 287, 456, 7618, 72, 523, 1325, 165, 196, 125, 215, 1567, 310, 624, 266, 150, 324, 411, 819, 149, 98, 98, 156, 855, 1429, 4696, 525, 4446, 860, 372, 105, 95, 193, 1058, 1210, 174, 365, 403, 827, 55, 345, 69, 145, 110, 38, 118, 135, 278, 274, 72, 545, 96, 340, 322, 362, 749, 348, 617, 309, 222, 207, 614, 462, 261, 299, 132, 122, 124, 103, 179, 291, 50, 75, 337, 575, 568, 143, 222, 222, 143, 859, 59, 103, 94, 473, 45, 1363, 663, 1423, 132, 632, 44, 370, 102, 35, 107, 268, 240, 140, 223, 403, 167, 204, 157, 177, 127, 305, 207, 279, 859, 318, 318, 181, 25, 260, 1163, 313, 415, 315, 1276, 142, 13072, 266, 794, 433, 280, 362, 362, 362, 1174, 87, 548, 531, 220, 136, 441, 84, 276, 390, 1693, 2198, 405, 487, 165, 811, 876, 876, 1294, 388, 1748, 867, 86, 166, 550, 330, 154, 196, 47, 66, 190, 89, 349, 408, 112, 830, 336, 317, 747, 42, 648, 49, 630, 314, 107, 178, 133, 116, 134, 122, 973, 497, 239, 146, 519, 985, 386, 825, 428, 233, 1209, 704, 211, 430, 72, 212, 130, 149, 11419, 163, 210, 248, 632, 708, 352, 817, 454, 371, 625, 116, 799, 109, 885, 503, 295, 312, 151, 187, 296, 1543, 124, 1390, 661, 938, 493, 290, 126, 113, 172, 343, 358, 224, 149, 3213, 320, 1041, 208, 95, 722, 106, 316, 210, 522, 519, 126, 352, 184, 419, 1080, 299, 941, 247, 225, 447, 159, 1142, 1333, 88, 148, 77, 575, 525, 581, 177, 403, 245, 2350, 319, 404, 3167, 213, 228, 228, 1159, 941, 2047, 442, 6606, 67, 136, 121, 200, 2704, 152, 302, 71, 511, 14356, 110, 109, 170, 305, 213, 828, 215, 163, 326, 589, 2805, 723, 233, 412, 330, 117, 391, 2290, 601, 672, 124, 2329, 2329, 1609, 438, 633, 2564, 196, 162, 240, 1490, 441, 475, 553, 170, 110, 196, 400, 38, 50, 112, 49, 194], \"yaxis\": \"y\"}],\n",
              "                        {\"legend\": {\"tracegroupgap\": 0}, \"margin\": {\"t\": 60}, \"template\": {\"data\": {\"bar\": [{\"error_x\": {\"color\": \"#2a3f5f\"}, \"error_y\": {\"color\": \"#2a3f5f\"}, \"marker\": {\"line\": {\"color\": \"#E5ECF6\", \"width\": 0.5}}, \"type\": \"bar\"}], \"barpolar\": [{\"marker\": {\"line\": {\"color\": \"#E5ECF6\", \"width\": 0.5}}, \"type\": \"barpolar\"}], \"carpet\": [{\"aaxis\": {\"endlinecolor\": \"#2a3f5f\", \"gridcolor\": \"white\", \"linecolor\": \"white\", \"minorgridcolor\": \"white\", \"startlinecolor\": \"#2a3f5f\"}, \"baxis\": {\"endlinecolor\": \"#2a3f5f\", \"gridcolor\": \"white\", \"linecolor\": \"white\", \"minorgridcolor\": \"white\", \"startlinecolor\": \"#2a3f5f\"}, \"type\": \"carpet\"}], \"choropleth\": [{\"colorbar\": {\"outlinewidth\": 0, \"ticks\": \"\"}, \"type\": \"choropleth\"}], \"contour\": [{\"colorbar\": {\"outlinewidth\": 0, \"ticks\": \"\"}, \"colorscale\": [[0.0, \"#0d0887\"], [0.1111111111111111, \"#46039f\"], [0.2222222222222222, \"#7201a8\"], [0.3333333333333333, \"#9c179e\"], [0.4444444444444444, \"#bd3786\"], [0.5555555555555556, \"#d8576b\"], [0.6666666666666666, \"#ed7953\"], [0.7777777777777778, \"#fb9f3a\"], [0.8888888888888888, \"#fdca26\"], [1.0, \"#f0f921\"]], \"type\": \"contour\"}], \"contourcarpet\": [{\"colorbar\": {\"outlinewidth\": 0, \"ticks\": \"\"}, \"type\": \"contourcarpet\"}], \"heatmap\": [{\"colorbar\": {\"outlinewidth\": 0, \"ticks\": \"\"}, \"colorscale\": [[0.0, \"#0d0887\"], [0.1111111111111111, \"#46039f\"], [0.2222222222222222, \"#7201a8\"], [0.3333333333333333, \"#9c179e\"], [0.4444444444444444, \"#bd3786\"], [0.5555555555555556, \"#d8576b\"], [0.6666666666666666, \"#ed7953\"], [0.7777777777777778, \"#fb9f3a\"], [0.8888888888888888, \"#fdca26\"], [1.0, \"#f0f921\"]], \"type\": \"heatmap\"}], \"heatmapgl\": [{\"colorbar\": {\"outlinewidth\": 0, \"ticks\": \"\"}, \"colorscale\": [[0.0, \"#0d0887\"], [0.1111111111111111, \"#46039f\"], [0.2222222222222222, \"#7201a8\"], [0.3333333333333333, \"#9c179e\"], [0.4444444444444444, \"#bd3786\"], [0.5555555555555556, \"#d8576b\"], [0.6666666666666666, \"#ed7953\"], [0.7777777777777778, \"#fb9f3a\"], [0.8888888888888888, \"#fdca26\"], [1.0, \"#f0f921\"]], \"type\": \"heatmapgl\"}], \"histogram\": [{\"marker\": {\"colorbar\": {\"outlinewidth\": 0, \"ticks\": \"\"}}, \"type\": \"histogram\"}], \"histogram2d\": [{\"colorbar\": {\"outlinewidth\": 0, \"ticks\": \"\"}, \"colorscale\": [[0.0, \"#0d0887\"], [0.1111111111111111, \"#46039f\"], [0.2222222222222222, \"#7201a8\"], [0.3333333333333333, \"#9c179e\"], [0.4444444444444444, \"#bd3786\"], [0.5555555555555556, \"#d8576b\"], [0.6666666666666666, \"#ed7953\"], [0.7777777777777778, \"#fb9f3a\"], [0.8888888888888888, \"#fdca26\"], [1.0, \"#f0f921\"]], \"type\": \"histogram2d\"}], \"histogram2dcontour\": [{\"colorbar\": {\"outlinewidth\": 0, \"ticks\": \"\"}, \"colorscale\": [[0.0, \"#0d0887\"], [0.1111111111111111, \"#46039f\"], [0.2222222222222222, \"#7201a8\"], [0.3333333333333333, \"#9c179e\"], [0.4444444444444444, \"#bd3786\"], [0.5555555555555556, \"#d8576b\"], [0.6666666666666666, \"#ed7953\"], [0.7777777777777778, \"#fb9f3a\"], [0.8888888888888888, \"#fdca26\"], [1.0, \"#f0f921\"]], \"type\": \"histogram2dcontour\"}], \"mesh3d\": [{\"colorbar\": {\"outlinewidth\": 0, \"ticks\": \"\"}, \"type\": \"mesh3d\"}], \"parcoords\": [{\"line\": {\"colorbar\": {\"outlinewidth\": 0, \"ticks\": \"\"}}, \"type\": \"parcoords\"}], \"pie\": [{\"automargin\": true, \"type\": \"pie\"}], \"scatter\": [{\"marker\": {\"colorbar\": {\"outlinewidth\": 0, \"ticks\": \"\"}}, \"type\": \"scatter\"}], \"scatter3d\": [{\"line\": {\"colorbar\": {\"outlinewidth\": 0, \"ticks\": \"\"}}, \"marker\": {\"colorbar\": {\"outlinewidth\": 0, \"ticks\": \"\"}}, \"type\": \"scatter3d\"}], \"scattercarpet\": [{\"marker\": {\"colorbar\": {\"outlinewidth\": 0, \"ticks\": \"\"}}, \"type\": \"scattercarpet\"}], \"scattergeo\": [{\"marker\": {\"colorbar\": {\"outlinewidth\": 0, \"ticks\": \"\"}}, \"type\": \"scattergeo\"}], \"scattergl\": [{\"marker\": {\"colorbar\": {\"outlinewidth\": 0, \"ticks\": \"\"}}, \"type\": \"scattergl\"}], \"scattermapbox\": [{\"marker\": {\"colorbar\": {\"outlinewidth\": 0, \"ticks\": \"\"}}, \"type\": \"scattermapbox\"}], \"scatterpolar\": [{\"marker\": {\"colorbar\": {\"outlinewidth\": 0, \"ticks\": \"\"}}, \"type\": \"scatterpolar\"}], \"scatterpolargl\": [{\"marker\": {\"colorbar\": {\"outlinewidth\": 0, \"ticks\": \"\"}}, \"type\": \"scatterpolargl\"}], \"scatterternary\": [{\"marker\": {\"colorbar\": {\"outlinewidth\": 0, \"ticks\": \"\"}}, \"type\": \"scatterternary\"}], \"surface\": [{\"colorbar\": {\"outlinewidth\": 0, \"ticks\": \"\"}, \"colorscale\": [[0.0, \"#0d0887\"], [0.1111111111111111, \"#46039f\"], [0.2222222222222222, \"#7201a8\"], [0.3333333333333333, \"#9c179e\"], [0.4444444444444444, \"#bd3786\"], [0.5555555555555556, \"#d8576b\"], [0.6666666666666666, \"#ed7953\"], [0.7777777777777778, \"#fb9f3a\"], [0.8888888888888888, \"#fdca26\"], [1.0, \"#f0f921\"]], \"type\": \"surface\"}], \"table\": [{\"cells\": {\"fill\": {\"color\": \"#EBF0F8\"}, \"line\": {\"color\": \"white\"}}, \"header\": {\"fill\": {\"color\": \"#C8D4E3\"}, \"line\": {\"color\": \"white\"}}, \"type\": \"table\"}]}, \"layout\": {\"annotationdefaults\": {\"arrowcolor\": \"#2a3f5f\", \"arrowhead\": 0, \"arrowwidth\": 1}, \"coloraxis\": {\"colorbar\": {\"outlinewidth\": 0, \"ticks\": \"\"}}, \"colorscale\": {\"diverging\": [[0, \"#8e0152\"], [0.1, \"#c51b7d\"], [0.2, \"#de77ae\"], [0.3, \"#f1b6da\"], [0.4, \"#fde0ef\"], [0.5, \"#f7f7f7\"], [0.6, \"#e6f5d0\"], [0.7, \"#b8e186\"], [0.8, \"#7fbc41\"], [0.9, \"#4d9221\"], [1, \"#276419\"]], \"sequential\": [[0.0, \"#0d0887\"], [0.1111111111111111, \"#46039f\"], [0.2222222222222222, \"#7201a8\"], [0.3333333333333333, \"#9c179e\"], [0.4444444444444444, \"#bd3786\"], [0.5555555555555556, \"#d8576b\"], [0.6666666666666666, \"#ed7953\"], [0.7777777777777778, \"#fb9f3a\"], [0.8888888888888888, \"#fdca26\"], [1.0, \"#f0f921\"]], \"sequentialminus\": [[0.0, \"#0d0887\"], [0.1111111111111111, \"#46039f\"], [0.2222222222222222, \"#7201a8\"], [0.3333333333333333, \"#9c179e\"], [0.4444444444444444, \"#bd3786\"], [0.5555555555555556, \"#d8576b\"], [0.6666666666666666, \"#ed7953\"], [0.7777777777777778, \"#fb9f3a\"], [0.8888888888888888, \"#fdca26\"], [1.0, \"#f0f921\"]]}, \"colorway\": [\"#636efa\", \"#EF553B\", \"#00cc96\", \"#ab63fa\", \"#FFA15A\", \"#19d3f3\", \"#FF6692\", \"#B6E880\", \"#FF97FF\", \"#FECB52\"], \"font\": {\"color\": \"#2a3f5f\"}, \"geo\": {\"bgcolor\": \"white\", \"lakecolor\": \"white\", \"landcolor\": \"#E5ECF6\", \"showlakes\": true, \"showland\": true, \"subunitcolor\": \"white\"}, \"hoverlabel\": {\"align\": \"left\"}, \"hovermode\": \"closest\", \"mapbox\": {\"style\": \"light\"}, \"paper_bgcolor\": \"white\", \"plot_bgcolor\": \"#E5ECF6\", \"polar\": {\"angularaxis\": {\"gridcolor\": \"white\", \"linecolor\": \"white\", \"ticks\": \"\"}, \"bgcolor\": \"#E5ECF6\", \"radialaxis\": {\"gridcolor\": \"white\", \"linecolor\": \"white\", \"ticks\": \"\"}}, \"scene\": {\"xaxis\": {\"backgroundcolor\": \"#E5ECF6\", \"gridcolor\": \"white\", \"gridwidth\": 2, \"linecolor\": \"white\", \"showbackground\": true, \"ticks\": \"\", \"zerolinecolor\": \"white\"}, \"yaxis\": {\"backgroundcolor\": \"#E5ECF6\", \"gridcolor\": \"white\", \"gridwidth\": 2, \"linecolor\": \"white\", \"showbackground\": true, \"ticks\": \"\", \"zerolinecolor\": \"white\"}, \"zaxis\": {\"backgroundcolor\": \"#E5ECF6\", \"gridcolor\": \"white\", \"gridwidth\": 2, \"linecolor\": \"white\", \"showbackground\": true, \"ticks\": \"\", \"zerolinecolor\": \"white\"}}, \"shapedefaults\": {\"line\": {\"color\": \"#2a3f5f\"}}, \"ternary\": {\"aaxis\": {\"gridcolor\": \"white\", \"linecolor\": \"white\", \"ticks\": \"\"}, \"baxis\": {\"gridcolor\": \"white\", \"linecolor\": \"white\", \"ticks\": \"\"}, \"bgcolor\": \"#E5ECF6\", \"caxis\": {\"gridcolor\": \"white\", \"linecolor\": \"white\", \"ticks\": \"\"}}, \"title\": {\"x\": 0.05}, \"xaxis\": {\"automargin\": true, \"gridcolor\": \"white\", \"linecolor\": \"white\", \"ticks\": \"\", \"title\": {\"standoff\": 15}, \"zerolinecolor\": \"white\", \"zerolinewidth\": 2}, \"yaxis\": {\"automargin\": true, \"gridcolor\": \"white\", \"linecolor\": \"white\", \"ticks\": \"\", \"title\": {\"standoff\": 15}, \"zerolinecolor\": \"white\", \"zerolinewidth\": 2}}}, \"xaxis\": {\"anchor\": \"y\", \"domain\": [0.0, 1.0], \"title\": {\"text\": \"Date\"}}, \"yaxis\": {\"anchor\": \"x\", \"domain\": [0.0, 1.0], \"title\": {\"text\": \"Response Time\"}}},\n",
              "                        {\"responsive\": true}\n",
              "                    ).then(function(){\n",
              "                            \n",
              "var gd = document.getElementById('74b0e2cd-8177-4d16-b8d0-f24c16a2d7c6');\n",
              "var x = new MutationObserver(function (mutations, observer) {{\n",
              "        var display = window.getComputedStyle(gd).display;\n",
              "        if (!display || display === 'none') {{\n",
              "            console.log([gd, 'removed!']);\n",
              "            Plotly.purge(gd);\n",
              "            observer.disconnect();\n",
              "        }}\n",
              "}});\n",
              "\n",
              "// Listen for the removal of the full notebook cells\n",
              "var notebookContainer = gd.closest('#notebook-container');\n",
              "if (notebookContainer) {{\n",
              "    x.observe(notebookContainer, {childList: true});\n",
              "}}\n",
              "\n",
              "// Listen for the clearing of the current output cell\n",
              "var outputEl = gd.closest('.output');\n",
              "if (outputEl) {{\n",
              "    x.observe(outputEl, {childList: true});\n",
              "}}\n",
              "\n",
              "                        })\n",
              "                };\n",
              "                \n",
              "            </script>\n",
              "        </div>\n",
              "</body>\n",
              "</html>"
            ]
          },
          "metadata": {
            "tags": []
          }
        }
      ]
    },
    {
      "cell_type": "code",
      "metadata": {
        "colab": {
          "base_uri": "https://localhost:8080/"
        },
        "id": "WqVd2uUBJhK7",
        "outputId": "e4fcbee5-4409-45a0-855b-d1ea1fa4dbf7"
      },
      "source": [
        "from random import sample\n",
        "\n",
        "sample30ran=sample(replymentiontweet1,30)\n",
        "len(sample30ran)"
      ],
      "execution_count": 231,
      "outputs": [
        {
          "output_type": "execute_result",
          "data": {
            "text/plain": [
              "30"
            ]
          },
          "metadata": {
            "tags": []
          },
          "execution_count": 231
        }
      ]
    },
    {
      "cell_type": "code",
      "metadata": {
        "colab": {
          "base_uri": "https://localhost:8080/"
        },
        "id": "cOwzsrL7bUZm",
        "outputId": "98538daf-c994-4a91-a806-dcadb90ce5cf"
      },
      "source": [
        "thirtytext=[]\n",
        "for i in sample30ran:\n",
        "  thirtytext.append(i.full_text)\n",
        "len(thirtytext)"
      ],
      "execution_count": 232,
      "outputs": [
        {
          "output_type": "execute_result",
          "data": {
            "text/plain": [
              "30"
            ]
          },
          "metadata": {
            "tags": []
          },
          "execution_count": 232
        }
      ]
    },
    {
      "cell_type": "code",
      "metadata": {
        "id": "Oio5ntshcYjv"
      },
      "source": [
        "for i in thirtytext:\n",
        "  print(i)\n",
        "  print()\n",
        "  print()"
      ],
      "execution_count": null,
      "outputs": []
    },
    {
      "cell_type": "code",
      "metadata": {
        "id": "I3M4sPteMJSt"
      },
      "source": [
        ""
      ],
      "execution_count": null,
      "outputs": []
    },
    {
      "cell_type": "code",
      "metadata": {
        "id": "t-iIQoGq1xzK"
      },
      "source": [
        ""
      ],
      "execution_count": null,
      "outputs": []
    }
  ]
}
